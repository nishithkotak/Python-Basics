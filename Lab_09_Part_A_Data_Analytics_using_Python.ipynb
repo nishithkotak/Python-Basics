{
  "nbformat": 4,
  "nbformat_minor": 0,
  "metadata": {
    "colab": {
      "name": "Lab 09_Part A_Data Analytics using Python.ipynb",
      "provenance": []
    },
    "kernelspec": {
      "name": "python3",
      "display_name": "Python 3"
    },
    "language_info": {
      "name": "python"
    }
  },
  "cells": [
    {
      "cell_type": "code",
      "metadata": {
        "id": "-C3e0b21RqoP"
      },
      "source": [
        "#Basics of the data declaration"
      ],
      "execution_count": 1,
      "outputs": []
    },
    {
      "cell_type": "code",
      "metadata": {
        "id": "78bbwMIkSdl7"
      },
      "source": [
        "import numpy as np"
      ],
      "execution_count": 2,
      "outputs": []
    },
    {
      "cell_type": "code",
      "metadata": {
        "colab": {
          "base_uri": "https://localhost:8080/"
        },
        "id": "9uCGBsX7SsCw",
        "outputId": "5fc8893b-50a2-4937-f638-daa5f3bfda56"
      },
      "source": [
        "a=np.array([[1,2],[3,4]])\n",
        "print(a)"
      ],
      "execution_count": 3,
      "outputs": [
        {
          "output_type": "stream",
          "name": "stdout",
          "text": [
            "[[1 2]\n",
            " [3 4]]\n"
          ]
        }
      ]
    },
    {
      "cell_type": "code",
      "metadata": {
        "colab": {
          "base_uri": "https://localhost:8080/"
        },
        "id": "WAvSv3VSTTWJ",
        "outputId": "cea07e64-b5a1-4bc7-b286-6859a229fe4c"
      },
      "source": [
        "#minimum number of dimensions as 2\n",
        "a=np.array([1,2,3,4,5],ndmin=3)\n",
        "print(a)"
      ],
      "execution_count": 5,
      "outputs": [
        {
          "output_type": "stream",
          "name": "stdout",
          "text": [
            "[[[1 2 3 4 5]]]\n"
          ]
        }
      ]
    },
    {
      "cell_type": "code",
      "metadata": {
        "colab": {
          "base_uri": "https://localhost:8080/"
        },
        "id": "B_RNOSDCTpY6",
        "outputId": "0a35db50-de11-4f59-b15b-8d8a8796ea85"
      },
      "source": [
        "#numbers as complex numbers: a+bj\n",
        "np.array([1,2,3,4,5],dtype=complex)"
      ],
      "execution_count": 6,
      "outputs": [
        {
          "output_type": "execute_result",
          "data": {
            "text/plain": [
              "array([1.+0.j, 2.+0.j, 3.+0.j, 4.+0.j, 5.+0.j])"
            ]
          },
          "metadata": {},
          "execution_count": 6
        }
      ]
    },
    {
      "cell_type": "code",
      "metadata": {
        "id": "yj2p1ecUUXEE"
      },
      "source": [
        "#pandas library: pandas series\n",
        "import numpy as np\n",
        "import pandas as pd\n",
        "\n",
        "data=np.array(['a','b','c','d'])"
      ],
      "execution_count": 7,
      "outputs": []
    },
    {
      "cell_type": "code",
      "metadata": {
        "colab": {
          "base_uri": "https://localhost:8080/"
        },
        "id": "7YZFy_efUyV3",
        "outputId": "879432b4-fcfd-485b-b6fe-104938dd3ab4"
      },
      "source": [
        "data"
      ],
      "execution_count": 8,
      "outputs": [
        {
          "output_type": "execute_result",
          "data": {
            "text/plain": [
              "array(['a', 'b', 'c', 'd'], dtype='<U1')"
            ]
          },
          "metadata": {},
          "execution_count": 8
        }
      ]
    },
    {
      "cell_type": "code",
      "metadata": {
        "colab": {
          "base_uri": "https://localhost:8080/"
        },
        "id": "o8RGf09UUyxH",
        "outputId": "470d4d80-92aa-44ba-f300-104e6222a1db"
      },
      "source": [
        "pd.Series(data)"
      ],
      "execution_count": 9,
      "outputs": [
        {
          "output_type": "execute_result",
          "data": {
            "text/plain": [
              "0    a\n",
              "1    b\n",
              "2    c\n",
              "3    d\n",
              "dtype: object"
            ]
          },
          "metadata": {},
          "execution_count": 9
        }
      ]
    },
    {
      "cell_type": "code",
      "metadata": {
        "colab": {
          "base_uri": "https://localhost:8080/",
          "height": 172
        },
        "id": "SULhdFbjVFcq",
        "outputId": "07f5ee39-7999-41b7-b6c8-a9d6dd990a63"
      },
      "source": [
        "data={'Name':['rahul','virat','sachin','ishan'],'scores':[100,85,58,41]}\n",
        "pd.DataFrame(data)"
      ],
      "execution_count": 10,
      "outputs": [
        {
          "output_type": "execute_result",
          "data": {
            "text/html": [
              "<div>\n",
              "<style scoped>\n",
              "    .dataframe tbody tr th:only-of-type {\n",
              "        vertical-align: middle;\n",
              "    }\n",
              "\n",
              "    .dataframe tbody tr th {\n",
              "        vertical-align: top;\n",
              "    }\n",
              "\n",
              "    .dataframe thead th {\n",
              "        text-align: right;\n",
              "    }\n",
              "</style>\n",
              "<table border=\"1\" class=\"dataframe\">\n",
              "  <thead>\n",
              "    <tr style=\"text-align: right;\">\n",
              "      <th></th>\n",
              "      <th>Name</th>\n",
              "      <th>scores</th>\n",
              "    </tr>\n",
              "  </thead>\n",
              "  <tbody>\n",
              "    <tr>\n",
              "      <th>0</th>\n",
              "      <td>rahul</td>\n",
              "      <td>100</td>\n",
              "    </tr>\n",
              "    <tr>\n",
              "      <th>1</th>\n",
              "      <td>virat</td>\n",
              "      <td>85</td>\n",
              "    </tr>\n",
              "    <tr>\n",
              "      <th>2</th>\n",
              "      <td>sachin</td>\n",
              "      <td>58</td>\n",
              "    </tr>\n",
              "    <tr>\n",
              "      <th>3</th>\n",
              "      <td>ishan</td>\n",
              "      <td>41</td>\n",
              "    </tr>\n",
              "  </tbody>\n",
              "</table>\n",
              "</div>"
            ],
            "text/plain": [
              "     Name  scores\n",
              "0   rahul     100\n",
              "1   virat      85\n",
              "2  sachin      58\n",
              "3   ishan      41"
            ]
          },
          "metadata": {},
          "execution_count": 10
        }
      ]
    },
    {
      "cell_type": "code",
      "metadata": {
        "colab": {
          "base_uri": "https://localhost:8080/",
          "height": 172
        },
        "id": "G0cOO5tCU83c",
        "outputId": "e8c9a707-a0ac-41e9-c28f-848d00089c56"
      },
      "source": [
        "pd.DataFrame(data,index=['rank 1','rank 2','rank 3','rank 4'])"
      ],
      "execution_count": 11,
      "outputs": [
        {
          "output_type": "execute_result",
          "data": {
            "text/html": [
              "<div>\n",
              "<style scoped>\n",
              "    .dataframe tbody tr th:only-of-type {\n",
              "        vertical-align: middle;\n",
              "    }\n",
              "\n",
              "    .dataframe tbody tr th {\n",
              "        vertical-align: top;\n",
              "    }\n",
              "\n",
              "    .dataframe thead th {\n",
              "        text-align: right;\n",
              "    }\n",
              "</style>\n",
              "<table border=\"1\" class=\"dataframe\">\n",
              "  <thead>\n",
              "    <tr style=\"text-align: right;\">\n",
              "      <th></th>\n",
              "      <th>Name</th>\n",
              "      <th>scores</th>\n",
              "    </tr>\n",
              "  </thead>\n",
              "  <tbody>\n",
              "    <tr>\n",
              "      <th>rank 1</th>\n",
              "      <td>rahul</td>\n",
              "      <td>100</td>\n",
              "    </tr>\n",
              "    <tr>\n",
              "      <th>rank 2</th>\n",
              "      <td>virat</td>\n",
              "      <td>85</td>\n",
              "    </tr>\n",
              "    <tr>\n",
              "      <th>rank 3</th>\n",
              "      <td>sachin</td>\n",
              "      <td>58</td>\n",
              "    </tr>\n",
              "    <tr>\n",
              "      <th>rank 4</th>\n",
              "      <td>ishan</td>\n",
              "      <td>41</td>\n",
              "    </tr>\n",
              "  </tbody>\n",
              "</table>\n",
              "</div>"
            ],
            "text/plain": [
              "          Name  scores\n",
              "rank 1   rahul     100\n",
              "rank 2   virat      85\n",
              "rank 3  sachin      58\n",
              "rank 4   ishan      41"
            ]
          },
          "metadata": {},
          "execution_count": 11
        }
      ]
    },
    {
      "cell_type": "markdown",
      "metadata": {
        "id": "GKtpaV7jW6V_"
      },
      "source": [
        "Data Cleansing"
      ]
    },
    {
      "cell_type": "code",
      "metadata": {
        "id": "AOy9eLgAXEza"
      },
      "source": [
        "#declaration of random numbers\n",
        "np.random.randn(5,3)"
      ],
      "execution_count": null,
      "outputs": []
    },
    {
      "cell_type": "code",
      "metadata": {
        "id": "p5wEbYnqWEhu"
      },
      "source": [
        "data=pd.DataFrame(np.random.randn(5,3),index=['a','c','d','f','h'],columns=['one','two','three'])"
      ],
      "execution_count": 17,
      "outputs": []
    },
    {
      "cell_type": "code",
      "metadata": {
        "id": "xeoG-rbXX-qs"
      },
      "source": [
        "#create empty cells for missing values\n",
        "data=data.reindex(['a','b','c','d','e','f','g','h'])"
      ],
      "execution_count": 19,
      "outputs": []
    },
    {
      "cell_type": "code",
      "metadata": {
        "id": "gp7TnYVDYUVO"
      },
      "source": [
        "data"
      ],
      "execution_count": null,
      "outputs": []
    },
    {
      "cell_type": "code",
      "metadata": {
        "id": "cAZuKEBqYVDW"
      },
      "source": [
        "data['one'].isnull()"
      ],
      "execution_count": null,
      "outputs": []
    },
    {
      "cell_type": "code",
      "metadata": {
        "id": "66nZ0c2qY7NP"
      },
      "source": [
        "#NaN: not a number\n",
        "#fill the NaN field\n",
        "data.fillna(2)"
      ],
      "execution_count": null,
      "outputs": []
    },
    {
      "cell_type": "code",
      "metadata": {
        "id": "CDX6aaJ5ZUf-"
      },
      "source": [
        "a=data.fillna(data.mean())"
      ],
      "execution_count": 31,
      "outputs": []
    },
    {
      "cell_type": "code",
      "metadata": {
        "id": "AuWnM7o6Z3qV"
      },
      "source": [
        "data.fillna(data.mean())"
      ],
      "execution_count": null,
      "outputs": []
    },
    {
      "cell_type": "code",
      "metadata": {
        "id": "Y1JRMWJuaVxu"
      },
      "source": [
        "data"
      ],
      "execution_count": null,
      "outputs": []
    },
    {
      "cell_type": "code",
      "metadata": {
        "id": "1cdWvNFwaxY5"
      },
      "source": [
        "data.fillna(method='pad') #padding the NaN value with reference to the previous row"
      ],
      "execution_count": null,
      "outputs": []
    },
    {
      "cell_type": "code",
      "metadata": {
        "id": "JPNo97ixbBUJ"
      },
      "source": [
        "data.fillna(method='bfill') #padding the NaN value with reference to the next row"
      ],
      "execution_count": null,
      "outputs": []
    },
    {
      "cell_type": "code",
      "metadata": {
        "id": "nJzptqslbU96"
      },
      "source": [
        "data"
      ],
      "execution_count": null,
      "outputs": []
    },
    {
      "cell_type": "code",
      "metadata": {
        "id": "7brL-Z7EcmD1"
      },
      "source": [
        "data.dropna()"
      ],
      "execution_count": null,
      "outputs": []
    },
    {
      "cell_type": "code",
      "metadata": {
        "colab": {
          "base_uri": "https://localhost:8080/",
          "height": 294
        },
        "id": "K6xiP0m-cpJW",
        "outputId": "37a6e735-7186-476e-c6bc-53469c855341"
      },
      "source": [
        "data.describe()  #description of the data"
      ],
      "execution_count": 40,
      "outputs": [
        {
          "output_type": "execute_result",
          "data": {
            "text/html": [
              "<div>\n",
              "<style scoped>\n",
              "    .dataframe tbody tr th:only-of-type {\n",
              "        vertical-align: middle;\n",
              "    }\n",
              "\n",
              "    .dataframe tbody tr th {\n",
              "        vertical-align: top;\n",
              "    }\n",
              "\n",
              "    .dataframe thead th {\n",
              "        text-align: right;\n",
              "    }\n",
              "</style>\n",
              "<table border=\"1\" class=\"dataframe\">\n",
              "  <thead>\n",
              "    <tr style=\"text-align: right;\">\n",
              "      <th></th>\n",
              "      <th>one</th>\n",
              "      <th>two</th>\n",
              "      <th>three</th>\n",
              "    </tr>\n",
              "  </thead>\n",
              "  <tbody>\n",
              "    <tr>\n",
              "      <th>count</th>\n",
              "      <td>5.000000</td>\n",
              "      <td>5.000000</td>\n",
              "      <td>5.000000</td>\n",
              "    </tr>\n",
              "    <tr>\n",
              "      <th>mean</th>\n",
              "      <td>0.264395</td>\n",
              "      <td>0.796868</td>\n",
              "      <td>0.045839</td>\n",
              "    </tr>\n",
              "    <tr>\n",
              "      <th>std</th>\n",
              "      <td>0.858218</td>\n",
              "      <td>1.039886</td>\n",
              "      <td>1.117508</td>\n",
              "    </tr>\n",
              "    <tr>\n",
              "      <th>min</th>\n",
              "      <td>-1.089644</td>\n",
              "      <td>-0.144386</td>\n",
              "      <td>-1.192281</td>\n",
              "    </tr>\n",
              "    <tr>\n",
              "      <th>25%</th>\n",
              "      <td>-0.088123</td>\n",
              "      <td>-0.111545</td>\n",
              "      <td>-0.983406</td>\n",
              "    </tr>\n",
              "    <tr>\n",
              "      <th>50%</th>\n",
              "      <td>0.733348</td>\n",
              "      <td>0.620412</td>\n",
              "      <td>0.210679</td>\n",
              "    </tr>\n",
              "    <tr>\n",
              "      <th>75%</th>\n",
              "      <td>0.846378</td>\n",
              "      <td>1.294872</td>\n",
              "      <td>0.809413</td>\n",
              "    </tr>\n",
              "    <tr>\n",
              "      <th>max</th>\n",
              "      <td>0.920017</td>\n",
              "      <td>2.324984</td>\n",
              "      <td>1.384792</td>\n",
              "    </tr>\n",
              "  </tbody>\n",
              "</table>\n",
              "</div>"
            ],
            "text/plain": [
              "            one       two     three\n",
              "count  5.000000  5.000000  5.000000\n",
              "mean   0.264395  0.796868  0.045839\n",
              "std    0.858218  1.039886  1.117508\n",
              "min   -1.089644 -0.144386 -1.192281\n",
              "25%   -0.088123 -0.111545 -0.983406\n",
              "50%    0.733348  0.620412  0.210679\n",
              "75%    0.846378  1.294872  0.809413\n",
              "max    0.920017  2.324984  1.384792"
            ]
          },
          "metadata": {},
          "execution_count": 40
        }
      ]
    },
    {
      "cell_type": "markdown",
      "metadata": {
        "id": "4uIhRUXOdZDD"
      },
      "source": [
        "Visualization of the data"
      ]
    },
    {
      "cell_type": "code",
      "metadata": {
        "id": "Eib5g3fIdAtw"
      },
      "source": [
        "#Line graph"
      ],
      "execution_count": 41,
      "outputs": []
    },
    {
      "cell_type": "code",
      "metadata": {
        "id": "KxhPdtmie53l"
      },
      "source": [
        "import matplotlib.pyplot as plt"
      ],
      "execution_count": 42,
      "outputs": []
    },
    {
      "cell_type": "code",
      "metadata": {
        "colab": {
          "base_uri": "https://localhost:8080/",
          "height": 312
        },
        "id": "1F4MBKb9fILv",
        "outputId": "c2679466-f677-4d9e-d30c-6bea5160601a"
      },
      "source": [
        "#line graph showing characteristic of square of a number. X vs Y: X vs X**2\n",
        "x=np.arange(0,10)\n",
        "y=x**2\n",
        "#print(x,y)\n",
        "plt.plot(x,y,'g')\n",
        "z=x+8\n",
        "plt.plot(x,z,'r')\n",
        "plt.title('Demonstration of line graph')\n",
        "plt.xlabel('X-Axis')\n",
        "plt.ylabel('Y-Axis')\n",
        "plt.legend(['square','add by 8'],loc=3)"
      ],
      "execution_count": 57,
      "outputs": [
        {
          "output_type": "execute_result",
          "data": {
            "text/plain": [
              "<matplotlib.legend.Legend at 0x7f3373dfebd0>"
            ]
          },
          "metadata": {},
          "execution_count": 57
        },
        {
          "output_type": "display_data",
          "data": {
            "image/png": "[encoded data removed]",
            "text/plain": [
              "<Figure size 432x288 with 1 Axes>"
            ]
          },
          "metadata": {
            "needs_background": "light"
          }
        }
      ]
    },
    {
      "cell_type": "code",
      "metadata": {
        "id": "vjMcLjMWfeKe"
      },
      "source": [
        "#bar chart"
      ],
      "execution_count": 58,
      "outputs": []
    },
    {
      "cell_type": "code",
      "metadata": {
        "colab": {
          "base_uri": "https://localhost:8080/",
          "height": 312
        },
        "id": "j3pDU35ohRNE",
        "outputId": "d29fc6ab-e99d-4392-95d1-576600beffb7"
      },
      "source": [
        "x=[1,2,3,4,5]\n",
        "marks=[10,15,7,45,21]\n",
        "labels=['no.1','no.2','no.3','no.4','no.5']\n",
        "plt.bar(x,marks,width=0.8,tick_label=labels,color=['red','green'])\n",
        "plt.xlabel('Roll Number')\n",
        "plt.ylabel('marks')\n",
        "plt.title('marks obtained by the student')"
      ],
      "execution_count": 63,
      "outputs": [
        {
          "output_type": "execute_result",
          "data": {
            "text/plain": [
              "Text(0.5, 1.0, 'marks obtained by the student')"
            ]
          },
          "metadata": {},
          "execution_count": 63
        },
        {
          "output_type": "display_data",
          "data": {
            "image/png": "[encoded data removed]",
            "text/plain": [
              "<Figure size 432x288 with 1 Axes>"
            ]
          },
          "metadata": {
            "needs_background": "light"
          }
        }
      ]
    },
    {
      "cell_type": "code",
      "metadata": {
        "id": "E1_ms4nFh5Zy"
      },
      "source": [
        "#scatter plot"
      ],
      "execution_count": 64,
      "outputs": []
    },
    {
      "cell_type": "code",
      "metadata": {
        "colab": {
          "base_uri": "https://localhost:8080/",
          "height": 312
        },
        "id": "gJQ4dhVvicza",
        "outputId": "10619d29-24e9-486a-8bec-f394ab8d4c49"
      },
      "source": [
        "x=[1,2,3,4,5,6,7,8,9,10]\n",
        "y=[2,1,3,1,6,3,7,8,2,7]\n",
        "plt.scatter(x,y,marker='*',color='red',s=25)\n",
        "plt.xlabel('roll number')\n",
        "plt.ylabel('marks')\n",
        "plt.title('scatter plot')\n",
        "plt.legend('marks')"
      ],
      "execution_count": 74,
      "outputs": [
        {
          "output_type": "execute_result",
          "data": {
            "text/plain": [
              "<matplotlib.legend.Legend at 0x7f3373dc8550>"
            ]
          },
          "metadata": {},
          "execution_count": 74
        },
        {
          "output_type": "display_data",
          "data": {
            "image/png": "[encoded data removed]",
            "text/plain": [
              "<Figure size 432x288 with 1 Axes>"
            ]
          },
          "metadata": {
            "needs_background": "light"
          }
        }
      ]
    },
    {
      "cell_type": "code",
      "metadata": {
        "id": "PeilrkrUjIVr"
      },
      "source": [
        "#pie chart"
      ],
      "execution_count": 75,
      "outputs": []
    },
    {
      "cell_type": "code",
      "metadata": {
        "colab": {
          "base_uri": "https://localhost:8080/",
          "height": 326
        },
        "id": "1hh0koDej4Qy",
        "outputId": "e14186b0-0ab6-4605-fb70-5ae9c33989c7"
      },
      "source": [
        "activities=['work','eat','play','sleep','gossip']\n",
        "hours=[8,2,4,8,2]\n",
        "plt.pie(hours,labels=activities,radius=1.5,explode=(0,0,0.1,0,0))\n",
        "plt.legend()"
      ],
      "execution_count": 81,
      "outputs": [
        {
          "output_type": "execute_result",
          "data": {
            "text/plain": [
              "<matplotlib.legend.Legend at 0x7f3373641110>"
            ]
          },
          "metadata": {},
          "execution_count": 81
        },
        {
          "output_type": "display_data",
          "data": {
            "image/png": "[encoded data removed]",
            "text/plain": [
              "<Figure size 432x288 with 1 Axes>"
            ]
          },
          "metadata": {}
        }
      ]
    },
    {
      "cell_type": "code",
      "metadata": {
        "id": "5_2AIowQke7J"
      },
      "source": [
        ""
      ],
      "execution_count": null,
      "outputs": []
    }
  ]
}