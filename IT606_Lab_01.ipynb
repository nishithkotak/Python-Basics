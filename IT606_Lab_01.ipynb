{
  "nbformat": 4,
  "nbformat_minor": 0,
  "metadata": {
    "colab": {
      "name": "IT606_Lab_01.ipynb",
      "provenance": []
    },
    "kernelspec": {
      "name": "python3",
      "display_name": "Python 3"
    },
    "language_info": {
      "name": "python"
    }
  },
  "cells": [
    {
      "cell_type": "code",
      "metadata": {
        "id": "H_ksstHZ9788"
      },
      "source": [
        "#ipynb: interactive python notebook"
      ],
      "execution_count": 1,
      "outputs": []
    },
    {
      "cell_type": "markdown",
      "metadata": {
        "id": "sbKu7liX_SIn"
      },
      "source": [
        "Print function\n"
      ]
    },
    {
      "cell_type": "code",
      "metadata": {
        "colab": {
          "base_uri": "https://localhost:8080/"
        },
        "id": "1VwCOwIe_PrM",
        "outputId": "e984e08c-44a2-4359-fe16-8818ba05b69a"
      },
      "source": [
        "print(\"Welcome to DAIICT\")"
      ],
      "execution_count": 2,
      "outputs": [
        {
          "output_type": "stream",
          "name": "stdout",
          "text": [
            "Welcome to DAIICT\n"
          ]
        }
      ]
    },
    {
      "cell_type": "code",
      "metadata": {
        "colab": {
          "base_uri": "https://localhost:8080/"
        },
        "id": "E0vN6AeE_bJY",
        "outputId": "b1d031ea-ab81-4c37-e388-4fff48a02851"
      },
      "source": [
        "print(\"Sachin Tendulkar\")"
      ],
      "execution_count": 3,
      "outputs": [
        {
          "output_type": "stream",
          "name": "stdout",
          "text": [
            "Sachin Tendulkar\n"
          ]
        }
      ]
    },
    {
      "cell_type": "code",
      "metadata": {
        "colab": {
          "base_uri": "https://localhost:8080/"
        },
        "id": "4FatBSqu_l5r",
        "outputId": "4fef1ffb-5b97-4f9a-d285-74f1e60626d3"
      },
      "source": [
        "print(\"Sachin\",\"Tendulkar\")"
      ],
      "execution_count": 4,
      "outputs": [
        {
          "output_type": "stream",
          "name": "stdout",
          "text": [
            "Sachin Tendulkar\n"
          ]
        }
      ]
    },
    {
      "cell_type": "markdown",
      "metadata": {
        "id": "9e5scZgI_4AN"
      },
      "source": [
        "For the strings, \"+\" acts as concatenation operator"
      ]
    },
    {
      "cell_type": "code",
      "metadata": {
        "colab": {
          "base_uri": "https://localhost:8080/"
        },
        "id": "KEioVaOv_rtx",
        "outputId": "065c5e36-8d39-4c1b-ce2d-e0a127fc2604"
      },
      "source": [
        "print(\"Sachin\"+\"Tendulkar\")"
      ],
      "execution_count": 5,
      "outputs": [
        {
          "output_type": "stream",
          "name": "stdout",
          "text": [
            "SachinTendulkar\n"
          ]
        }
      ]
    },
    {
      "cell_type": "code",
      "metadata": {
        "colab": {
          "base_uri": "https://localhost:8080/"
        },
        "id": "S5r4Vc-SQKso",
        "outputId": "cea8febf-4d8a-4ee4-e02b-1b868218f13b"
      },
      "source": [
        "print(1+2)  #int"
      ],
      "execution_count": 6,
      "outputs": [
        {
          "output_type": "stream",
          "name": "stdout",
          "text": [
            "3\n"
          ]
        }
      ]
    },
    {
      "cell_type": "code",
      "metadata": {
        "colab": {
          "base_uri": "https://localhost:8080/"
        },
        "id": "_EWt06cJQlC6",
        "outputId": "f9842f9c-22e5-4850-e57d-d7c6346f7c8b"
      },
      "source": [
        "print(1+2.1)"
      ],
      "execution_count": 7,
      "outputs": [
        {
          "output_type": "stream",
          "name": "stdout",
          "text": [
            "3.1\n"
          ]
        }
      ]
    },
    {
      "cell_type": "code",
      "metadata": {
        "colab": {
          "base_uri": "https://localhost:8080/"
        },
        "id": "_uNwVm7YQanQ",
        "outputId": "2bc532f1-0c78-443a-ef0c-389a2867f8d7"
      },
      "source": [
        "print(1.0+2.0)  #float"
      ],
      "execution_count": 8,
      "outputs": [
        {
          "output_type": "stream",
          "name": "stdout",
          "text": [
            "3.0\n"
          ]
        }
      ]
    },
    {
      "cell_type": "code",
      "metadata": {
        "colab": {
          "base_uri": "https://localhost:8080/"
        },
        "id": "cUZcvBrNQQbg",
        "outputId": "64f0ab79-382e-4978-ede3-8c43f6de5561"
      },
      "source": [
        "print('1'+'2')   #characters"
      ],
      "execution_count": 9,
      "outputs": [
        {
          "output_type": "stream",
          "name": "stdout",
          "text": [
            "12\n"
          ]
        }
      ]
    },
    {
      "cell_type": "markdown",
      "metadata": {
        "id": "S0Qz1DYYAHNj"
      },
      "source": [
        "Separator--> sep----> whatever you want in between the words, put it as separator... By default, sep=' ' i.e. a space\n"
      ]
    },
    {
      "cell_type": "code",
      "metadata": {
        "colab": {
          "base_uri": "https://localhost:8080/"
        },
        "id": "5hSL7kJJ_2Ne",
        "outputId": "e26d2329-7302-43ff-b71f-5484edf0585a"
      },
      "source": [
        "print(\"Neeraj\",\"Chopra\",sep='#')"
      ],
      "execution_count": 10,
      "outputs": [
        {
          "output_type": "stream",
          "name": "stdout",
          "text": [
            "Neeraj#Chopra\n"
          ]
        }
      ]
    },
    {
      "cell_type": "markdown",
      "metadata": {
        "id": "4Ab9vodDBIyz"
      },
      "source": [
        "For displaying the string, you can use single or double quotes"
      ]
    },
    {
      "cell_type": "code",
      "metadata": {
        "colab": {
          "base_uri": "https://localhost:8080/"
        },
        "id": "Ex4N9SgVAdvL",
        "outputId": "b0930d74-2235-438e-aae0-5f919c619a50"
      },
      "source": [
        "print('Neeraj Chopra')"
      ],
      "execution_count": 11,
      "outputs": [
        {
          "output_type": "stream",
          "name": "stdout",
          "text": [
            "Neeraj Chopra\n"
          ]
        }
      ]
    },
    {
      "cell_type": "code",
      "metadata": {
        "colab": {
          "base_uri": "https://localhost:8080/"
        },
        "id": "b5wshKg1A-Nt",
        "outputId": "e9716ddd-0ecd-4ee1-ce30-2d6f5f691fa8"
      },
      "source": [
        "print(\"'neeraj chopra'\")"
      ],
      "execution_count": 12,
      "outputs": [
        {
          "output_type": "stream",
          "name": "stdout",
          "text": [
            "'neeraj chopra'\n"
          ]
        }
      ]
    },
    {
      "cell_type": "code",
      "metadata": {
        "colab": {
          "base_uri": "https://localhost:8080/"
        },
        "id": "RAiOu61uBSwv",
        "outputId": "39897eb0-9720-4818-977f-0536a25e9de7"
      },
      "source": [
        "print('\"neeraj chopra\"')"
      ],
      "execution_count": 13,
      "outputs": [
        {
          "output_type": "stream",
          "name": "stdout",
          "text": [
            "\"neeraj chopra\"\n"
          ]
        }
      ]
    },
    {
      "cell_type": "code",
      "metadata": {
        "colab": {
          "base_uri": "https://localhost:8080/"
        },
        "id": "jkqAb5nsBYtb",
        "outputId": "018c512b-fd21-4b97-e5fe-ec4ca6a49f0d"
      },
      "source": [
        "print('\"neeraj\"',\"'chopra'\")"
      ],
      "execution_count": 14,
      "outputs": [
        {
          "output_type": "stream",
          "name": "stdout",
          "text": [
            "\"neeraj\" 'chopra'\n"
          ]
        }
      ]
    },
    {
      "cell_type": "markdown",
      "metadata": {
        "id": "Bt8T-N5jCD-b"
      },
      "source": [
        "use of end in print function"
      ]
    },
    {
      "cell_type": "code",
      "metadata": {
        "colab": {
          "base_uri": "https://localhost:8080/"
        },
        "id": "HhDvAO5dBgXF",
        "outputId": "7173af15-7073-44de-c4fa-2e8277287dce"
      },
      "source": [
        "print(\"Nishith\",\"Kotak\",sep=\"*\",end=\"^\")"
      ],
      "execution_count": 15,
      "outputs": [
        {
          "output_type": "stream",
          "name": "stdout",
          "text": [
            "Nishith*Kotak^"
          ]
        }
      ]
    },
    {
      "cell_type": "code",
      "metadata": {
        "colab": {
          "base_uri": "https://localhost:8080/"
        },
        "id": "d1LY3LBbCSrk",
        "outputId": "3ebf9b22-ff20-47c4-e68c-7586a6b12a2d"
      },
      "source": [
        "print(\"Hello\",\"Nishith\",\"Kotak\",sep=\"*\",end=\"^\")"
      ],
      "execution_count": 16,
      "outputs": [
        {
          "output_type": "stream",
          "name": "stdout",
          "text": [
            "Hello*Nishith*Kotak^"
          ]
        }
      ]
    },
    {
      "cell_type": "code",
      "metadata": {
        "colab": {
          "base_uri": "https://localhost:8080/"
        },
        "id": "AfsseCEcCiEU",
        "outputId": "750a2db5-db5d-4e4f-db8e-0170045c1bd5"
      },
      "source": [
        "print(\"Hello\",\"Nishith\",\"Kotak\",sep=\"*\",end=\"^\")"
      ],
      "execution_count": 17,
      "outputs": [
        {
          "output_type": "stream",
          "name": "stdout",
          "text": [
            "Hello*Nishith*Kotak^"
          ]
        }
      ]
    },
    {
      "cell_type": "code",
      "metadata": {
        "colab": {
          "base_uri": "https://localhost:8080/"
        },
        "id": "4NoDjq-DCv_m",
        "outputId": "b8fdddec-4da3-48c0-eba9-41bb24941fad"
      },
      "source": [
        "print(\"Hello Nishith Kotak\",sep=\"*\",end=\"^\")"
      ],
      "execution_count": 18,
      "outputs": [
        {
          "output_type": "stream",
          "name": "stdout",
          "text": [
            "Hello Nishith Kotak^"
          ]
        }
      ]
    },
    {
      "cell_type": "markdown",
      "metadata": {
        "id": "xivdQ5S2D-Kd"
      },
      "source": [
        "Escape CHARACTERS--> \\n,\\t                \n",
        "\\n: New line                  \n",
        "\\t: Tab"
      ]
    },
    {
      "cell_type": "code",
      "metadata": {
        "colab": {
          "base_uri": "https://localhost:8080/"
        },
        "id": "p3JoavUADsL6",
        "outputId": "6d49d208-0b0e-4e29-af3c-6a40876e2861"
      },
      "source": [
        "print(\"Nishith\\nKotak\\nHello\")"
      ],
      "execution_count": 19,
      "outputs": [
        {
          "output_type": "stream",
          "name": "stdout",
          "text": [
            "Nishith\n",
            "Kotak\n",
            "Hello\n"
          ]
        }
      ]
    },
    {
      "cell_type": "code",
      "metadata": {
        "colab": {
          "base_uri": "https://localhost:8080/"
        },
        "id": "SMb29ERRETq3",
        "outputId": "568303f8-755f-44ce-eff1-cb665f631b99"
      },
      "source": [
        "print(\"Nishith\",\"Kotak\",\"Hello\",sep=\"\\n\")"
      ],
      "execution_count": 20,
      "outputs": [
        {
          "output_type": "stream",
          "name": "stdout",
          "text": [
            "Nishith\n",
            "Kotak\n",
            "Hello\n"
          ]
        }
      ]
    },
    {
      "cell_type": "code",
      "metadata": {
        "colab": {
          "base_uri": "https://localhost:8080/"
        },
        "id": "0kUFImaPEic5",
        "outputId": "daf09957-c440-4149-ed4c-8d6d3ec659c8"
      },
      "source": [
        "print(\"Virat Kohli\")\n",
        "print(\"Virat\\tKohli\")"
      ],
      "execution_count": 21,
      "outputs": [
        {
          "output_type": "stream",
          "name": "stdout",
          "text": [
            "Virat Kohli\n",
            "Virat\tKohli\n"
          ]
        }
      ]
    },
    {
      "cell_type": "code",
      "metadata": {
        "colab": {
          "base_uri": "https://localhost:8080/"
        },
        "id": "ljxsEPIcEqWA",
        "outputId": "e78d1220-369b-4533-a3a7-9ced99868385"
      },
      "source": [
        "print(\"Virat\",\"Kohli\",sep=\"\\t\")"
      ],
      "execution_count": 22,
      "outputs": [
        {
          "output_type": "stream",
          "name": "stdout",
          "text": [
            "Virat\tKohli\n"
          ]
        }
      ]
    },
    {
      "cell_type": "code",
      "metadata": {
        "colab": {
          "base_uri": "https://localhost:8080/"
        },
        "id": "tmwSkMkuEyv9",
        "outputId": "16e120e8-f259-4663-9812-8187c5840720"
      },
      "source": [
        "print(\"\\\\t\")"
      ],
      "execution_count": 23,
      "outputs": [
        {
          "output_type": "stream",
          "name": "stdout",
          "text": [
            "\\t\n"
          ]
        }
      ]
    },
    {
      "cell_type": "code",
      "metadata": {
        "colab": {
          "base_uri": "https://localhost:8080/"
        },
        "id": "HWNa3bN9E8ZH",
        "outputId": "27ebe959-eeb6-4d5d-afcd-25be4058196f"
      },
      "source": [
        "print(\"\\\\\")"
      ],
      "execution_count": 24,
      "outputs": [
        {
          "output_type": "stream",
          "name": "stdout",
          "text": [
            "\\\n"
          ]
        }
      ]
    },
    {
      "cell_type": "code",
      "metadata": {
        "colab": {
          "base_uri": "https://localhost:8080/"
        },
        "id": "qXWYIKMJFMnj",
        "outputId": "5f3e2a6f-87d6-4f9d-cfa6-786eabe55ce9"
      },
      "source": [
        "print(\"ABC\\nPQR\\nXYZ\")"
      ],
      "execution_count": 25,
      "outputs": [
        {
          "output_type": "stream",
          "name": "stdout",
          "text": [
            "ABC\n",
            "PQR\n",
            "XYZ\n"
          ]
        }
      ]
    },
    {
      "cell_type": "code",
      "metadata": {
        "colab": {
          "base_uri": "https://localhost:8080/"
        },
        "id": "y7PrIBCuFbiT",
        "outputId": "5c970c03-afe3-4ced-e65a-0ef9f5777b38"
      },
      "source": [
        "print(\"ABC\\nPQR\\tXYZ\")"
      ],
      "execution_count": 26,
      "outputs": [
        {
          "output_type": "stream",
          "name": "stdout",
          "text": [
            "ABC\n",
            "PQR\tXYZ\n"
          ]
        }
      ]
    },
    {
      "cell_type": "code",
      "metadata": {
        "colab": {
          "base_uri": "https://localhost:8080/"
        },
        "id": "yMT5psdfFprS",
        "outputId": "92e81243-0f02-41e5-f414-c03d6be8d229"
      },
      "source": [
        "print(\"ABC\\\\nPQR\\\\tXYZ\")"
      ],
      "execution_count": 27,
      "outputs": [
        {
          "output_type": "stream",
          "name": "stdout",
          "text": [
            "ABC\\nPQR\\tXYZ\n"
          ]
        }
      ]
    },
    {
      "cell_type": "code",
      "metadata": {
        "colab": {
          "base_uri": "https://localhost:8080/"
        },
        "id": "yud7vJCHFt6d",
        "outputId": "6c641563-1e9d-4b0b-ede2-86f9a89764db"
      },
      "source": [
        "print(\"ABC\\nPQR\\tXYZ\")\n",
        "print(\"with r\")\n",
        "print(r\"ABC\\nPQR\\tXYZ\")  #r-->raw format    #--> single line comment"
      ],
      "execution_count": 28,
      "outputs": [
        {
          "output_type": "stream",
          "name": "stdout",
          "text": [
            "ABC\n",
            "PQR\tXYZ\n",
            "with r\n",
            "ABC\\nPQR\\tXYZ\n"
          ]
        }
      ]
    },
    {
      "cell_type": "code",
      "metadata": {
        "colab": {
          "base_uri": "https://localhost:8080/"
        },
        "id": "XcAMLbdcF0mF",
        "outputId": "77eed44a-a8b1-4e09-9e9f-61f4277f56aa"
      },
      "source": [
        "print(\"Virat\",\"Kohli\",\"hello\",sep=\"\\t\")               \n",
        "print(\"Sachin\",\"Tendulkar\",\"hello\",sep=\"\\t\")      #homework.... Why????"
      ],
      "execution_count": 29,
      "outputs": [
        {
          "output_type": "stream",
          "name": "stdout",
          "text": [
            "Virat\tKohli\thello\n",
            "Sachin\tTendulkar\thello\n"
          ]
        }
      ]
    },
    {
      "cell_type": "markdown",
      "metadata": {
        "id": "lVkiu1EuLVhY"
      },
      "source": [
        "print using format specifiers    index starts from 0"
      ]
    },
    {
      "cell_type": "code",
      "metadata": {
        "colab": {
          "base_uri": "https://localhost:8080/"
        },
        "id": "3iVZnR4sKZld",
        "outputId": "5429c0c5-4165-4feb-808c-28efada14911"
      },
      "source": [
        "print(\"I am {} studying {} at {}. I am from {}\".format(\"student\",\"python\",\"DAIICT\",\"Gujarat\"))"
      ],
      "execution_count": 30,
      "outputs": [
        {
          "output_type": "stream",
          "name": "stdout",
          "text": [
            "I am student studying python at DAIICT. I am from Gujarat\n"
          ]
        }
      ]
    },
    {
      "cell_type": "code",
      "metadata": {
        "colab": {
          "base_uri": "https://localhost:8080/"
        },
        "id": "k8mOFelgPejl",
        "outputId": "b16623a6-b5d5-482d-a075-9d9a4dd89d17"
      },
      "source": [
        "print(\"I am {1} studying {0} at {3}. I am from {2}\".format(\"student\",\"python\",\"DAIICT\",\"Gujarat\"))"
      ],
      "execution_count": 31,
      "outputs": [
        {
          "output_type": "stream",
          "name": "stdout",
          "text": [
            "I am python studying student at Gujarat. I am from DAIICT\n"
          ]
        }
      ]
    },
    {
      "cell_type": "code",
      "metadata": {
        "colab": {
          "base_uri": "https://localhost:8080/"
        },
        "id": "rco2S_OxPuDq",
        "outputId": "a727b2b6-4a85-413b-d358-2ddc62e45191"
      },
      "source": [
        "print(\"I am {1} studying {1} at {1}. I am from {1}\".format(\"student\",\"python\",\"DAIICT\",\"Gujarat\"))"
      ],
      "execution_count": 32,
      "outputs": [
        {
          "output_type": "stream",
          "name": "stdout",
          "text": [
            "I am python studying python at python. I am from python\n"
          ]
        }
      ]
    },
    {
      "cell_type": "markdown",
      "metadata": {
        "id": "DXmHydAkQCVJ"
      },
      "source": [
        "Input function.... By default, input is in string... External Type casting\n",
        "evaluate---> eval"
      ]
    },
    {
      "cell_type": "code",
      "metadata": {
        "colab": {
          "base_uri": "https://localhost:8080/"
        },
        "id": "xYlP-HHJQ3VL",
        "outputId": "3d372aaa-400d-4580-c2dd-8cddd13ef677"
      },
      "source": [
        "x=input(\"plz enter the number: \")"
      ],
      "execution_count": 33,
      "outputs": [
        {
          "name": "stdout",
          "output_type": "stream",
          "text": [
            "plz enter the number: 5\n"
          ]
        }
      ]
    },
    {
      "cell_type": "code",
      "metadata": {
        "colab": {
          "base_uri": "https://localhost:8080/"
        },
        "id": "dK8TiLPrQ8LP",
        "outputId": "32bbcd28-d1b6-4b3a-d4ca-954444a6def0"
      },
      "source": [
        "x=int(input(\"plz enter the number: \"))"
      ],
      "execution_count": 34,
      "outputs": [
        {
          "name": "stdout",
          "output_type": "stream",
          "text": [
            "plz enter the number: 5\n"
          ]
        }
      ]
    },
    {
      "cell_type": "code",
      "metadata": {
        "colab": {
          "base_uri": "https://localhost:8080/"
        },
        "id": "49etWZBfR5Bv",
        "outputId": "9ce119cf-96fb-4593-d5b9-9187d49575a1"
      },
      "source": [
        "x=input(\"plz enter the number: \")"
      ],
      "execution_count": 35,
      "outputs": [
        {
          "name": "stdout",
          "output_type": "stream",
          "text": [
            "plz enter the number: 5\n"
          ]
        }
      ]
    },
    {
      "cell_type": "code",
      "metadata": {
        "colab": {
          "base_uri": "https://localhost:8080/"
        },
        "id": "cuUNcnVYR8U_",
        "outputId": "c53d9129-ce82-4f79-d9e7-d1310ca284c1"
      },
      "source": [
        "print(x)"
      ],
      "execution_count": 36,
      "outputs": [
        {
          "output_type": "stream",
          "name": "stdout",
          "text": [
            "5\n"
          ]
        }
      ]
    },
    {
      "cell_type": "code",
      "metadata": {
        "colab": {
          "base_uri": "https://localhost:8080/"
        },
        "id": "J9_ZkVaOYtIA",
        "outputId": "dc55f084-ba9f-4547-d6e8-b62bb6d1f632"
      },
      "source": [
        "type(x)"
      ],
      "execution_count": 37,
      "outputs": [
        {
          "output_type": "execute_result",
          "data": {
            "text/plain": [
              "str"
            ]
          },
          "metadata": {},
          "execution_count": 37
        }
      ]
    },
    {
      "cell_type": "code",
      "metadata": {
        "colab": {
          "base_uri": "https://localhost:8080/"
        },
        "id": "EZ7q6w6xQ_ui",
        "outputId": "cf4436f1-cbce-4bad-caf6-83d0d841b5f7"
      },
      "source": [
        "x=float(input(\"plz enter the number: \"))"
      ],
      "execution_count": 38,
      "outputs": [
        {
          "name": "stdout",
          "output_type": "stream",
          "text": [
            "plz enter the number: 5.2\n"
          ]
        }
      ]
    },
    {
      "cell_type": "code",
      "metadata": {
        "colab": {
          "base_uri": "https://localhost:8080/"
        },
        "id": "DjDv-vYcRNwk",
        "outputId": "436d80cf-b17e-4b8a-ed02-2bb70a1811ec"
      },
      "source": [
        "x=eval(input(\"plz enter the number: \"))"
      ],
      "execution_count": 39,
      "outputs": [
        {
          "name": "stdout",
          "output_type": "stream",
          "text": [
            "plz enter the number: 2.8\n"
          ]
        }
      ]
    },
    {
      "cell_type": "code",
      "metadata": {
        "colab": {
          "base_uri": "https://localhost:8080/"
        },
        "id": "omBBOk1YRVfF",
        "outputId": "1046d716-4e06-4923-a4cc-ad54120f0b77"
      },
      "source": [
        "x"
      ],
      "execution_count": 40,
      "outputs": [
        {
          "output_type": "execute_result",
          "data": {
            "text/plain": [
              "2.8"
            ]
          },
          "metadata": {},
          "execution_count": 40
        }
      ]
    },
    {
      "cell_type": "code",
      "metadata": {
        "colab": {
          "base_uri": "https://localhost:8080/"
        },
        "id": "VlhYH2RqSLlH",
        "outputId": "2275683d-784b-401e-ba23-d312881e5c48"
      },
      "source": [
        "x=eval(input(\"enter the expression: \"))"
      ],
      "execution_count": 41,
      "outputs": [
        {
          "name": "stdout",
          "output_type": "stream",
          "text": [
            "enter the expression: 5+2-3\n"
          ]
        }
      ]
    },
    {
      "cell_type": "code",
      "metadata": {
        "colab": {
          "base_uri": "https://localhost:8080/"
        },
        "id": "AaeVJjKNSfFB",
        "outputId": "cbc16b58-1774-4b51-b152-44861fe4379b"
      },
      "source": [
        "x"
      ],
      "execution_count": 42,
      "outputs": [
        {
          "output_type": "execute_result",
          "data": {
            "text/plain": [
              "4"
            ]
          },
          "metadata": {},
          "execution_count": 42
        }
      ]
    },
    {
      "cell_type": "code",
      "metadata": {
        "id": "3RvZK9m8SiAE"
      },
      "source": [
        "x=2\n",
        "y=1"
      ],
      "execution_count": 43,
      "outputs": []
    },
    {
      "cell_type": "code",
      "metadata": {
        "id": "_ahzt0jnSzLY"
      },
      "source": [
        "x,y,z=2,1,5"
      ],
      "execution_count": 44,
      "outputs": []
    },
    {
      "cell_type": "code",
      "metadata": {
        "colab": {
          "base_uri": "https://localhost:8080/"
        },
        "id": "QDTqT6M4SuLL",
        "outputId": "795d2272-2d97-4941-bd0d-c30d03e93050"
      },
      "source": [
        "x+y+z"
      ],
      "execution_count": 45,
      "outputs": [
        {
          "output_type": "execute_result",
          "data": {
            "text/plain": [
              "8"
            ]
          },
          "metadata": {},
          "execution_count": 45
        }
      ]
    },
    {
      "cell_type": "markdown",
      "metadata": {
        "id": "8bR_CUa9TDc4"
      },
      "source": [
        "swapping values of two variables"
      ]
    },
    {
      "cell_type": "code",
      "metadata": {
        "id": "4dgy6293Svg_"
      },
      "source": [
        "x,y=2,1"
      ],
      "execution_count": 46,
      "outputs": []
    },
    {
      "cell_type": "code",
      "metadata": {
        "id": "GnDU3JhaTHfu"
      },
      "source": [
        "temp=x\n",
        "x=y\n",
        "y=temp"
      ],
      "execution_count": 47,
      "outputs": []
    },
    {
      "cell_type": "code",
      "metadata": {
        "colab": {
          "base_uri": "https://localhost:8080/"
        },
        "id": "sG3vE_vbTL-k",
        "outputId": "285ced61-6bb9-4b5c-d062-96abf8660ff4"
      },
      "source": [
        "print(x)\n",
        "print(y)"
      ],
      "execution_count": 48,
      "outputs": [
        {
          "output_type": "stream",
          "name": "stdout",
          "text": [
            "1\n",
            "2\n"
          ]
        }
      ]
    },
    {
      "cell_type": "code",
      "metadata": {
        "id": "u3MeCwhnTOKh"
      },
      "source": [
        "x,y=y,x"
      ],
      "execution_count": 49,
      "outputs": []
    },
    {
      "cell_type": "code",
      "metadata": {
        "colab": {
          "base_uri": "https://localhost:8080/"
        },
        "id": "CKNDUV1ETY4T",
        "outputId": "dfcfad63-fb3b-422e-a86e-007ee7dd6db4"
      },
      "source": [
        "print(x)\n",
        "print(y)"
      ],
      "execution_count": 50,
      "outputs": [
        {
          "output_type": "stream",
          "name": "stdout",
          "text": [
            "2\n",
            "1\n"
          ]
        }
      ]
    },
    {
      "cell_type": "markdown",
      "metadata": {
        "id": "btYvijWATgr4"
      },
      "source": [
        "Arithmetic operations: +,-,*,/,%,abs"
      ]
    },
    {
      "cell_type": "code",
      "metadata": {
        "id": "SPB4RkfRTacx"
      },
      "source": [
        "x,y=5,2"
      ],
      "execution_count": 51,
      "outputs": []
    },
    {
      "cell_type": "code",
      "metadata": {
        "colab": {
          "base_uri": "https://localhost:8080/"
        },
        "id": "2EljGjc_TpI2",
        "outputId": "c508a31d-50dd-4557-c91e-38062d262e2d"
      },
      "source": [
        "print(x)\n",
        "print(y)"
      ],
      "execution_count": 52,
      "outputs": [
        {
          "output_type": "stream",
          "name": "stdout",
          "text": [
            "5\n",
            "2\n"
          ]
        }
      ]
    },
    {
      "cell_type": "code",
      "metadata": {
        "colab": {
          "base_uri": "https://localhost:8080/"
        },
        "id": "iC7jjG8eTqiD",
        "outputId": "94ff922a-36f1-4e03-a137-a030a34f6f2c"
      },
      "source": [
        "x+y"
      ],
      "execution_count": 53,
      "outputs": [
        {
          "output_type": "execute_result",
          "data": {
            "text/plain": [
              "7"
            ]
          },
          "metadata": {},
          "execution_count": 53
        }
      ]
    },
    {
      "cell_type": "code",
      "metadata": {
        "colab": {
          "base_uri": "https://localhost:8080/"
        },
        "id": "qH7BX4IxTscE",
        "outputId": "93952195-f4cf-4fad-95cb-3424bac010e5"
      },
      "source": [
        "x-y"
      ],
      "execution_count": 54,
      "outputs": [
        {
          "output_type": "execute_result",
          "data": {
            "text/plain": [
              "3"
            ]
          },
          "metadata": {},
          "execution_count": 54
        }
      ]
    },
    {
      "cell_type": "code",
      "metadata": {
        "colab": {
          "base_uri": "https://localhost:8080/"
        },
        "id": "zpwHEBk7TtoU",
        "outputId": "a16a1d42-4d47-4077-f4c8-ca59a0a4597f"
      },
      "source": [
        "x/y"
      ],
      "execution_count": 55,
      "outputs": [
        {
          "output_type": "execute_result",
          "data": {
            "text/plain": [
              "2.5"
            ]
          },
          "metadata": {},
          "execution_count": 55
        }
      ]
    },
    {
      "cell_type": "code",
      "metadata": {
        "colab": {
          "base_uri": "https://localhost:8080/"
        },
        "id": "EMATsy8dTvhL",
        "outputId": "30d3a8ce-5d12-4ca1-f7d5-113b439098a6"
      },
      "source": [
        "x%y   #(%: it is remainder)"
      ],
      "execution_count": 56,
      "outputs": [
        {
          "output_type": "execute_result",
          "data": {
            "text/plain": [
              "1"
            ]
          },
          "metadata": {},
          "execution_count": 56
        }
      ]
    },
    {
      "cell_type": "code",
      "metadata": {
        "colab": {
          "base_uri": "https://localhost:8080/"
        },
        "id": "GnQNtrAAUIz3",
        "outputId": "5e5be30d-50dc-41d9-eb94-accba5451fcd"
      },
      "source": [
        "x//y   #//: Quotient"
      ],
      "execution_count": 57,
      "outputs": [
        {
          "output_type": "execute_result",
          "data": {
            "text/plain": [
              "2"
            ]
          },
          "metadata": {},
          "execution_count": 57
        }
      ]
    },
    {
      "cell_type": "code",
      "metadata": {
        "colab": {
          "base_uri": "https://localhost:8080/"
        },
        "id": "86WpJy3XTyOv",
        "outputId": "ae14576e-62c3-4d82-8c7e-7169c93dc454"
      },
      "source": [
        "abs(-5)"
      ],
      "execution_count": 58,
      "outputs": [
        {
          "output_type": "execute_result",
          "data": {
            "text/plain": [
              "5"
            ]
          },
          "metadata": {},
          "execution_count": 58
        }
      ]
    },
    {
      "cell_type": "markdown",
      "metadata": {
        "id": "v6G6jo2aUS_o"
      },
      "source": [
        "Evaluate: ((A+B)*C)-D"
      ]
    },
    {
      "cell_type": "code",
      "metadata": {
        "colab": {
          "base_uri": "https://localhost:8080/"
        },
        "id": "j6vYk686T_nB",
        "outputId": "9c0de283-fc82-493f-e280-c2ed201e38d1"
      },
      "source": [
        "A=eval(input(\"Enter the value of A: \"))\n",
        "B=eval(input(\"Enter the value of B: \"))\n",
        "C=eval(input(\"Enter the value of C: \"))\n",
        "D=eval(input(\"Enter the value of D: \"))"
      ],
      "execution_count": 59,
      "outputs": [
        {
          "name": "stdout",
          "output_type": "stream",
          "text": [
            "Enter the value of A: 5\n",
            "Enter the value of B: 2\n",
            "Enter the value of C: 3\n",
            "Enter the value of D: 8\n"
          ]
        }
      ]
    },
    {
      "cell_type": "code",
      "metadata": {
        "id": "ndMz7G71Ujed"
      },
      "source": [
        "x=((A+B)*C)-D"
      ],
      "execution_count": 60,
      "outputs": []
    },
    {
      "cell_type": "code",
      "metadata": {
        "colab": {
          "base_uri": "https://localhost:8080/"
        },
        "id": "5F5RucSAUr0-",
        "outputId": "957d58dd-e1c9-414e-cfe4-5df1c8e510e2"
      },
      "source": [
        "x"
      ],
      "execution_count": 61,
      "outputs": [
        {
          "output_type": "execute_result",
          "data": {
            "text/plain": [
              "13"
            ]
          },
          "metadata": {},
          "execution_count": 61
        }
      ]
    },
    {
      "cell_type": "markdown",
      "metadata": {
        "id": "-l0oaducU1b_"
      },
      "source": [
        "Invalid declaration of variables/literals:     \n",
        "starting with characters or underscore\n",
        "\n",
        "> Indented block\n",
        "\n"
      ]
    },
    {
      "cell_type": "code",
      "metadata": {
        "id": "orEQIgwmUscq"
      },
      "source": [
        "x=5"
      ],
      "execution_count": 62,
      "outputs": []
    },
    {
      "cell_type": "code",
      "metadata": {
        "id": "279VMOfdU7ui"
      },
      "source": [
        "x1=5"
      ],
      "execution_count": 63,
      "outputs": []
    },
    {
      "cell_type": "code",
      "metadata": {
        "id": "pPrB_wNKU9AD"
      },
      "source": [
        "x_1=5"
      ],
      "execution_count": 64,
      "outputs": []
    },
    {
      "cell_type": "code",
      "metadata": {
        "id": "4DPhBhv_VAEy"
      },
      "source": [
        "_x1=5"
      ],
      "execution_count": 65,
      "outputs": []
    },
    {
      "cell_type": "code",
      "metadata": {
        "id": "aD9Qf4EYVBXp"
      },
      "source": [
        "_1x=5"
      ],
      "execution_count": 66,
      "outputs": []
    },
    {
      "cell_type": "code",
      "metadata": {
        "colab": {
          "base_uri": "https://localhost:8080/",
          "height": 134
        },
        "id": "R_ZWtXutVEUi",
        "outputId": "6e90d2ef-d9be-48c3-c1b9-5017c8b75fba"
      },
      "source": [
        "x@1=5"
      ],
      "execution_count": 67,
      "outputs": [
        {
          "output_type": "error",
          "ename": "SyntaxError",
          "evalue": "ignored",
          "traceback": [
            "\u001b[0;36m  File \u001b[0;32m\"<ipython-input-67-34182a04a216>\"\u001b[0;36m, line \u001b[0;32m1\u001b[0m\n\u001b[0;31m    x@1=5\u001b[0m\n\u001b[0m         ^\u001b[0m\n\u001b[0;31mSyntaxError\u001b[0m\u001b[0;31m:\u001b[0m can't assign to operator\n"
          ]
        }
      ]
    },
    {
      "cell_type": "code",
      "metadata": {
        "id": "3tXqiOeFVF44"
      },
      "source": [
        "y=\"abcd\""
      ],
      "execution_count": 68,
      "outputs": []
    },
    {
      "cell_type": "code",
      "metadata": {
        "colab": {
          "base_uri": "https://localhost:8080/",
          "height": 189
        },
        "id": "xIeaPCSqWkHP",
        "outputId": "47f1f100-a9ca-40a4-c24b-4664a4799b1e"
      },
      "source": [
        "#int(y)\n",
        "float(y)"
      ],
      "execution_count": 69,
      "outputs": [
        {
          "output_type": "error",
          "ename": "ValueError",
          "evalue": "ignored",
          "traceback": [
            "\u001b[0;31m---------------------------------------------------------------------------\u001b[0m",
            "\u001b[0;31mValueError\u001b[0m                                Traceback (most recent call last)",
            "\u001b[0;32m<ipython-input-69-0663c8f1f37a>\u001b[0m in \u001b[0;36m<module>\u001b[0;34m\u001b[0m\n\u001b[1;32m      1\u001b[0m \u001b[0;31m#int(y)\u001b[0m\u001b[0;34m\u001b[0m\u001b[0;34m\u001b[0m\u001b[0;34m\u001b[0m\u001b[0m\n\u001b[0;32m----> 2\u001b[0;31m \u001b[0mfloat\u001b[0m\u001b[0;34m(\u001b[0m\u001b[0my\u001b[0m\u001b[0;34m)\u001b[0m\u001b[0;34m\u001b[0m\u001b[0;34m\u001b[0m\u001b[0m\n\u001b[0m",
            "\u001b[0;31mValueError\u001b[0m: could not convert string to float: 'abcd'"
          ]
        }
      ]
    },
    {
      "cell_type": "code",
      "metadata": {
        "colab": {
          "base_uri": "https://localhost:8080/",
          "height": 171
        },
        "id": "7hClQ-9oWlJm",
        "outputId": "fdb29497-0d9d-4225-8cef-308afcec4620"
      },
      "source": [
        "float(y)"
      ],
      "execution_count": 70,
      "outputs": [
        {
          "output_type": "error",
          "ename": "ValueError",
          "evalue": "ignored",
          "traceback": [
            "\u001b[0;31m---------------------------------------------------------------------------\u001b[0m",
            "\u001b[0;31mValueError\u001b[0m                                Traceback (most recent call last)",
            "\u001b[0;32m<ipython-input-70-28db254ea52a>\u001b[0m in \u001b[0;36m<module>\u001b[0;34m\u001b[0m\n\u001b[0;32m----> 1\u001b[0;31m \u001b[0mfloat\u001b[0m\u001b[0;34m(\u001b[0m\u001b[0my\u001b[0m\u001b[0;34m)\u001b[0m\u001b[0;34m\u001b[0m\u001b[0;34m\u001b[0m\u001b[0m\n\u001b[0m",
            "\u001b[0;31mValueError\u001b[0m: could not convert string to float: 'abcd'"
          ]
        }
      ]
    },
    {
      "cell_type": "code",
      "metadata": {
        "id": "7v-bOx-vWmli"
      },
      "source": [
        "x,y=2,3"
      ],
      "execution_count": 71,
      "outputs": []
    },
    {
      "cell_type": "code",
      "metadata": {
        "colab": {
          "base_uri": "https://localhost:8080/"
        },
        "id": "h4rqWLQZaWkl",
        "outputId": "8bc14ff9-dd4e-48c8-c364-dac4b6879914"
      },
      "source": [
        "print(x)\n",
        "print(y)"
      ],
      "execution_count": 72,
      "outputs": [
        {
          "output_type": "stream",
          "name": "stdout",
          "text": [
            "2\n",
            "3\n"
          ]
        }
      ]
    },
    {
      "cell_type": "code",
      "metadata": {
        "colab": {
          "base_uri": "https://localhost:8080/"
        },
        "id": "z_I6vbK4aYWs",
        "outputId": "ad747c18-5938-46c8-912a-b721b0b5a50b"
      },
      "source": [
        "x*y"
      ],
      "execution_count": 73,
      "outputs": [
        {
          "output_type": "execute_result",
          "data": {
            "text/plain": [
              "6"
            ]
          },
          "metadata": {},
          "execution_count": 73
        }
      ]
    },
    {
      "cell_type": "code",
      "metadata": {
        "colab": {
          "base_uri": "https://localhost:8080/"
        },
        "id": "BIYXypvNaZ_Z",
        "outputId": "d56919d7-bc2e-4505-ff6f-40c771eeb47b"
      },
      "source": [
        "x**y   # **--> ^ raised to function   2^3"
      ],
      "execution_count": 74,
      "outputs": [
        {
          "output_type": "execute_result",
          "data": {
            "text/plain": [
              "8"
            ]
          },
          "metadata": {},
          "execution_count": 74
        }
      ]
    },
    {
      "cell_type": "code",
      "metadata": {
        "id": "vMowX-m5acpw"
      },
      "source": [
        ""
      ],
      "execution_count": 74,
      "outputs": []
    }
  ]
}