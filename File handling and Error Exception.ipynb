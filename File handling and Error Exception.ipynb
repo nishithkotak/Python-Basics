{
  "nbformat": 4,
  "nbformat_minor": 0,
  "metadata": {
    "colab": {
      "provenance": []
    },
    "kernelspec": {
      "name": "python3",
      "display_name": "Python 3"
    },
    "language_info": {
      "name": "python"
    }
  },
  "cells": [
    {
      "cell_type": "code",
      "execution_count": null,
      "metadata": {
        "id": "Zd90RlHsk_qQ"
      },
      "outputs": [],
      "source": [
        "#File Handling"
      ]
    },
    {
      "cell_type": "code",
      "source": [
        "#WORKING WITH .TXT FILE"
      ],
      "metadata": {
        "id": "VbtQ8aBFn3hM"
      },
      "execution_count": null,
      "outputs": []
    },
    {
      "cell_type": "code",
      "source": [
        "#STEP-1: DIRECT TO LOCATION AND OPEN THE FILE\n",
        "#sTEP-2: writing into the file\n",
        "#step-3: save and close"
      ],
      "metadata": {
        "id": "QdbjLoKQn_K6"
      },
      "execution_count": null,
      "outputs": []
    },
    {
      "cell_type": "code",
      "source": [
        "file=open('/content/blankfile.txt','w') #w--> write access mode\n",
        "file.write(\"This is the file handling module in the course IT606\")\n",
        "file.close()"
      ],
      "metadata": {
        "id": "G7zV1jYUoASm"
      },
      "execution_count": null,
      "outputs": []
    },
    {
      "cell_type": "code",
      "source": [
        "file=open('/content/blankfile.txt','w') #w--> write access mode\n",
        "file.write(\"Happy new year!!\")\n",
        "file.close()"
      ],
      "metadata": {
        "id": "37LtEaqyoAdl"
      },
      "execution_count": null,
      "outputs": []
    },
    {
      "cell_type": "code",
      "source": [
        "file=open('/content/blankfile.txt','w') #w--> write access mode\n",
        "for i in range(10):\n",
        "  file.write(str(i))  \n",
        "file.close()"
      ],
      "metadata": {
        "id": "3-glXa6EoAnV"
      },
      "execution_count": null,
      "outputs": []
    },
    {
      "cell_type": "code",
      "source": [
        "file=open('/content/blankfile.txt','w') #w--> write access mode\n",
        "for i in range(10):\n",
        "  file.write(str(i))\n",
        "  file.write(\"\\n\")  \n",
        "file.close()"
      ],
      "metadata": {
        "id": "hUH4BnqIoA21"
      },
      "execution_count": null,
      "outputs": []
    },
    {
      "cell_type": "code",
      "source": [
        "#append access mode\n",
        "file=open('/content/blankfile.txt','w')\n",
        "file.write(\"This is the file handling module in the course IT606\")\n",
        "file.close()"
      ],
      "metadata": {
        "id": "VvForq-8rnu5"
      },
      "execution_count": null,
      "outputs": []
    },
    {
      "cell_type": "code",
      "source": [
        "file=open('/content/blankfile.txt','a')\n",
        "file.write(\"\\n\")\n",
        "file.write(\"Happy New Year!!\")\n",
        "file.close()"
      ],
      "metadata": {
        "id": "60PALjhMrnsx"
      },
      "execution_count": null,
      "outputs": []
    },
    {
      "cell_type": "code",
      "source": [
        "file=open('/content/blankfile.txt','a') #w--> write access mode\n",
        "file.write(\"\\n\")\n",
        "for i in range(10):\n",
        "  file.write(str(i))\n",
        "  file.write(\"\\n\")  \n",
        "file.close()"
      ],
      "metadata": {
        "id": "k1HaeNJqrnqa"
      },
      "execution_count": null,
      "outputs": []
    },
    {
      "cell_type": "code",
      "source": [
        "file=open('/content/blankfile.txt','r') #r--> read access mode\n",
        "#print(file.read())\n",
        "a=file.read()\n",
        "file.close()"
      ],
      "metadata": {
        "id": "SsxkbtHmrnlp"
      },
      "execution_count": null,
      "outputs": []
    },
    {
      "cell_type": "code",
      "source": [
        "a"
      ],
      "metadata": {
        "colab": {
          "base_uri": "https://localhost:8080/",
          "height": 53
        },
        "id": "FLwAWNl5rnih",
        "outputId": "7f4b8590-dfe8-4878-ee33-c59cda72641f"
      },
      "execution_count": null,
      "outputs": [
        {
          "output_type": "execute_result",
          "data": {
            "text/plain": [
              "'This is the file handling module in the course IT606\\nHappy New Year!!\\n0\\n1\\n2\\n3\\n4\\n5\\n6\\n7\\n8\\n9\\n'"
            ],
            "application/vnd.google.colaboratory.intrinsic+json": {
              "type": "string"
            }
          },
          "metadata": {},
          "execution_count": 15
        }
      ]
    },
    {
      "cell_type": "code",
      "source": [
        "print(a)"
      ],
      "metadata": {
        "colab": {
          "base_uri": "https://localhost:8080/"
        },
        "id": "Q3cIZCkMttz5",
        "outputId": "3587c214-d0db-4e1f-f125-9ce2ea0aeb42"
      },
      "execution_count": null,
      "outputs": [
        {
          "output_type": "stream",
          "name": "stdout",
          "text": [
            "This is the file handling module in the course IT606\n",
            "Happy New Year!!\n",
            "0\n",
            "1\n",
            "2\n",
            "3\n",
            "4\n",
            "5\n",
            "6\n",
            "7\n",
            "8\n",
            "9\n",
            "\n"
          ]
        }
      ]
    },
    {
      "cell_type": "code",
      "source": [
        "file=open('/content/blankfile.txt','r') #r--> read access mode\n",
        "print(file.readline())\n",
        "file.close()"
      ],
      "metadata": {
        "colab": {
          "base_uri": "https://localhost:8080/"
        },
        "id": "mEBKOZGfuIlA",
        "outputId": "e05d9b8e-7111-4cd9-b6ed-0fa9d9ef9c8a"
      },
      "execution_count": null,
      "outputs": [
        {
          "output_type": "stream",
          "name": "stdout",
          "text": [
            "This is the file handling module in the course IT606\n",
            "\n"
          ]
        }
      ]
    },
    {
      "cell_type": "code",
      "source": [
        "file=open('/content/blankfile.txt','r') #r--> read access mode\n",
        "print(file.readline(500))\n",
        "file.close()"
      ],
      "metadata": {
        "colab": {
          "base_uri": "https://localhost:8080/"
        },
        "id": "bYmjg8oDugLp",
        "outputId": "78e60a83-492b-419c-8a5c-104b5f26bbfd"
      },
      "execution_count": null,
      "outputs": [
        {
          "output_type": "stream",
          "name": "stdout",
          "text": [
            "This is the file handling module in the course IT606\n",
            "\n"
          ]
        }
      ]
    },
    {
      "cell_type": "code",
      "source": [
        "a[:500]"
      ],
      "metadata": {
        "colab": {
          "base_uri": "https://localhost:8080/",
          "height": 53
        },
        "id": "oYFf84Nzu8Ao",
        "outputId": "f6a99fe9-1c74-4691-95b7-da2b4e824030"
      },
      "execution_count": null,
      "outputs": [
        {
          "output_type": "execute_result",
          "data": {
            "text/plain": [
              "'This is the file handling module in the course IT606\\nHappy New Year!!\\n0\\n1\\n2\\n3\\n4\\n5\\n6\\n7\\n8\\n9\\n'"
            ],
            "application/vnd.google.colaboratory.intrinsic+json": {
              "type": "string"
            }
          },
          "metadata": {},
          "execution_count": 24
        }
      ]
    },
    {
      "cell_type": "markdown",
      "source": [],
      "metadata": {
        "id": "jnrszeeMnxKF"
      }
    },
    {
      "cell_type": "markdown",
      "source": [
        "implementing into the csv file"
      ],
      "metadata": {
        "id": "EPDTVBBixQEf"
      }
    },
    {
      "cell_type": "code",
      "source": [
        "fields=['name','surname']\n",
        "values=[['Virat','Kohli'],['Rohit','Sharma'],['Sachin','Tendulkar']]"
      ],
      "metadata": {
        "id": "9pB-iJekxP1v"
      },
      "execution_count": null,
      "outputs": []
    },
    {
      "cell_type": "code",
      "source": [
        "import csv"
      ],
      "metadata": {
        "id": "81PJltIHynKo"
      },
      "execution_count": null,
      "outputs": []
    },
    {
      "cell_type": "code",
      "source": [
        "filename=\"/content/blankfile.csv\"\n",
        "file=open(filename,\"w\")\n",
        "writer=csv.writer(file)\n",
        "writer.writerow(fields)\n",
        "writer.writerows(values)\n",
        "file.close()"
      ],
      "metadata": {
        "id": "Uvlch84Wytv_"
      },
      "execution_count": null,
      "outputs": []
    },
    {
      "cell_type": "code",
      "source": [
        "filename=\"/content/blankfile.csv\"\n",
        "file=open(filename,\"r\")\n",
        "a=[]\n",
        "reading=csv.reader(file)\n",
        "for rows in reading:\n",
        "  a.append(rows)\n",
        "file.close()"
      ],
      "metadata": {
        "id": "14FUZWMVzvx_"
      },
      "execution_count": null,
      "outputs": []
    },
    {
      "cell_type": "code",
      "source": [
        "a"
      ],
      "metadata": {
        "colab": {
          "base_uri": "https://localhost:8080/"
        },
        "id": "bSacnwQj0zIO",
        "outputId": "3f14cdb4-c5a4-4d0a-a15e-1e7045477d55"
      },
      "execution_count": null,
      "outputs": [
        {
          "output_type": "execute_result",
          "data": {
            "text/plain": [
              "[['name', 'surname'],\n",
              " ['Virat', 'Kohli'],\n",
              " ['Rohit', 'Sharma'],\n",
              " ['Sachin', 'Tendulkar']]"
            ]
          },
          "metadata": {},
          "execution_count": 33
        }
      ]
    },
    {
      "cell_type": "code",
      "source": [
        "#implementing with xlsx file"
      ],
      "metadata": {
        "id": "2y4rzktl1dye"
      },
      "execution_count": null,
      "outputs": []
    },
    {
      "cell_type": "code",
      "source": [
        "pip install xlsxwriter"
      ],
      "metadata": {
        "colab": {
          "base_uri": "https://localhost:8080/"
        },
        "id": "3zPZKGro1B6e",
        "outputId": "a47f0eab-45cb-4905-fe79-46b0a93f2878"
      },
      "execution_count": null,
      "outputs": [
        {
          "output_type": "stream",
          "name": "stdout",
          "text": [
            "Looking in indexes: https://pypi.org/simple, https://us-python.pkg.dev/colab-wheels/public/simple/\n",
            "Collecting xlsxwriter\n",
            "  Downloading XlsxWriter-3.0.3-py3-none-any.whl (149 kB)\n",
            "\u001b[K     |████████████████████████████████| 149 kB 8.8 MB/s \n",
            "\u001b[?25hInstalling collected packages: xlsxwriter\n",
            "Successfully installed xlsxwriter-3.0.3\n"
          ]
        }
      ]
    },
    {
      "cell_type": "code",
      "source": [
        "import xlsxwriter\n",
        "workbook=xlsxwriter.Workbook(\"/content/blankfile.xlsx\")\n",
        "worksheet=workbook.add_worksheet()\n",
        "worksheet.write(\"A1\",\"DAIICT\")\n",
        "worksheet.write(\"B1\",\"MSCDS\")\n",
        "worksheet.write(\"C2\",\"IT606\")\n",
        "worksheet.write(\"D4\",\"Python\")\n",
        "workbook.close()\n"
      ],
      "metadata": {
        "id": "5E4GfH821vy-"
      },
      "execution_count": null,
      "outputs": []
    },
    {
      "cell_type": "code",
      "source": [
        "import os"
      ],
      "metadata": {
        "id": "_NgIT9o83Ibe"
      },
      "execution_count": null,
      "outputs": []
    },
    {
      "cell_type": "code",
      "source": [
        "os.remove(\"/content/\\content\blankfile.xlsx\")"
      ],
      "metadata": {
        "id": "hGFKuBsm4VSt"
      },
      "execution_count": null,
      "outputs": []
    },
    {
      "cell_type": "code",
      "source": [
        "os.remove(\"/content/blankfil.csv\")\n",
        "for i in range(1,10):\n",
        "  print(i)"
      ],
      "metadata": {
        "colab": {
          "base_uri": "https://localhost:8080/",
          "height": 200
        },
        "id": "yn9i4vLS4fed",
        "outputId": "5bebca8a-a5f3-4f44-928d-4a20dc1d7650"
      },
      "execution_count": null,
      "outputs": [
        {
          "output_type": "error",
          "ename": "FileNotFoundError",
          "evalue": "ignored",
          "traceback": [
            "\u001b[0;31m---------------------------------------------------------------------------\u001b[0m",
            "\u001b[0;31mFileNotFoundError\u001b[0m                         Traceback (most recent call last)",
            "\u001b[0;32m<ipython-input-44-b6b57c9bc315>\u001b[0m in \u001b[0;36m<module>\u001b[0;34m\u001b[0m\n\u001b[0;32m----> 1\u001b[0;31m \u001b[0mos\u001b[0m\u001b[0;34m.\u001b[0m\u001b[0mremove\u001b[0m\u001b[0;34m(\u001b[0m\u001b[0;34m\"/content/blankfil.csv\"\u001b[0m\u001b[0;34m)\u001b[0m\u001b[0;34m\u001b[0m\u001b[0;34m\u001b[0m\u001b[0m\n\u001b[0m\u001b[1;32m      2\u001b[0m \u001b[0;32mfor\u001b[0m \u001b[0mi\u001b[0m \u001b[0;32min\u001b[0m \u001b[0mrange\u001b[0m\u001b[0;34m(\u001b[0m\u001b[0;36m1\u001b[0m\u001b[0;34m,\u001b[0m\u001b[0;36m10\u001b[0m\u001b[0;34m)\u001b[0m\u001b[0;34m:\u001b[0m\u001b[0;34m\u001b[0m\u001b[0;34m\u001b[0m\u001b[0m\n\u001b[1;32m      3\u001b[0m   \u001b[0mprint\u001b[0m\u001b[0;34m(\u001b[0m\u001b[0mi\u001b[0m\u001b[0;34m)\u001b[0m\u001b[0;34m\u001b[0m\u001b[0;34m\u001b[0m\u001b[0m\n",
            "\u001b[0;31mFileNotFoundError\u001b[0m: [Errno 2] No such file or directory: '/content/blankfil.csv'"
          ]
        }
      ]
    },
    {
      "cell_type": "code",
      "source": [
        "if os.path.exists(\"/content/blankfil.csv\"):\n",
        "  os.remove(\"/content/blankfil.csv\")\n",
        "else:\n",
        "  print(\"File is not there\")\n",
        "for i in range(1,10):\n",
        "  print(i)"
      ],
      "metadata": {
        "colab": {
          "base_uri": "https://localhost:8080/"
        },
        "id": "lLXQ7Kpk4nO8",
        "outputId": "466b1655-4f7a-433f-e3df-803c38d2e88f"
      },
      "execution_count": null,
      "outputs": [
        {
          "output_type": "stream",
          "name": "stdout",
          "text": [
            "File is not there\n",
            "1\n",
            "2\n",
            "3\n",
            "4\n",
            "5\n",
            "6\n",
            "7\n",
            "8\n",
            "9\n"
          ]
        }
      ]
    },
    {
      "cell_type": "code",
      "source": [
        "#Errors and Exceptions"
      ],
      "metadata": {
        "id": "1RPocHFI56R-"
      },
      "execution_count": null,
      "outputs": []
    },
    {
      "cell_type": "code",
      "source": [
        "file=open('/content/errorlogs.txt','a') #w--> write access mode"
      ],
      "metadata": {
        "id": "vjLZtjxX6vJ1"
      },
      "execution_count": null,
      "outputs": []
    },
    {
      "cell_type": "code",
      "source": [
        "#try and except blocks\n",
        "#IOERROR\n",
        "try:\n",
        "  os.remove(\"/content/blankfile.csv\")\n",
        "except:\n",
        "  print(\"File not there\")\n",
        "  file.write(\"File not found\")\n",
        "  file.write(\"\\n\")\n",
        "  pass\n",
        "for i in range(1,10):\n",
        "  print(i)"
      ],
      "metadata": {
        "colab": {
          "base_uri": "https://localhost:8080/"
        },
        "id": "wSVQD8yg5xZG",
        "outputId": "a6599271-1313-44b0-e52f-0b4e8207e784"
      },
      "execution_count": null,
      "outputs": [
        {
          "output_type": "stream",
          "name": "stdout",
          "text": [
            "File not there\n",
            "1\n",
            "2\n",
            "3\n",
            "4\n",
            "5\n",
            "6\n",
            "7\n",
            "8\n",
            "9\n"
          ]
        }
      ]
    },
    {
      "cell_type": "code",
      "source": [
        "#try and except blocks\n",
        "#IOERROR\n",
        "try:\n",
        "  print(7/0)\n",
        "except IOError:\n",
        "  print(\"File not there\")\n",
        "  file.write(\"File not found\")\n",
        "  file.write(\"\\n\")\n",
        "  pass\n",
        "except:\n",
        "  print(\"Other errors\")\n",
        "  file.write(\"Other error occured\")\n",
        "  file.write(\"\\n\")\n",
        "  pass\n",
        "for i in range(1,10):\n",
        "  print(i)"
      ],
      "metadata": {
        "colab": {
          "base_uri": "https://localhost:8080/"
        },
        "id": "VuV-JqsV6XGl",
        "outputId": "7c2e1105-213f-4d19-a6dd-aceb13bb2e60"
      },
      "execution_count": null,
      "outputs": [
        {
          "output_type": "stream",
          "name": "stdout",
          "text": [
            "Other errors\n",
            "1\n",
            "2\n",
            "3\n",
            "4\n",
            "5\n",
            "6\n",
            "7\n",
            "8\n",
            "9\n"
          ]
        }
      ]
    },
    {
      "cell_type": "code",
      "source": [
        "dictionary={'a':1,'b':2}"
      ],
      "metadata": {
        "id": "rbVH6TDD7x1N"
      },
      "execution_count": null,
      "outputs": []
    },
    {
      "cell_type": "code",
      "source": [
        "dictionary['c']"
      ],
      "metadata": {
        "colab": {
          "base_uri": "https://localhost:8080/",
          "height": 166
        },
        "id": "lg_xvcHB8Vpt",
        "outputId": "49e8c721-3a0d-4a40-826a-c8d33469972b"
      },
      "execution_count": null,
      "outputs": [
        {
          "output_type": "error",
          "ename": "KeyError",
          "evalue": "ignored",
          "traceback": [
            "\u001b[0;31m---------------------------------------------------------------------------\u001b[0m",
            "\u001b[0;31mKeyError\u001b[0m                                  Traceback (most recent call last)",
            "\u001b[0;32m<ipython-input-60-8368e4ddad1c>\u001b[0m in \u001b[0;36m<module>\u001b[0;34m\u001b[0m\n\u001b[0;32m----> 1\u001b[0;31m \u001b[0mdictionary\u001b[0m\u001b[0;34m[\u001b[0m\u001b[0;34m'c'\u001b[0m\u001b[0;34m]\u001b[0m\u001b[0;34m\u001b[0m\u001b[0;34m\u001b[0m\u001b[0m\n\u001b[0m",
            "\u001b[0;31mKeyError\u001b[0m: 'c'"
          ]
        }
      ]
    },
    {
      "cell_type": "code",
      "source": [
        "  dicinary['c']\n"
      ],
      "metadata": {
        "colab": {
          "base_uri": "https://localhost:8080/",
          "height": 166
        },
        "id": "Y9_pDQhx9L9F",
        "outputId": "c478c7f9-90c7-4a35-8af1-a1a7441dd444"
      },
      "execution_count": null,
      "outputs": [
        {
          "output_type": "error",
          "ename": "NameError",
          "evalue": "ignored",
          "traceback": [
            "\u001b[0;31m---------------------------------------------------------------------------\u001b[0m",
            "\u001b[0;31mNameError\u001b[0m                                 Traceback (most recent call last)",
            "\u001b[0;32m<ipython-input-63-dc1f93224005>\u001b[0m in \u001b[0;36m<module>\u001b[0;34m\u001b[0m\n\u001b[0;32m----> 1\u001b[0;31m \u001b[0mdicinary\u001b[0m\u001b[0;34m[\u001b[0m\u001b[0;34m'c'\u001b[0m\u001b[0;34m]\u001b[0m\u001b[0;34m\u001b[0m\u001b[0;34m\u001b[0m\u001b[0m\n\u001b[0m",
            "\u001b[0;31mNameError\u001b[0m: name 'dicinary' is not defined"
          ]
        }
      ]
    },
    {
      "cell_type": "code",
      "source": [
        "#try and except blocks\n",
        "#IOERROR\n",
        "try:\n",
        "  dicinary['c']\n",
        "except IOError:\n",
        "  print(\"File not there\")\n",
        "  file.write(\"File not found\")\n",
        "  file.write(\"\\n\")\n",
        "  pass\n",
        "except KeyError:\n",
        "  print(\"Key not there\")\n",
        "  file.write(\"Key not found\")\n",
        "  file.write(\"\\n\")\n",
        "  pass\n",
        "except:\n",
        "  print(\"Other errors\")\n",
        "  file.write(\"Other error occured\")\n",
        "  file.write(\"\\n\")\n",
        "  pass\n",
        "for i in range(1,10):\n",
        "  print(i)"
      ],
      "metadata": {
        "colab": {
          "base_uri": "https://localhost:8080/"
        },
        "id": "A_ONSC018cjN",
        "outputId": "42287ff7-f776-4d62-f1a5-5515a96dd0b6"
      },
      "execution_count": null,
      "outputs": [
        {
          "output_type": "stream",
          "name": "stdout",
          "text": [
            "Other errors\n",
            "1\n",
            "2\n",
            "3\n",
            "4\n",
            "5\n",
            "6\n",
            "7\n",
            "8\n",
            "9\n"
          ]
        }
      ]
    },
    {
      "cell_type": "code",
      "source": [
        "lista=[1,2,3,4]\n",
        "a=\"hello\"\n",
        "lista+a"
      ],
      "metadata": {
        "colab": {
          "base_uri": "https://localhost:8080/",
          "height": 200
        },
        "id": "QaNR-QyZ9AeH",
        "outputId": "9d91cce4-f4d8-4fd6-e96c-65dc205b9190"
      },
      "execution_count": null,
      "outputs": [
        {
          "output_type": "error",
          "ename": "TypeError",
          "evalue": "ignored",
          "traceback": [
            "\u001b[0;31m---------------------------------------------------------------------------\u001b[0m",
            "\u001b[0;31mTypeError\u001b[0m                                 Traceback (most recent call last)",
            "\u001b[0;32m<ipython-input-64-dd85daace2b5>\u001b[0m in \u001b[0;36m<module>\u001b[0;34m\u001b[0m\n\u001b[1;32m      1\u001b[0m \u001b[0mlista\u001b[0m\u001b[0;34m=\u001b[0m\u001b[0;34m[\u001b[0m\u001b[0;36m1\u001b[0m\u001b[0;34m,\u001b[0m\u001b[0;36m2\u001b[0m\u001b[0;34m,\u001b[0m\u001b[0;36m3\u001b[0m\u001b[0;34m,\u001b[0m\u001b[0;36m4\u001b[0m\u001b[0;34m]\u001b[0m\u001b[0;34m\u001b[0m\u001b[0;34m\u001b[0m\u001b[0m\n\u001b[1;32m      2\u001b[0m \u001b[0ma\u001b[0m\u001b[0;34m=\u001b[0m\u001b[0;34m\"hello\"\u001b[0m\u001b[0;34m\u001b[0m\u001b[0;34m\u001b[0m\u001b[0m\n\u001b[0;32m----> 3\u001b[0;31m \u001b[0mlista\u001b[0m\u001b[0;34m+\u001b[0m\u001b[0ma\u001b[0m\u001b[0;34m\u001b[0m\u001b[0;34m\u001b[0m\u001b[0m\n\u001b[0m",
            "\u001b[0;31mTypeError\u001b[0m: can only concatenate list (not \"str\") to list"
          ]
        }
      ]
    },
    {
      "cell_type": "code",
      "source": [
        "#try and except blocks\n",
        "#IOERROR\n",
        "try:\n",
        "  lista+a\n",
        "except IOError:\n",
        "  print(\"File not there\")\n",
        "  file.write(\"File not found\")\n",
        "  file.write(\"\\n\")\n",
        "  pass\n",
        "except KeyError:\n",
        "  print(\"Key not there\")\n",
        "  file.write(\"Key not found\")\n",
        "  file.write(\"\\n\")\n",
        "  pass\n",
        "except TypeError:\n",
        "  print(\"TypeError \")\n",
        "  file.write(\"TypeError occured\")\n",
        "  file.write(\"\\n\")\n",
        "  pass\n",
        "for i in range(1,10):\n",
        "  print(i)"
      ],
      "metadata": {
        "colab": {
          "base_uri": "https://localhost:8080/"
        },
        "id": "oHTlX35w9bYs",
        "outputId": "34565469-7f84-4a49-fa90-a69af397736f"
      },
      "execution_count": null,
      "outputs": [
        {
          "output_type": "stream",
          "name": "stdout",
          "text": [
            "TypeError \n",
            "1\n",
            "2\n",
            "3\n",
            "4\n",
            "5\n",
            "6\n",
            "7\n",
            "8\n",
            "9\n"
          ]
        }
      ]
    },
    {
      "cell_type": "code",
      "source": [
        "file.close()"
      ],
      "metadata": {
        "id": "dutl-jHI9o29"
      },
      "execution_count": null,
      "outputs": []
    },
    {
      "cell_type": "code",
      "source": [
        "import math"
      ],
      "metadata": {
        "id": "8tiDPZ-A95o8"
      },
      "execution_count": null,
      "outputs": []
    },
    {
      "cell_type": "code",
      "source": [
        "math.exp(3000)"
      ],
      "metadata": {
        "id": "z9u7i9p8-Grc",
        "outputId": "890216f1-0958-41d7-9d83-cb40e8302254",
        "colab": {
          "base_uri": "https://localhost:8080/",
          "height": 166
        }
      },
      "execution_count": null,
      "outputs": [
        {
          "output_type": "error",
          "ename": "OverflowError",
          "evalue": "ignored",
          "traceback": [
            "\u001b[0;31m---------------------------------------------------------------------------\u001b[0m",
            "\u001b[0;31mOverflowError\u001b[0m                             Traceback (most recent call last)",
            "\u001b[0;32m<ipython-input-69-f1d128a825fd>\u001b[0m in \u001b[0;36m<module>\u001b[0;34m\u001b[0m\n\u001b[0;32m----> 1\u001b[0;31m \u001b[0mmath\u001b[0m\u001b[0;34m.\u001b[0m\u001b[0mexp\u001b[0m\u001b[0;34m(\u001b[0m\u001b[0;36m3000\u001b[0m\u001b[0;34m)\u001b[0m\u001b[0;34m\u001b[0m\u001b[0;34m\u001b[0m\u001b[0m\n\u001b[0m",
            "\u001b[0;31mOverflowError\u001b[0m: math range error"
          ]
        }
      ]
    },
    {
      "cell_type": "code",
      "source": [],
      "metadata": {
        "id": "jhxmfagS-ICM"
      },
      "execution_count": null,
      "outputs": []
    }
  ]
}