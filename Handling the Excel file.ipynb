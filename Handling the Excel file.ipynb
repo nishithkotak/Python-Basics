{
  "nbformat": 4,
  "nbformat_minor": 0,
  "metadata": {
    "colab": {
      "provenance": []
    },
    "kernelspec": {
      "name": "python3",
      "display_name": "Python 3"
    },
    "language_info": {
      "name": "python"
    }
  },
  "cells": [
    {
      "cell_type": "code",
      "execution_count": null,
      "metadata": {
        "id": "xiFsM8SB3v86"
      },
      "outputs": [],
      "source": [
        "from openpyxl import load_workbook\n",
        "from openpyxl.workbook import Workbook"
      ]
    },
    {
      "cell_type": "code",
      "source": [
        "file=\"/content/blankfile.xlsx\""
      ],
      "metadata": {
        "id": "LBmjHUsW54Lp"
      },
      "execution_count": null,
      "outputs": []
    },
    {
      "cell_type": "code",
      "source": [
        "wb=Workbook(file)"
      ],
      "metadata": {
        "id": "4cKGWkmV6VQH"
      },
      "execution_count": null,
      "outputs": []
    },
    {
      "cell_type": "code",
      "source": [
        "wb.create_sheet(\"demo1\")"
      ],
      "metadata": {
        "colab": {
          "base_uri": "https://localhost:8080/"
        },
        "id": "pQzJJoNP6q8n",
        "outputId": "68e5dbb0-ea65-4b9a-dd26-ab2881398332"
      },
      "execution_count": null,
      "outputs": [
        {
          "output_type": "execute_result",
          "data": {
            "text/plain": [
              "<WriteOnlyWorksheet \"demo1\">"
            ]
          },
          "metadata": {},
          "execution_count": 5
        }
      ]
    },
    {
      "cell_type": "code",
      "source": [
        "wb.save(file)"
      ],
      "metadata": {
        "id": "v2NhfB3M65tW"
      },
      "execution_count": null,
      "outputs": []
    },
    {
      "cell_type": "code",
      "source": [
        "wb=load_workbook(file)"
      ],
      "metadata": {
        "id": "khdWvIP57Ctn"
      },
      "execution_count": null,
      "outputs": []
    },
    {
      "cell_type": "code",
      "source": [
        "wb.sheetnames"
      ],
      "metadata": {
        "id": "GjLaOc0W7cEX"
      },
      "execution_count": null,
      "outputs": []
    },
    {
      "cell_type": "code",
      "source": [
        "ws=wb.get_sheet_by_name(\"demo1\")"
      ],
      "metadata": {
        "id": "S9CgSokF7ldn"
      },
      "execution_count": null,
      "outputs": []
    },
    {
      "cell_type": "code",
      "source": [
        "ws.cell(1,1).value=\"Hello\""
      ],
      "metadata": {
        "id": "cxzBK2rc7zKH"
      },
      "execution_count": null,
      "outputs": []
    },
    {
      "cell_type": "code",
      "source": [
        "wb.save(file)"
      ],
      "metadata": {
        "id": "11Nj4tb886wH"
      },
      "execution_count": null,
      "outputs": []
    },
    {
      "cell_type": "code",
      "source": [
        "ws.cell(2,5).value=\"MSCDS\""
      ],
      "metadata": {
        "id": "dtEi3too8-JX"
      },
      "execution_count": null,
      "outputs": []
    },
    {
      "cell_type": "code",
      "source": [
        "#cell-->(row,col)-->(i,j)\n",
        "k=0\n",
        "for i in range(1,11):\n",
        "  for j in range(1,11):\n",
        "    ws.cell(i,j).value=k\n",
        "    k+=1\n",
        "\n",
        "wb.save(file)\n",
        "\n",
        "\n",
        "wb.create_sheet(\"factorial\")\n",
        "wb.save(file)"
      ],
      "metadata": {
        "id": "ywEgEMsV9LsW"
      },
      "execution_count": null,
      "outputs": []
    },
    {
      "cell_type": "code",
      "source": [
        "wb.sheetnames"
      ],
      "metadata": {
        "colab": {
          "base_uri": "https://localhost:8080/"
        },
        "id": "oY5JF_a7_Rfu",
        "outputId": "0f51daea-d6d8-4307-e9dc-a2aeea927b7f"
      },
      "execution_count": null,
      "outputs": [
        {
          "output_type": "execute_result",
          "data": {
            "text/plain": [
              "['demo1', 'factorial']"
            ]
          },
          "metadata": {},
          "execution_count": 18
        }
      ]
    },
    {
      "cell_type": "code",
      "source": [
        "def fact(n):\n",
        "  if n==0 or n==1:\n",
        "    return 1\n",
        "  else:\n",
        "    return n*fact(n-1)"
      ],
      "metadata": {
        "id": "dO45pR0H-QsW"
      },
      "execution_count": null,
      "outputs": []
    },
    {
      "cell_type": "code",
      "source": [
        "ws=wb.get_sheet_by_name(\"factorial\")"
      ],
      "metadata": {
        "colab": {
          "base_uri": "https://localhost:8080/"
        },
        "id": "6xQtzidTAft9",
        "outputId": "26c35f38-d893-4add-ce8d-1ebceacc1dd2"
      },
      "execution_count": null,
      "outputs": [
        {
          "output_type": "stream",
          "name": "stderr",
          "text": [
            "/usr/local/lib/python3.7/dist-packages/ipykernel_launcher.py:1: DeprecationWarning: Call to deprecated function get_sheet_by_name (Use wb[sheetname]).\n",
            "  \"\"\"Entry point for launching an IPython kernel.\n"
          ]
        }
      ]
    },
    {
      "cell_type": "code",
      "source": [
        "n = int(input(\"Enter the num : \"))\n",
        "for i in range(1,n+1):\n",
        "  ws.cell(i,1).value=i\n",
        "  ws.cell(i,2).value=fact(i)\n",
        "\n",
        "wb.save(file)"
      ],
      "metadata": {
        "colab": {
          "base_uri": "https://localhost:8080/"
        },
        "id": "z8q_XfVtAQ9m",
        "outputId": "7759eb2e-e5c0-493b-b73b-4aad6b757b59"
      },
      "execution_count": null,
      "outputs": [
        {
          "name": "stdout",
          "output_type": "stream",
          "text": [
            "Enter the num : 15\n"
          ]
        }
      ]
    },
    {
      "cell_type": "code",
      "source": [
        "ws=wb.get_sheet_by_name(\"factorial\")"
      ],
      "metadata": {
        "colab": {
          "base_uri": "https://localhost:8080/"
        },
        "id": "_m2WAid3AuTw",
        "outputId": "b7501a98-75ea-44e0-9ae6-bd8e9173dac7"
      },
      "execution_count": null,
      "outputs": [
        {
          "output_type": "stream",
          "name": "stderr",
          "text": [
            "/usr/local/lib/python3.7/dist-packages/ipykernel_launcher.py:1: DeprecationWarning: Call to deprecated function get_sheet_by_name (Use wb[sheetname]).\n",
            "  \"\"\"Entry point for launching an IPython kernel.\n"
          ]
        }
      ]
    },
    {
      "cell_type": "code",
      "source": [
        "a=[]\n",
        "for i in range(1,n+1):\n",
        "  a+=[ws.cell(i,2).value]\n"
      ],
      "metadata": {
        "id": "dDWbDeO3Bi_l"
      },
      "execution_count": null,
      "outputs": []
    },
    {
      "cell_type": "code",
      "source": [
        "wb.sheetnames"
      ],
      "metadata": {
        "colab": {
          "base_uri": "https://localhost:8080/"
        },
        "id": "oupDJXVgB4Ul",
        "outputId": "40a3b760-72ea-4def-c629-83fd575c5092"
      },
      "execution_count": null,
      "outputs": [
        {
          "output_type": "execute_result",
          "data": {
            "text/plain": [
              "['demo1', 'factorial']"
            ]
          },
          "metadata": {},
          "execution_count": 28
        }
      ]
    },
    {
      "cell_type": "code",
      "source": [
        "del wb['demo1']"
      ],
      "metadata": {
        "id": "tXgg12i_B_SE"
      },
      "execution_count": null,
      "outputs": []
    },
    {
      "cell_type": "code",
      "source": [
        "wb.sheetnames"
      ],
      "metadata": {
        "colab": {
          "base_uri": "https://localhost:8080/"
        },
        "id": "bC_92yn-F4-U",
        "outputId": "29557246-5e94-4d86-e326-f0028463ccf5"
      },
      "execution_count": null,
      "outputs": [
        {
          "output_type": "execute_result",
          "data": {
            "text/plain": [
              "['factorial']"
            ]
          },
          "metadata": {},
          "execution_count": 30
        }
      ]
    },
    {
      "cell_type": "code",
      "source": [
        "wb.create_sheet(\"demo2\")"
      ],
      "metadata": {
        "colab": {
          "base_uri": "https://localhost:8080/"
        },
        "id": "5V2ngbCUF77E",
        "outputId": "f1b45a35-b050-4802-ba95-93b64fc1def6"
      },
      "execution_count": null,
      "outputs": [
        {
          "output_type": "execute_result",
          "data": {
            "text/plain": [
              "<Worksheet \"demo2\">"
            ]
          },
          "metadata": {},
          "execution_count": 34
        }
      ]
    },
    {
      "cell_type": "code",
      "source": [
        "wb.create_sheet(\"sum\")"
      ],
      "metadata": {
        "colab": {
          "base_uri": "https://localhost:8080/"
        },
        "id": "fg62f2nvG3lc",
        "outputId": "97ca757b-7ffc-4d5c-f0e0-15692973d56e"
      },
      "execution_count": null,
      "outputs": [
        {
          "output_type": "execute_result",
          "data": {
            "text/plain": [
              "<Worksheet \"sum\">"
            ]
          },
          "metadata": {},
          "execution_count": 36
        }
      ]
    },
    {
      "cell_type": "code",
      "source": [
        "ws1 = wb.get_sheet_by_name(\"demo2\")\n",
        "ws2 = wb.get_sheet_by_name(\"demo3\")\n",
        "ws3 = wb.get_sheet_by_name(\"sum\")\n"
      ],
      "metadata": {
        "colab": {
          "base_uri": "https://localhost:8080/"
        },
        "id": "mIgY-zXBG-Us",
        "outputId": "73642758-4091-4f9b-d5ce-31bc922f29f5"
      },
      "execution_count": null,
      "outputs": [
        {
          "output_type": "stream",
          "name": "stderr",
          "text": [
            "/usr/local/lib/python3.7/dist-packages/ipykernel_launcher.py:1: DeprecationWarning: Call to deprecated function get_sheet_by_name (Use wb[sheetname]).\n",
            "  \"\"\"Entry point for launching an IPython kernel.\n",
            "/usr/local/lib/python3.7/dist-packages/ipykernel_launcher.py:2: DeprecationWarning: Call to deprecated function get_sheet_by_name (Use wb[sheetname]).\n",
            "  \n",
            "/usr/local/lib/python3.7/dist-packages/ipykernel_launcher.py:3: DeprecationWarning: Call to deprecated function get_sheet_by_name (Use wb[sheetname]).\n",
            "  This is separate from the ipykernel package so we can avoid doing imports until\n"
          ]
        }
      ]
    },
    {
      "cell_type": "code",
      "source": [
        "k = 1\n",
        "for i in range(1, 11):\n",
        "  for j in range(1,11):\n",
        "    ws2.cell(i,j).value = k\n",
        "    k+=1\n",
        "wb.save(file) "
      ],
      "metadata": {
        "id": "WrXHZYkDHG2E"
      },
      "execution_count": null,
      "outputs": []
    },
    {
      "cell_type": "code",
      "source": [
        "for i in range(1, 11):\n",
        "  for j in range(1,11):\n",
        "    ws3.cell(i,j).value = ws2.cell(i,j).value + ws1.cell(i,j).value\n",
        "wb.save(file) "
      ],
      "metadata": {
        "id": "HxnwC6MfHevs"
      },
      "execution_count": null,
      "outputs": []
    },
    {
      "cell_type": "code",
      "source": [],
      "metadata": {
        "id": "E9yRIYy3Ma68"
      },
      "execution_count": null,
      "outputs": []
    },
    {
      "cell_type": "code",
      "source": [],
      "metadata": {
        "id": "B06cza5jMa4D"
      },
      "execution_count": null,
      "outputs": []
    },
    {
      "cell_type": "code",
      "source": [
        "demo_string=\"HELLO DAIICT MSCDS HAPPY NEW YEAR\"\n",
        "a=demo_string.split()"
      ],
      "metadata": {
        "id": "D9IImLWAMaxr"
      },
      "execution_count": null,
      "outputs": []
    },
    {
      "cell_type": "code",
      "source": [
        "a"
      ],
      "metadata": {
        "id": "mBjMlyRfM0Rx",
        "outputId": "536a6fe7-1631-4483-c10d-8835deeba62d",
        "colab": {
          "base_uri": "https://localhost:8080/"
        }
      },
      "execution_count": null,
      "outputs": [
        {
          "output_type": "execute_result",
          "data": {
            "text/plain": [
              "['HELLO', 'DAIICT', 'MSCDS', 'HAPPY', 'NEW', 'YEAR']"
            ]
          },
          "metadata": {},
          "execution_count": 42
        }
      ]
    },
    {
      "cell_type": "code",
      "source": [
        "len(a)"
      ],
      "metadata": {
        "id": "o6_j4n-eM0oh",
        "outputId": "2e772121-377f-4718-efb7-12d3d029543a",
        "colab": {
          "base_uri": "https://localhost:8080/"
        }
      },
      "execution_count": null,
      "outputs": [
        {
          "output_type": "execute_result",
          "data": {
            "text/plain": [
              "6"
            ]
          },
          "metadata": {},
          "execution_count": 43
        }
      ]
    },
    {
      "cell_type": "code",
      "source": [],
      "metadata": {
        "id": "290Q932pM2hC"
      },
      "execution_count": null,
      "outputs": []
    }
  ]
}