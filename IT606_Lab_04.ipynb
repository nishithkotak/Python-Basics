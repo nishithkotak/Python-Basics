{
  "nbformat": 4,
  "nbformat_minor": 0,
  "metadata": {
    "colab": {
      "name": "Lab 04 IT606.ipynb",
      "provenance": []
    },
    "kernelspec": {
      "name": "python3",
      "display_name": "Python 3"
    },
    "language_info": {
      "name": "python"
    }
  },
  "cells": [
    {
      "cell_type": "code",
      "metadata": {
        "id": "SiHyw75YYmP5"
      },
      "source": [
        "list1=['physics','maths','sachin','virat',7,3.5,2,6.80]"
      ],
      "execution_count": 1,
      "outputs": []
    },
    {
      "cell_type": "code",
      "metadata": {
        "colab": {
          "base_uri": "https://localhost:8080/"
        },
        "id": "Jti30ZcMZQ7M",
        "outputId": "ed0fdff1-ad3e-4262-efc7-3d1836e41cc2"
      },
      "source": [
        "len(list1)"
      ],
      "execution_count": 8,
      "outputs": [
        {
          "output_type": "execute_result",
          "data": {
            "text/plain": [
              "8"
            ]
          },
          "metadata": {},
          "execution_count": 8
        }
      ]
    },
    {
      "cell_type": "code",
      "metadata": {
        "colab": {
          "base_uri": "https://localhost:8080/"
        },
        "id": "vBtUW7V8ZWtU",
        "outputId": "9617a6dc-07d1-425d-e292-9d8f7619bbd9"
      },
      "source": [
        "list1[4]"
      ],
      "execution_count": 10,
      "outputs": [
        {
          "output_type": "execute_result",
          "data": {
            "text/plain": [
              "7"
            ]
          },
          "metadata": {},
          "execution_count": 10
        }
      ]
    },
    {
      "cell_type": "code",
      "metadata": {
        "colab": {
          "base_uri": "https://localhost:8080/",
          "height": 161
        },
        "id": "hTM41s9dZB6b",
        "outputId": "e52f5c39-028b-44c4-af80-903f8957becc"
      },
      "source": [
        "list1[8]"
      ],
      "execution_count": 7,
      "outputs": [
        {
          "output_type": "error",
          "ename": "IndexError",
          "evalue": "ignored",
          "traceback": [
            "\u001b[0;31m---------------------------------------------------------------------------\u001b[0m",
            "\u001b[0;31mIndexError\u001b[0m                                Traceback (most recent call last)",
            "\u001b[0;32m<ipython-input-7-434e8353cbf8>\u001b[0m in \u001b[0;36m<module>\u001b[0;34m()\u001b[0m\n\u001b[0;32m----> 1\u001b[0;31m \u001b[0mlist1\u001b[0m\u001b[0;34m[\u001b[0m\u001b[0;36m8\u001b[0m\u001b[0;34m]\u001b[0m\u001b[0;34m\u001b[0m\u001b[0;34m\u001b[0m\u001b[0m\n\u001b[0m",
            "\u001b[0;31mIndexError\u001b[0m: list index out of range"
          ]
        }
      ]
    },
    {
      "cell_type": "code",
      "metadata": {
        "colab": {
          "base_uri": "https://localhost:8080/"
        },
        "id": "NHnM1-l5ZDSo",
        "outputId": "5a0213ee-5c45-4691-9155-69768489b641"
      },
      "source": [
        "list1[1:5]"
      ],
      "execution_count": 11,
      "outputs": [
        {
          "output_type": "execute_result",
          "data": {
            "text/plain": [
              "['maths', 'sachin', 'virat', 7]"
            ]
          },
          "metadata": {},
          "execution_count": 11
        }
      ]
    },
    {
      "cell_type": "code",
      "metadata": {
        "colab": {
          "base_uri": "https://localhost:8080/"
        },
        "id": "Vj7FS6hzZpi4",
        "outputId": "f13e83d2-2268-4f9b-d0c6-8a72a18e5843"
      },
      "source": [
        "list1[:6]"
      ],
      "execution_count": 12,
      "outputs": [
        {
          "output_type": "execute_result",
          "data": {
            "text/plain": [
              "['physics', 'maths', 'sachin', 'virat', 7, 3.5]"
            ]
          },
          "metadata": {},
          "execution_count": 12
        }
      ]
    },
    {
      "cell_type": "code",
      "metadata": {
        "colab": {
          "base_uri": "https://localhost:8080/"
        },
        "id": "ONj2a_7MZ3eF",
        "outputId": "e69f3530-8a84-4fdd-9079-91ae3ab1fd8e"
      },
      "source": [
        "list1"
      ],
      "execution_count": 14,
      "outputs": [
        {
          "output_type": "execute_result",
          "data": {
            "text/plain": [
              "['physics', 'maths', 'sachin', 'virat', 7, 3.5, 2, 6.8]"
            ]
          },
          "metadata": {},
          "execution_count": 14
        }
      ]
    },
    {
      "cell_type": "code",
      "metadata": {
        "colab": {
          "base_uri": "https://localhost:8080/"
        },
        "id": "asnFIX69Zu5O",
        "outputId": "a00a1c9e-a628-4b37-e0ed-1a4145f44a0b"
      },
      "source": [
        "list1[6:]"
      ],
      "execution_count": 13,
      "outputs": [
        {
          "output_type": "execute_result",
          "data": {
            "text/plain": [
              "[2, 6.8]"
            ]
          },
          "metadata": {},
          "execution_count": 13
        }
      ]
    },
    {
      "cell_type": "code",
      "metadata": {
        "colab": {
          "base_uri": "https://localhost:8080/"
        },
        "id": "B1WudqrRZyiA",
        "outputId": "45ff7e25-e52f-4cf5-ca7b-b2671d9b9219"
      },
      "source": [
        "list1[1:10]   #index=1,2,3,4,5,6,7,8,9                   #homework"
      ],
      "execution_count": 17,
      "outputs": [
        {
          "output_type": "execute_result",
          "data": {
            "text/plain": [
              "['maths', 'sachin', 'virat', 7, 3.5, 2, 6.8]"
            ]
          },
          "metadata": {},
          "execution_count": 17
        }
      ]
    },
    {
      "cell_type": "markdown",
      "metadata": {
        "id": "ilbB5pKwaXi4"
      },
      "source": [
        "Modifying the list content"
      ]
    },
    {
      "cell_type": "code",
      "metadata": {
        "id": "g0VKgpLHZ7Dp"
      },
      "source": [
        "list1=['virat',1,3,4.6,'ABC']"
      ],
      "execution_count": 19,
      "outputs": []
    },
    {
      "cell_type": "code",
      "metadata": {
        "colab": {
          "base_uri": "https://localhost:8080/"
        },
        "id": "7N_m-u8taJJ3",
        "outputId": "a3a47d13-f5b9-44fd-8088-d11cc7cd9e70"
      },
      "source": [
        "list1"
      ],
      "execution_count": 21,
      "outputs": [
        {
          "output_type": "execute_result",
          "data": {
            "text/plain": [
              "['virat', 1, 3, 4.6, 'ABC']"
            ]
          },
          "metadata": {},
          "execution_count": 21
        }
      ]
    },
    {
      "cell_type": "code",
      "metadata": {
        "id": "fMQvB1UaadV6"
      },
      "source": [
        "list1[2]='XYZ'          #modifying the value"
      ],
      "execution_count": 23,
      "outputs": []
    },
    {
      "cell_type": "code",
      "metadata": {
        "colab": {
          "base_uri": "https://localhost:8080/"
        },
        "id": "oR6hIWrsagrQ",
        "outputId": "5ac327d1-0e25-4e0b-b6e1-49b2d5b3a27b"
      },
      "source": [
        "list1"
      ],
      "execution_count": 24,
      "outputs": [
        {
          "output_type": "execute_result",
          "data": {
            "text/plain": [
              "['virat', 1, 'XYZ', 4.6, 'ABC']"
            ]
          },
          "metadata": {},
          "execution_count": 24
        }
      ]
    },
    {
      "cell_type": "code",
      "metadata": {
        "id": "rOltdwwGalmK"
      },
      "source": [
        "del list1[-1]          #deleting the entry"
      ],
      "execution_count": 25,
      "outputs": []
    },
    {
      "cell_type": "code",
      "metadata": {
        "colab": {
          "base_uri": "https://localhost:8080/"
        },
        "id": "QApCFEJiatnd",
        "outputId": "e7cda9b0-acc2-4f0e-f975-1ac539e73786"
      },
      "source": [
        "list1"
      ],
      "execution_count": 26,
      "outputs": [
        {
          "output_type": "execute_result",
          "data": {
            "text/plain": [
              "['virat', 1, 'XYZ', 4.6]"
            ]
          },
          "metadata": {},
          "execution_count": 26
        }
      ]
    },
    {
      "cell_type": "code",
      "metadata": {
        "colab": {
          "base_uri": "https://localhost:8080/"
        },
        "id": "xLkcR1EXauaj",
        "outputId": "0e3de611-29ad-479f-dbd3-4075c4d386dd"
      },
      "source": [
        "len(list1)"
      ],
      "execution_count": 27,
      "outputs": [
        {
          "output_type": "execute_result",
          "data": {
            "text/plain": [
              "4"
            ]
          },
          "metadata": {},
          "execution_count": 27
        }
      ]
    },
    {
      "cell_type": "code",
      "metadata": {
        "id": "r-CoEH8ea3pa"
      },
      "source": [
        "list2=['sachin','3',4,2.5]"
      ],
      "execution_count": 28,
      "outputs": []
    },
    {
      "cell_type": "code",
      "metadata": {
        "colab": {
          "base_uri": "https://localhost:8080/"
        },
        "id": "_7rPTOcDa-_L",
        "outputId": "dced7ab3-d33a-4283-f589-77785883ca26"
      },
      "source": [
        "list1+list2+list1     #concatenation"
      ],
      "execution_count": 37,
      "outputs": [
        {
          "output_type": "execute_result",
          "data": {
            "text/plain": [
              "['virat', 1, 'XYZ', 4.6, 'sachin', '3', 4, 2.5, 'virat', 1, 'XYZ', 4.6]"
            ]
          },
          "metadata": {},
          "execution_count": 37
        }
      ]
    },
    {
      "cell_type": "code",
      "metadata": {
        "colab": {
          "base_uri": "https://localhost:8080/"
        },
        "id": "_PpWVFaubBBo",
        "outputId": "8521e9eb-49f3-49f2-ea61-afafd2eae1a0"
      },
      "source": [
        "['DAIICT']*5        #repetition over list"
      ],
      "execution_count": 30,
      "outputs": [
        {
          "output_type": "execute_result",
          "data": {
            "text/plain": [
              "['DAIICT', 'DAIICT', 'DAIICT', 'DAIICT', 'DAIICT']"
            ]
          },
          "metadata": {},
          "execution_count": 30
        }
      ]
    },
    {
      "cell_type": "code",
      "metadata": {
        "colab": {
          "base_uri": "https://localhost:8080/",
          "height": 35
        },
        "id": "X74zryU-bMyT",
        "outputId": "20653698-2815-4fb6-a90c-0e3ec8a73a2b"
      },
      "source": [
        "'DAIICT'*5            #repitition over string"
      ],
      "execution_count": 31,
      "outputs": [
        {
          "output_type": "execute_result",
          "data": {
            "application/vnd.google.colaboratory.intrinsic+json": {
              "type": "string"
            },
            "text/plain": [
              "'DAIICTDAIICTDAIICTDAIICTDAIICT'"
            ]
          },
          "metadata": {},
          "execution_count": 31
        }
      ]
    },
    {
      "cell_type": "code",
      "metadata": {
        "colab": {
          "base_uri": "https://localhost:8080/",
          "height": 35
        },
        "id": "NJpGlwzXbQEb",
        "outputId": "4627c4a2-c0e7-40cc-e443-65ab69435401"
      },
      "source": [
        "'-'*100"
      ],
      "execution_count": 32,
      "outputs": [
        {
          "output_type": "execute_result",
          "data": {
            "application/vnd.google.colaboratory.intrinsic+json": {
              "type": "string"
            },
            "text/plain": [
              "'----------------------------------------------------------------------------------------------------'"
            ]
          },
          "metadata": {},
          "execution_count": 32
        }
      ]
    },
    {
      "cell_type": "code",
      "metadata": {
        "colab": {
          "base_uri": "https://localhost:8080/"
        },
        "id": "0P11yv83bTVM",
        "outputId": "bb1f7791-917d-4b05-9841-1fcf02273d2e"
      },
      "source": [
        "#membership operator\n",
        "3 in [1,2,3]"
      ],
      "execution_count": 33,
      "outputs": [
        {
          "output_type": "execute_result",
          "data": {
            "text/plain": [
              "True"
            ]
          },
          "metadata": {},
          "execution_count": 33
        }
      ]
    },
    {
      "cell_type": "code",
      "metadata": {
        "colab": {
          "base_uri": "https://localhost:8080/"
        },
        "id": "Dh16EWKIbfPC",
        "outputId": "fdf5232d-f9d1-463a-dc05-d5bc34c98206"
      },
      "source": [
        "'3' in [1,2,3]"
      ],
      "execution_count": 34,
      "outputs": [
        {
          "output_type": "execute_result",
          "data": {
            "text/plain": [
              "False"
            ]
          },
          "metadata": {},
          "execution_count": 34
        }
      ]
    },
    {
      "cell_type": "code",
      "metadata": {
        "colab": {
          "base_uri": "https://localhost:8080/"
        },
        "id": "7Ryrw4LXbhLE",
        "outputId": "0cde4d54-8827-4a4e-da6d-262a2cc33b37"
      },
      "source": [
        "for i in [1,2,3]:\n",
        "  print(i)"
      ],
      "execution_count": 35,
      "outputs": [
        {
          "output_type": "stream",
          "name": "stdout",
          "text": [
            "1\n",
            "2\n",
            "3\n"
          ]
        }
      ]
    },
    {
      "cell_type": "markdown",
      "metadata": {
        "id": "t-su6lT8bySX"
      },
      "source": [
        "Built-in functions in list"
      ]
    },
    {
      "cell_type": "code",
      "metadata": {
        "id": "dixdO9xMbmyG"
      },
      "source": [
        "list1=[1,4,2,0,6,7,8,3,1]"
      ],
      "execution_count": 38,
      "outputs": []
    },
    {
      "cell_type": "code",
      "metadata": {
        "colab": {
          "base_uri": "https://localhost:8080/"
        },
        "id": "SauYyMjMdBMr",
        "outputId": "274827b2-aff1-46f5-ab88-cf76944436f3"
      },
      "source": [
        "len(list1)"
      ],
      "execution_count": 39,
      "outputs": [
        {
          "output_type": "execute_result",
          "data": {
            "text/plain": [
              "9"
            ]
          },
          "metadata": {},
          "execution_count": 39
        }
      ]
    },
    {
      "cell_type": "code",
      "metadata": {
        "colab": {
          "base_uri": "https://localhost:8080/"
        },
        "id": "yTFDEYBYdD_6",
        "outputId": "e7c506f2-e74e-4b61-8792-389725c4871c"
      },
      "source": [
        "max(list1)"
      ],
      "execution_count": 40,
      "outputs": [
        {
          "output_type": "execute_result",
          "data": {
            "text/plain": [
              "8"
            ]
          },
          "metadata": {},
          "execution_count": 40
        }
      ]
    },
    {
      "cell_type": "code",
      "metadata": {
        "colab": {
          "base_uri": "https://localhost:8080/"
        },
        "id": "sjLDiTsmdGiF",
        "outputId": "4870e494-b7fe-46ba-b341-c8949cc92ad8"
      },
      "source": [
        "min(list1)"
      ],
      "execution_count": 41,
      "outputs": [
        {
          "output_type": "execute_result",
          "data": {
            "text/plain": [
              "0"
            ]
          },
          "metadata": {},
          "execution_count": 41
        }
      ]
    },
    {
      "cell_type": "markdown",
      "metadata": {
        "id": "veYPzt2TdNzH"
      },
      "source": [
        "Methods of list"
      ]
    },
    {
      "cell_type": "code",
      "metadata": {
        "colab": {
          "base_uri": "https://localhost:8080/"
        },
        "id": "Lme4sVSpdInS",
        "outputId": "10432ecc-9c5b-4ed3-c5b5-b4458f446951"
      },
      "source": [
        "list1"
      ],
      "execution_count": 42,
      "outputs": [
        {
          "output_type": "execute_result",
          "data": {
            "text/plain": [
              "[1, 4, 2, 0, 6, 7, 8, 3, 1]"
            ]
          },
          "metadata": {},
          "execution_count": 42
        }
      ]
    },
    {
      "cell_type": "code",
      "metadata": {
        "id": "lwTUJviRdRIG"
      },
      "source": [
        "list1.append(11)"
      ],
      "execution_count": 43,
      "outputs": []
    },
    {
      "cell_type": "code",
      "metadata": {
        "colab": {
          "base_uri": "https://localhost:8080/"
        },
        "id": "6X5GOd3Eddol",
        "outputId": "83766282-be45-4333-f613-fb840e160cca"
      },
      "source": [
        "list1"
      ],
      "execution_count": 44,
      "outputs": [
        {
          "output_type": "execute_result",
          "data": {
            "text/plain": [
              "[1, 4, 2, 0, 6, 7, 8, 3, 1, 11]"
            ]
          },
          "metadata": {},
          "execution_count": 44
        }
      ]
    },
    {
      "cell_type": "code",
      "metadata": {
        "colab": {
          "base_uri": "https://localhost:8080/"
        },
        "id": "kWeBkaD2debC",
        "outputId": "6d9510e1-c353-44c3-d6a2-490d4a113be5"
      },
      "source": [
        "len(list1)"
      ],
      "execution_count": 45,
      "outputs": [
        {
          "output_type": "execute_result",
          "data": {
            "text/plain": [
              "10"
            ]
          },
          "metadata": {},
          "execution_count": 45
        }
      ]
    },
    {
      "cell_type": "code",
      "metadata": {
        "id": "73dT341LdjCQ"
      },
      "source": [
        "list1.append([11,15,18,19])  #append considers the parameter entry as the singleton entity"
      ],
      "execution_count": 46,
      "outputs": []
    },
    {
      "cell_type": "code",
      "metadata": {
        "colab": {
          "base_uri": "https://localhost:8080/"
        },
        "id": "V7DEErTmdpG1",
        "outputId": "3a981ffb-526f-4b49-e152-4daf064f81dd"
      },
      "source": [
        "list1"
      ],
      "execution_count": 47,
      "outputs": [
        {
          "output_type": "execute_result",
          "data": {
            "text/plain": [
              "[1, 4, 2, 0, 6, 7, 8, 3, 1, 11, [11, 15, 18, 19]]"
            ]
          },
          "metadata": {},
          "execution_count": 47
        }
      ]
    },
    {
      "cell_type": "code",
      "metadata": {
        "colab": {
          "base_uri": "https://localhost:8080/"
        },
        "id": "jDlbV9eKdp1E",
        "outputId": "fdb54c1d-83ca-4bc8-f2ed-c0d6893c563e"
      },
      "source": [
        "list1[10]"
      ],
      "execution_count": 50,
      "outputs": [
        {
          "output_type": "execute_result",
          "data": {
            "text/plain": [
              "[11, 15, 18, 19]"
            ]
          },
          "metadata": {},
          "execution_count": 50
        }
      ]
    },
    {
      "cell_type": "code",
      "metadata": {
        "colab": {
          "base_uri": "https://localhost:8080/"
        },
        "id": "vRrDZiVkdy4H",
        "outputId": "468f6ebc-9937-457a-b640-e998a20bccde"
      },
      "source": [
        "list1[10][1]"
      ],
      "execution_count": 52,
      "outputs": [
        {
          "output_type": "execute_result",
          "data": {
            "text/plain": [
              "15"
            ]
          },
          "metadata": {},
          "execution_count": 52
        }
      ]
    },
    {
      "cell_type": "code",
      "metadata": {
        "id": "N1rteBTAd4qD"
      },
      "source": [
        "list1.extend([11,15,18,19])  #extend appends all the elements separately to the list"
      ],
      "execution_count": 53,
      "outputs": []
    },
    {
      "cell_type": "code",
      "metadata": {
        "colab": {
          "base_uri": "https://localhost:8080/"
        },
        "id": "6-V52b85eEO5",
        "outputId": "8584c896-624e-4ab4-c568-4337a4f6a8cd"
      },
      "source": [
        "list1"
      ],
      "execution_count": 54,
      "outputs": [
        {
          "output_type": "execute_result",
          "data": {
            "text/plain": [
              "[1, 4, 2, 0, 6, 7, 8, 3, 1, 11, [11, 15, 18, 19], 11, 15, 18, 19]"
            ]
          },
          "metadata": {},
          "execution_count": 54
        }
      ]
    },
    {
      "cell_type": "code",
      "metadata": {
        "id": "-MC4Y1LreFAz"
      },
      "source": [
        "list1.insert(4,'PQR')"
      ],
      "execution_count": 55,
      "outputs": []
    },
    {
      "cell_type": "code",
      "metadata": {
        "colab": {
          "base_uri": "https://localhost:8080/"
        },
        "id": "5Q6O0OUIeVuB",
        "outputId": "519d174a-fac0-4fa1-b562-aacbb3fdab79"
      },
      "source": [
        "list1"
      ],
      "execution_count": 56,
      "outputs": [
        {
          "output_type": "execute_result",
          "data": {
            "text/plain": [
              "[1, 4, 2, 0, 'PQR', 6, 7, 8, 3, 1, 11, [11, 15, 18, 19], 11, 15, 18, 19]"
            ]
          },
          "metadata": {},
          "execution_count": 56
        }
      ]
    },
    {
      "cell_type": "code",
      "metadata": {
        "id": "fD_b1pqgeWcK"
      },
      "source": [
        "list1.insert(0,'XYZ')"
      ],
      "execution_count": 57,
      "outputs": []
    },
    {
      "cell_type": "code",
      "metadata": {
        "colab": {
          "base_uri": "https://localhost:8080/"
        },
        "id": "0ks7PYHwekbU",
        "outputId": "3c3a2d4c-b22d-4e89-983e-780ad6594efe"
      },
      "source": [
        "list1"
      ],
      "execution_count": 58,
      "outputs": [
        {
          "output_type": "execute_result",
          "data": {
            "text/plain": [
              "['XYZ', 1, 4, 2, 0, 'PQR', 6, 7, 8, 3, 1, 11, [11, 15, 18, 19], 11, 15, 18, 19]"
            ]
          },
          "metadata": {},
          "execution_count": 58
        }
      ]
    },
    {
      "cell_type": "code",
      "metadata": {
        "id": "9HVHU8Hnelak"
      },
      "source": [
        "list1.insert(0,[1,2,3,4])"
      ],
      "execution_count": 59,
      "outputs": []
    },
    {
      "cell_type": "code",
      "metadata": {
        "id": "wtb9aBSFexGA"
      },
      "source": [
        "#pop function"
      ],
      "execution_count": 61,
      "outputs": []
    },
    {
      "cell_type": "code",
      "metadata": {
        "colab": {
          "base_uri": "https://localhost:8080/"
        },
        "id": "n6AhMPJQex4U",
        "outputId": "c03d6bb1-90d7-4881-df23-1c3e925c948c"
      },
      "source": [
        "list1.pop()"
      ],
      "execution_count": 62,
      "outputs": [
        {
          "output_type": "execute_result",
          "data": {
            "text/plain": [
              "19"
            ]
          },
          "metadata": {},
          "execution_count": 62
        }
      ]
    },
    {
      "cell_type": "code",
      "metadata": {
        "colab": {
          "base_uri": "https://localhost:8080/"
        },
        "id": "ZKo_3dq-fFFh",
        "outputId": "c5d01e91-c4d1-42aa-e44a-5cfcf2ddf3bf"
      },
      "source": [
        "list1"
      ],
      "execution_count": 63,
      "outputs": [
        {
          "output_type": "execute_result",
          "data": {
            "text/plain": [
              "[[1, 2, 3, 4],\n",
              " 'XYZ',\n",
              " 1,\n",
              " 4,\n",
              " 2,\n",
              " 0,\n",
              " 'PQR',\n",
              " 6,\n",
              " 7,\n",
              " 8,\n",
              " 3,\n",
              " 1,\n",
              " 11,\n",
              " [11, 15, 18, 19],\n",
              " 11,\n",
              " 15,\n",
              " 18]"
            ]
          },
          "metadata": {},
          "execution_count": 63
        }
      ]
    },
    {
      "cell_type": "code",
      "metadata": {
        "colab": {
          "base_uri": "https://localhost:8080/"
        },
        "id": "Fbd9sbgZfGzb",
        "outputId": "e41a9e36-9af8-4d81-f8b8-edd8f9deeeae"
      },
      "source": [
        "list1.pop(3)"
      ],
      "execution_count": 64,
      "outputs": [
        {
          "output_type": "execute_result",
          "data": {
            "text/plain": [
              "4"
            ]
          },
          "metadata": {},
          "execution_count": 64
        }
      ]
    },
    {
      "cell_type": "code",
      "metadata": {
        "colab": {
          "base_uri": "https://localhost:8080/"
        },
        "id": "I1uQ28V7fMNa",
        "outputId": "f37e1ff1-471d-4cd4-cd80-a66fd5be6536"
      },
      "source": [
        "list1.pop()"
      ],
      "execution_count": 66,
      "outputs": [
        {
          "output_type": "execute_result",
          "data": {
            "text/plain": [
              "18"
            ]
          },
          "metadata": {},
          "execution_count": 66
        }
      ]
    },
    {
      "cell_type": "code",
      "metadata": {
        "colab": {
          "base_uri": "https://localhost:8080/"
        },
        "id": "zBlZQZ6wfRa_",
        "outputId": "32b026da-1a02-441c-9906-704384b6038b"
      },
      "source": [
        "list1"
      ],
      "execution_count": 67,
      "outputs": [
        {
          "output_type": "execute_result",
          "data": {
            "text/plain": [
              "[[1, 2, 3, 4],\n",
              " 'XYZ',\n",
              " 1,\n",
              " 2,\n",
              " 0,\n",
              " 'PQR',\n",
              " 6,\n",
              " 7,\n",
              " 8,\n",
              " 3,\n",
              " 1,\n",
              " 11,\n",
              " [11, 15, 18, 19],\n",
              " 11,\n",
              " 15]"
            ]
          },
          "metadata": {},
          "execution_count": 67
        }
      ]
    },
    {
      "cell_type": "code",
      "metadata": {
        "id": "zdfyjSSLfX_W"
      },
      "source": [
        "#to remove some element i\n",
        "list1.remove(1)"
      ],
      "execution_count": 68,
      "outputs": []
    },
    {
      "cell_type": "code",
      "metadata": {
        "colab": {
          "base_uri": "https://localhost:8080/"
        },
        "id": "aI01yjLofhQN",
        "outputId": "6d1f53c2-d228-4428-f082-33eff4b80d1c"
      },
      "source": [
        "list1"
      ],
      "execution_count": 69,
      "outputs": [
        {
          "output_type": "execute_result",
          "data": {
            "text/plain": [
              "[[1, 2, 3, 4], 'XYZ', 2, 0, 'PQR', 6, 7, 8, 3, 1, 11, [11, 15, 18, 19], 11, 15]"
            ]
          },
          "metadata": {},
          "execution_count": 69
        }
      ]
    },
    {
      "cell_type": "code",
      "metadata": {
        "id": "MFkd88RyfiGe"
      },
      "source": [
        "list1.reverse()"
      ],
      "execution_count": 70,
      "outputs": []
    },
    {
      "cell_type": "code",
      "metadata": {
        "colab": {
          "base_uri": "https://localhost:8080/"
        },
        "id": "SbY4a026ft6Q",
        "outputId": "174a6b21-1ce1-4561-b26f-fa397f70b26b"
      },
      "source": [
        "list1"
      ],
      "execution_count": 71,
      "outputs": [
        {
          "output_type": "execute_result",
          "data": {
            "text/plain": [
              "[15, 11, [11, 15, 18, 19], 11, 1, 3, 8, 7, 6, 'PQR', 0, 2, 'XYZ', [1, 2, 3, 4]]"
            ]
          },
          "metadata": {},
          "execution_count": 71
        }
      ]
    },
    {
      "cell_type": "code",
      "metadata": {
        "colab": {
          "base_uri": "https://localhost:8080/",
          "height": 161
        },
        "id": "AT6s0TepfvFq",
        "outputId": "27f36e0b-fb16-42a4-9ffb-632a20d6732a"
      },
      "source": [
        "list1.sort()"
      ],
      "execution_count": 72,
      "outputs": [
        {
          "output_type": "error",
          "ename": "TypeError",
          "evalue": "ignored",
          "traceback": [
            "\u001b[0;31m---------------------------------------------------------------------------\u001b[0m",
            "\u001b[0;31mTypeError\u001b[0m                                 Traceback (most recent call last)",
            "\u001b[0;32m<ipython-input-72-73031ee8c861>\u001b[0m in \u001b[0;36m<module>\u001b[0;34m()\u001b[0m\n\u001b[0;32m----> 1\u001b[0;31m \u001b[0mlist1\u001b[0m\u001b[0;34m.\u001b[0m\u001b[0msort\u001b[0m\u001b[0;34m(\u001b[0m\u001b[0;34m)\u001b[0m\u001b[0;34m\u001b[0m\u001b[0;34m\u001b[0m\u001b[0m\n\u001b[0m",
            "\u001b[0;31mTypeError\u001b[0m: '<' not supported between instances of 'list' and 'int'"
          ]
        }
      ]
    },
    {
      "cell_type": "code",
      "metadata": {
        "id": "sHoxCsHEfzSR"
      },
      "source": [
        "list1=[2,1,4,2,56,8,3,6]"
      ],
      "execution_count": 73,
      "outputs": []
    },
    {
      "cell_type": "code",
      "metadata": {
        "id": "SpTgBFKAf_Z5"
      },
      "source": [
        "list1.sort()"
      ],
      "execution_count": 74,
      "outputs": []
    },
    {
      "cell_type": "code",
      "metadata": {
        "colab": {
          "base_uri": "https://localhost:8080/"
        },
        "id": "CO8pldOqgBVC",
        "outputId": "6ea2ae02-f250-4912-c8fd-86f77e05291b"
      },
      "source": [
        "list1"
      ],
      "execution_count": 75,
      "outputs": [
        {
          "output_type": "execute_result",
          "data": {
            "text/plain": [
              "[1, 2, 2, 3, 4, 6, 8, 56]"
            ]
          },
          "metadata": {},
          "execution_count": 75
        }
      ]
    },
    {
      "cell_type": "code",
      "metadata": {
        "id": "9ipj7qIWgCkM"
      },
      "source": [
        "list1.sort(reverse=True)"
      ],
      "execution_count": 76,
      "outputs": []
    },
    {
      "cell_type": "code",
      "metadata": {
        "colab": {
          "base_uri": "https://localhost:8080/"
        },
        "id": "RL8_Hnd6gHlr",
        "outputId": "a1768596-e8b3-42d5-dad9-08042909bd55"
      },
      "source": [
        "list1"
      ],
      "execution_count": 78,
      "outputs": [
        {
          "output_type": "execute_result",
          "data": {
            "text/plain": [
              "[56, 8, 6, 4, 3, 2, 2, 1]"
            ]
          },
          "metadata": {},
          "execution_count": 78
        }
      ]
    },
    {
      "cell_type": "code",
      "metadata": {
        "id": "fYo63NQvgIFX"
      },
      "source": [
        "list1.clear()"
      ],
      "execution_count": 79,
      "outputs": []
    },
    {
      "cell_type": "code",
      "metadata": {
        "colab": {
          "base_uri": "https://localhost:8080/"
        },
        "id": "FexjwVMTgN9f",
        "outputId": "ce86c275-879c-409d-e782-fb3d2f8fbdff"
      },
      "source": [
        "list1"
      ],
      "execution_count": 80,
      "outputs": [
        {
          "output_type": "execute_result",
          "data": {
            "text/plain": [
              "[]"
            ]
          },
          "metadata": {},
          "execution_count": 80
        }
      ]
    },
    {
      "cell_type": "code",
      "metadata": {
        "id": "rhOOa8NqgO20"
      },
      "source": [
        "#addition of the values in front\n",
        "list1=[1,2,3,4,5,6,7]"
      ],
      "execution_count": 98,
      "outputs": []
    },
    {
      "cell_type": "code",
      "metadata": {
        "id": "FxP_jbmfgc6j"
      },
      "source": [
        "list1.extend(['ABC','PQR','XYZ'])"
      ],
      "execution_count": 85,
      "outputs": []
    },
    {
      "cell_type": "code",
      "metadata": {
        "colab": {
          "base_uri": "https://localhost:8080/"
        },
        "id": "W_-Y9sZfghiA",
        "outputId": "64df0f2e-4f83-458b-de40-085d870625a3"
      },
      "source": [
        "list1"
      ],
      "execution_count": 90,
      "outputs": [
        {
          "output_type": "execute_result",
          "data": {
            "text/plain": [
              "[[1.2, 3.4, 4.6], 1, 2, 3, 4, 5, 6, 7, 'ABC', 'PQR', 'XYZ']"
            ]
          },
          "metadata": {},
          "execution_count": 90
        }
      ]
    },
    {
      "cell_type": "code",
      "metadata": {
        "id": "kNIbBrA3giG4"
      },
      "source": [
        "A=[1.2,3.4,4.6]"
      ],
      "execution_count": 87,
      "outputs": []
    },
    {
      "cell_type": "code",
      "metadata": {
        "id": "p4MI6Okvgvu9"
      },
      "source": [
        "list1.insert(0,A)   #A is considered as the singleton entry"
      ],
      "execution_count": 88,
      "outputs": []
    },
    {
      "cell_type": "code",
      "metadata": {
        "colab": {
          "base_uri": "https://localhost:8080/"
        },
        "id": "UfcH7SJTg3sw",
        "outputId": "fbabe369-3bc3-4c62-fce8-93b91d7975d6"
      },
      "source": [
        "list1"
      ],
      "execution_count": 99,
      "outputs": [
        {
          "output_type": "execute_result",
          "data": {
            "text/plain": [
              "[1, 2, 3, 4, 5, 6, 7]"
            ]
          },
          "metadata": {},
          "execution_count": 99
        }
      ]
    },
    {
      "cell_type": "code",
      "metadata": {
        "colab": {
          "base_uri": "https://localhost:8080/"
        },
        "id": "lbRVbBI4g4cE",
        "outputId": "99102fc4-8523-4d05-db09-a51c8dbd4777"
      },
      "source": [
        "A.reverse()\n",
        "for i in A:\n",
        "  list1.insert(0,i)\n",
        "  print(list1)"
      ],
      "execution_count": 100,
      "outputs": [
        {
          "output_type": "stream",
          "name": "stdout",
          "text": [
            "[4.6, 1, 2, 3, 4, 5, 6, 7]\n",
            "[3.4, 4.6, 1, 2, 3, 4, 5, 6, 7]\n",
            "[1.2, 3.4, 4.6, 1, 2, 3, 4, 5, 6, 7]\n"
          ]
        }
      ]
    },
    {
      "cell_type": "code",
      "metadata": {
        "colab": {
          "base_uri": "https://localhost:8080/"
        },
        "id": "vW5c455LhLjL",
        "outputId": "f672360f-2d15-4a22-d590-777162d3b264"
      },
      "source": [
        "list1"
      ],
      "execution_count": 95,
      "outputs": [
        {
          "output_type": "execute_result",
          "data": {
            "text/plain": [
              "[4.6, 3.4, 1.2, 1, 2, 3, 4, 5, 6, 7]"
            ]
          },
          "metadata": {},
          "execution_count": 95
        }
      ]
    },
    {
      "cell_type": "markdown",
      "metadata": {
        "id": "3ireYzN-lAy1"
      },
      "source": [
        "Tuple"
      ]
    },
    {
      "cell_type": "code",
      "metadata": {
        "id": "emIMS-T5hMXq"
      },
      "source": [
        "tup1=('physics','maths','chemistry','DAIICT',1,2,3)"
      ],
      "execution_count": 101,
      "outputs": []
    },
    {
      "cell_type": "code",
      "metadata": {
        "colab": {
          "base_uri": "https://localhost:8080/"
        },
        "id": "_fwagLuHlHTn",
        "outputId": "a57b109a-f1a7-465b-89c6-88417fe67c62"
      },
      "source": [
        "tup1"
      ],
      "execution_count": 102,
      "outputs": [
        {
          "output_type": "execute_result",
          "data": {
            "text/plain": [
              "('physics', 'maths', 'chemistry', 'DAIICT', 1, 2, 3)"
            ]
          },
          "metadata": {},
          "execution_count": 102
        }
      ]
    },
    {
      "cell_type": "code",
      "metadata": {
        "id": "QbfgzDT-lIGM"
      },
      "source": [
        "tup2=\"a\",\"b\",\"c\",\"d\",1,2,3"
      ],
      "execution_count": 103,
      "outputs": []
    },
    {
      "cell_type": "code",
      "metadata": {
        "colab": {
          "base_uri": "https://localhost:8080/"
        },
        "id": "Qz9W4XWXlOKN",
        "outputId": "044e8a06-5b5a-4666-d444-c672cb79a1c7"
      },
      "source": [
        "tup2"
      ],
      "execution_count": 104,
      "outputs": [
        {
          "output_type": "execute_result",
          "data": {
            "text/plain": [
              "('a', 'b', 'c', 'd', 1, 2, 3)"
            ]
          },
          "metadata": {},
          "execution_count": 104
        }
      ]
    },
    {
      "cell_type": "code",
      "metadata": {
        "id": "CQF1imnqlPAf"
      },
      "source": [
        "a=1,2"
      ],
      "execution_count": 108,
      "outputs": []
    },
    {
      "cell_type": "code",
      "metadata": {
        "colab": {
          "base_uri": "https://localhost:8080/"
        },
        "id": "rtrHSHtAlULQ",
        "outputId": "5ddf6cd0-edf3-4327-8822-2f84dd85d4b4"
      },
      "source": [
        "a"
      ],
      "execution_count": 109,
      "outputs": [
        {
          "output_type": "execute_result",
          "data": {
            "text/plain": [
              "(1, 2)"
            ]
          },
          "metadata": {},
          "execution_count": 109
        }
      ]
    },
    {
      "cell_type": "code",
      "metadata": {
        "id": "59YIrwOYlVEm"
      },
      "source": [
        "tup3=()"
      ],
      "execution_count": 110,
      "outputs": []
    },
    {
      "cell_type": "code",
      "metadata": {
        "id": "WoSq9ueUlhMV"
      },
      "source": [
        "#single value in tuple\n",
        "tup3=(50)"
      ],
      "execution_count": 111,
      "outputs": []
    },
    {
      "cell_type": "code",
      "metadata": {
        "colab": {
          "base_uri": "https://localhost:8080/"
        },
        "id": "6g9nLKEUlqx-",
        "outputId": "c3ef9b8c-122a-42ef-b343-4a90c18b9a73"
      },
      "source": [
        "tup3"
      ],
      "execution_count": 112,
      "outputs": [
        {
          "output_type": "execute_result",
          "data": {
            "text/plain": [
              "50"
            ]
          },
          "metadata": {},
          "execution_count": 112
        }
      ]
    },
    {
      "cell_type": "code",
      "metadata": {
        "colab": {
          "base_uri": "https://localhost:8080/"
        },
        "id": "5AD-WegUltv4",
        "outputId": "c321869a-da23-438c-ecd5-c4d0047cd845"
      },
      "source": [
        "type(tup3)"
      ],
      "execution_count": 113,
      "outputs": [
        {
          "output_type": "execute_result",
          "data": {
            "text/plain": [
              "int"
            ]
          },
          "metadata": {},
          "execution_count": 113
        }
      ]
    },
    {
      "cell_type": "code",
      "metadata": {
        "id": "IiCWf6AelvdU"
      },
      "source": [
        "tup3=(50,)"
      ],
      "execution_count": 114,
      "outputs": []
    },
    {
      "cell_type": "code",
      "metadata": {
        "colab": {
          "base_uri": "https://localhost:8080/"
        },
        "id": "DwXyTh99lznS",
        "outputId": "d4b7e8a7-619a-4397-a05a-84e574961593"
      },
      "source": [
        "tup3"
      ],
      "execution_count": 115,
      "outputs": [
        {
          "output_type": "execute_result",
          "data": {
            "text/plain": [
              "(50,)"
            ]
          },
          "metadata": {},
          "execution_count": 115
        }
      ]
    },
    {
      "cell_type": "code",
      "metadata": {
        "colab": {
          "base_uri": "https://localhost:8080/"
        },
        "id": "Fwa5LA6Wl0Gk",
        "outputId": "2bb54f1b-32e7-4eac-fafa-ea9c951fdb1d"
      },
      "source": [
        "type(tup3)"
      ],
      "execution_count": 116,
      "outputs": [
        {
          "output_type": "execute_result",
          "data": {
            "text/plain": [
              "tuple"
            ]
          },
          "metadata": {},
          "execution_count": 116
        }
      ]
    },
    {
      "cell_type": "code",
      "metadata": {
        "id": "GcLp72kql1Br"
      },
      "source": [
        "tup1=(1,2,3,4,5,6,7)"
      ],
      "execution_count": 117,
      "outputs": []
    },
    {
      "cell_type": "code",
      "metadata": {
        "colab": {
          "base_uri": "https://localhost:8080/"
        },
        "id": "NEHT_SbNn120",
        "outputId": "9f12cd9f-8455-420c-95a4-d49e8e1f0273"
      },
      "source": [
        "tup1[0]"
      ],
      "execution_count": 118,
      "outputs": [
        {
          "output_type": "execute_result",
          "data": {
            "text/plain": [
              "1"
            ]
          },
          "metadata": {},
          "execution_count": 118
        }
      ]
    },
    {
      "cell_type": "code",
      "metadata": {
        "colab": {
          "base_uri": "https://localhost:8080/"
        },
        "id": "kvRGNUHCn3zz",
        "outputId": "bde2ab15-ec5e-4e18-db9c-87db3b003d4d"
      },
      "source": [
        "tup1[1:4]"
      ],
      "execution_count": 119,
      "outputs": [
        {
          "output_type": "execute_result",
          "data": {
            "text/plain": [
              "(2, 3, 4)"
            ]
          },
          "metadata": {},
          "execution_count": 119
        }
      ]
    },
    {
      "cell_type": "code",
      "metadata": {
        "colab": {
          "base_uri": "https://localhost:8080/",
          "height": 161
        },
        "id": "e11mQxaPn6Tm",
        "outputId": "019040dc-2fe3-4b5a-a897-3f0441ec425a"
      },
      "source": [
        "tup1[0]=0"
      ],
      "execution_count": 120,
      "outputs": [
        {
          "output_type": "error",
          "ename": "TypeError",
          "evalue": "ignored",
          "traceback": [
            "\u001b[0;31m---------------------------------------------------------------------------\u001b[0m",
            "\u001b[0;31mTypeError\u001b[0m                                 Traceback (most recent call last)",
            "\u001b[0;32m<ipython-input-120-929b97c75225>\u001b[0m in \u001b[0;36m<module>\u001b[0;34m()\u001b[0m\n\u001b[0;32m----> 1\u001b[0;31m \u001b[0mtup1\u001b[0m\u001b[0;34m[\u001b[0m\u001b[0;36m0\u001b[0m\u001b[0;34m]\u001b[0m\u001b[0;34m=\u001b[0m\u001b[0;36m0\u001b[0m\u001b[0;34m\u001b[0m\u001b[0;34m\u001b[0m\u001b[0m\n\u001b[0m",
            "\u001b[0;31mTypeError\u001b[0m: 'tuple' object does not support item assignment"
          ]
        }
      ]
    },
    {
      "cell_type": "code",
      "metadata": {
        "colab": {
          "base_uri": "https://localhost:8080/"
        },
        "id": "JFkjj3sWn9tx",
        "outputId": "d7c55b14-7b2a-4726-85fe-768aec701f92"
      },
      "source": [
        "tup1+tup2"
      ],
      "execution_count": 121,
      "outputs": [
        {
          "output_type": "execute_result",
          "data": {
            "text/plain": [
              "(1, 2, 3, 4, 5, 6, 7, 'a', 'b', 'c', 'd', 1, 2, 3)"
            ]
          },
          "metadata": {},
          "execution_count": 121
        }
      ]
    },
    {
      "cell_type": "code",
      "metadata": {
        "colab": {
          "base_uri": "https://localhost:8080/"
        },
        "id": "3piqBarhoC5_",
        "outputId": "50f5d32b-6d62-4ae7-fc20-99743251cbb5"
      },
      "source": [
        "tup1*3"
      ],
      "execution_count": 122,
      "outputs": [
        {
          "output_type": "execute_result",
          "data": {
            "text/plain": [
              "(1, 2, 3, 4, 5, 6, 7, 1, 2, 3, 4, 5, 6, 7, 1, 2, 3, 4, 5, 6, 7)"
            ]
          },
          "metadata": {},
          "execution_count": 122
        }
      ]
    },
    {
      "cell_type": "code",
      "metadata": {
        "colab": {
          "base_uri": "https://localhost:8080/",
          "height": 161
        },
        "id": "KiiVW-dkoGl8",
        "outputId": "bce44b4b-5f94-4ed6-811f-dc80bf1e09db"
      },
      "source": [
        "del tup1[-1]"
      ],
      "execution_count": 124,
      "outputs": [
        {
          "output_type": "error",
          "ename": "TypeError",
          "evalue": "ignored",
          "traceback": [
            "\u001b[0;31m---------------------------------------------------------------------------\u001b[0m",
            "\u001b[0;31mTypeError\u001b[0m                                 Traceback (most recent call last)",
            "\u001b[0;32m<ipython-input-124-5acdc279e7b9>\u001b[0m in \u001b[0;36m<module>\u001b[0;34m()\u001b[0m\n\u001b[0;32m----> 1\u001b[0;31m \u001b[0;32mdel\u001b[0m \u001b[0mtup1\u001b[0m\u001b[0;34m[\u001b[0m\u001b[0;34m-\u001b[0m\u001b[0;36m1\u001b[0m\u001b[0;34m]\u001b[0m\u001b[0;34m\u001b[0m\u001b[0;34m\u001b[0m\u001b[0m\n\u001b[0m",
            "\u001b[0;31mTypeError\u001b[0m: 'tuple' object doesn't support item deletion"
          ]
        }
      ]
    },
    {
      "cell_type": "code",
      "metadata": {
        "colab": {
          "base_uri": "https://localhost:8080/"
        },
        "id": "hQyPzs8ZoLPE",
        "outputId": "78f0e8db-2640-4b30-a31c-ad9b01ecee42"
      },
      "source": [
        "len(tup1)"
      ],
      "execution_count": 125,
      "outputs": [
        {
          "output_type": "execute_result",
          "data": {
            "text/plain": [
              "7"
            ]
          },
          "metadata": {},
          "execution_count": 125
        }
      ]
    },
    {
      "cell_type": "code",
      "metadata": {
        "colab": {
          "base_uri": "https://localhost:8080/"
        },
        "id": "zjp8fotioTWx",
        "outputId": "cf34c95d-8fd9-4fb5-964e-72875b1c61e9"
      },
      "source": [
        "tup1"
      ],
      "execution_count": 126,
      "outputs": [
        {
          "output_type": "execute_result",
          "data": {
            "text/plain": [
              "(1, 2, 3, 4, 5, 6, 7)"
            ]
          },
          "metadata": {},
          "execution_count": 126
        }
      ]
    },
    {
      "cell_type": "code",
      "metadata": {
        "colab": {
          "base_uri": "https://localhost:8080/"
        },
        "id": "2Zx5_GzSoVC0",
        "outputId": "4f3eac82-6d67-4b49-d3f9-62bccb948599"
      },
      "source": [
        "max(tup1)"
      ],
      "execution_count": 127,
      "outputs": [
        {
          "output_type": "execute_result",
          "data": {
            "text/plain": [
              "7"
            ]
          },
          "metadata": {},
          "execution_count": 127
        }
      ]
    },
    {
      "cell_type": "code",
      "metadata": {
        "colab": {
          "base_uri": "https://localhost:8080/"
        },
        "id": "mrE7IgUGoWaX",
        "outputId": "9a4e58b1-6e6d-4f5c-b25d-886ee165d3e7"
      },
      "source": [
        "min(tup1)"
      ],
      "execution_count": 128,
      "outputs": [
        {
          "output_type": "execute_result",
          "data": {
            "text/plain": [
              "1"
            ]
          },
          "metadata": {},
          "execution_count": 128
        }
      ]
    },
    {
      "cell_type": "code",
      "metadata": {
        "colab": {
          "base_uri": "https://localhost:8080/"
        },
        "id": "vGa46R5noYaK",
        "outputId": "9f8566e8-958a-44ee-cd9b-07ccb4a4ecc1"
      },
      "source": [
        "tup1[-2]"
      ],
      "execution_count": 129,
      "outputs": [
        {
          "output_type": "execute_result",
          "data": {
            "text/plain": [
              "6"
            ]
          },
          "metadata": {},
          "execution_count": 129
        }
      ]
    },
    {
      "cell_type": "code",
      "metadata": {
        "colab": {
          "base_uri": "https://localhost:8080/"
        },
        "id": "PgZoSJUfoc_P",
        "outputId": "2a833f36-24ee-4bbc-cf9b-96551de20d0c"
      },
      "source": [
        "3 in tup1"
      ],
      "execution_count": 130,
      "outputs": [
        {
          "output_type": "execute_result",
          "data": {
            "text/plain": [
              "True"
            ]
          },
          "metadata": {},
          "execution_count": 130
        }
      ]
    },
    {
      "cell_type": "code",
      "metadata": {
        "colab": {
          "base_uri": "https://localhost:8080/"
        },
        "id": "h1r2rAa5ogr8",
        "outputId": "e2e2a688-9a2f-4401-e822-5d6b7cf24d2c"
      },
      "source": [
        "for i in (1,2,3,4,5,6,7):\n",
        "  print(i)"
      ],
      "execution_count": 131,
      "outputs": [
        {
          "output_type": "stream",
          "name": "stdout",
          "text": [
            "1\n",
            "2\n",
            "3\n",
            "4\n",
            "5\n",
            "6\n",
            "7\n"
          ]
        }
      ]
    },
    {
      "cell_type": "code",
      "metadata": {
        "id": "gy4WsfGJolcH"
      },
      "source": [
        ""
      ],
      "execution_count": null,
      "outputs": []
    }
  ]
}