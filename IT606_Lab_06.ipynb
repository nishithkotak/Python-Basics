{
  "nbformat": 4,
  "nbformat_minor": 0,
  "metadata": {
    "colab": {
      "name": "Lab 07_IT606_Functions.ipynb",
      "provenance": []
    },
    "kernelspec": {
      "name": "python3",
      "display_name": "Python 3"
    },
    "language_info": {
      "name": "python"
    }
  },
  "cells": [
    {
      "cell_type": "code",
      "metadata": {
        "id": "nRkS6NesQp1N"
      },
      "source": [
        "#functions"
      ],
      "execution_count": 2,
      "outputs": []
    },
    {
      "cell_type": "code",
      "metadata": {
        "colab": {
          "base_uri": "https://localhost:8080/"
        },
        "id": "A5iHA6a1Q_VQ",
        "outputId": "a0edf00b-d1c3-465d-ef33-efdccb6d0128"
      },
      "source": [
        "#program for finding the factorial of a number\n",
        "#facorial of n= n*(n-1)*(n-2)*............*1\n",
        "n=5\n",
        "mul=1\n",
        "for i in range(1,n+1):\n",
        "  mul=mul*i\n",
        "print(mul)"
      ],
      "execution_count": 3,
      "outputs": [
        {
          "output_type": "stream",
          "name": "stdout",
          "text": [
            "120\n"
          ]
        }
      ]
    },
    {
      "cell_type": "code",
      "metadata": {
        "id": "NE3yNSRyRdYp"
      },
      "source": [
        "#5!=5*4*3*2*1=120"
      ],
      "execution_count": 4,
      "outputs": []
    },
    {
      "cell_type": "code",
      "metadata": {
        "colab": {
          "base_uri": "https://localhost:8080/"
        },
        "id": "OegBdEYdRh3V",
        "outputId": "30aa883a-5a27-4e80-8c61-3130c9f0d72c"
      },
      "source": [
        "n=6\n",
        "mul=1\n",
        "for i in range(1,n+1):\n",
        "  mul=mul*i\n",
        "print(mul)"
      ],
      "execution_count": 5,
      "outputs": [
        {
          "output_type": "stream",
          "name": "stdout",
          "text": [
            "720\n"
          ]
        }
      ]
    },
    {
      "cell_type": "code",
      "metadata": {
        "colab": {
          "base_uri": "https://localhost:8080/"
        },
        "id": "aHOkA8TbRnAX",
        "outputId": "ced84e26-82cb-4a60-dc51-f504283b8019"
      },
      "source": [
        "n=9                       #1\n",
        "mul=1                     #2\n",
        "for i in range(1,n+1):    #2\n",
        "  mul=mul*i               #2\n",
        "print(mul)                #2"
      ],
      "execution_count": 8,
      "outputs": [
        {
          "output_type": "stream",
          "name": "stdout",
          "text": [
            "362880\n"
          ]
        }
      ]
    },
    {
      "cell_type": "code",
      "metadata": {
        "id": "JTXnOYiwRqV-"
      },
      "source": [
        "#defining the function\n",
        "#1. your code depends on which value? --- n --> function parameter\n",
        "#2. find out which portion of the code remains the same --> function body  (core logic of a code)"
      ],
      "execution_count": 9,
      "outputs": []
    },
    {
      "cell_type": "code",
      "metadata": {
        "colab": {
          "base_uri": "https://localhost:8080/",
          "height": 35
        },
        "id": "VzObn5j3SvwM",
        "outputId": "35e92c38-e3a0-4f0d-b956-42ad587692a1"
      },
      "source": [
        "'''\n",
        "def function_name ([parameters]):\n",
        "  functionbody\n",
        "'''"
      ],
      "execution_count": 10,
      "outputs": [
        {
          "output_type": "execute_result",
          "data": {
            "application/vnd.google.colaboratory.intrinsic+json": {
              "type": "string"
            },
            "text/plain": [
              "'\\ndef function_name ([parameters]):\\n  functionbody\\n'"
            ]
          },
          "metadata": {},
          "execution_count": 10
        }
      ]
    },
    {
      "cell_type": "code",
      "metadata": {
        "id": "Xd4Qa3uvUH-f"
      },
      "source": [
        ""
      ],
      "execution_count": null,
      "outputs": []
    },
    {
      "cell_type": "code",
      "metadata": {
        "id": "u3O8CSFtUDxz"
      },
      "source": [
        "#function definition--> def is the keyword for defining the function\n",
        "def factorial(n):\n",
        "  mul=1                     #2\n",
        "  for i in range(1,n+1):    #2\n",
        "    mul=mul*i               #2\n",
        "  print(mul)  "
      ],
      "execution_count": 11,
      "outputs": []
    },
    {
      "cell_type": "code",
      "metadata": {
        "colab": {
          "base_uri": "https://localhost:8080/"
        },
        "id": "cdTd2pY6UYUr",
        "outputId": "1942732f-c17e-48ac-e403-a43574fe0c86"
      },
      "source": [
        "#function calling----> function_name([parameters])\n",
        "factorial(9)"
      ],
      "execution_count": 14,
      "outputs": [
        {
          "output_type": "stream",
          "name": "stdout",
          "text": [
            "362880\n"
          ]
        }
      ]
    },
    {
      "cell_type": "code",
      "metadata": {
        "colab": {
          "base_uri": "https://localhost:8080/"
        },
        "id": "2cBNhSQ5UmX4",
        "outputId": "8fad497b-eec0-4503-d4e9-6e010aa4e989"
      },
      "source": [
        "#2 types of the functions: in-built function and user-defined function\n",
        "#in-built functions: print, input, range, strcpy, strlen, strcat\n",
        "print(\"hii\")"
      ],
      "execution_count": 15,
      "outputs": [
        {
          "output_type": "stream",
          "name": "stdout",
          "text": [
            "hii\n"
          ]
        }
      ]
    },
    {
      "cell_type": "code",
      "metadata": {
        "id": "vwzNc_RiVuEe"
      },
      "source": [
        "#add, sub, evenodd, factorial\n"
      ],
      "execution_count": 16,
      "outputs": []
    },
    {
      "cell_type": "code",
      "metadata": {
        "id": "stFKjJy1ZVQb"
      },
      "source": [
        "#No argument, No return statement\n",
        "def printing():\n",
        "  print(\"Welcome to DAIICT\")"
      ],
      "execution_count": 18,
      "outputs": []
    },
    {
      "cell_type": "code",
      "metadata": {
        "colab": {
          "base_uri": "https://localhost:8080/"
        },
        "id": "T8B4AhE9ZXZU",
        "outputId": "6f7faf75-12d5-46d8-fb19-ee981e80e07a"
      },
      "source": [
        "printing()"
      ],
      "execution_count": 19,
      "outputs": [
        {
          "output_type": "stream",
          "name": "stdout",
          "text": [
            "Welcome to DAIICT\n"
          ]
        }
      ]
    },
    {
      "cell_type": "code",
      "metadata": {
        "colab": {
          "base_uri": "https://localhost:8080/"
        },
        "id": "xwmm_Ix_ZiIo",
        "outputId": "96020c35-d564-4e17-8e8f-24a7cdccb844"
      },
      "source": [
        "printing()"
      ],
      "execution_count": 20,
      "outputs": [
        {
          "output_type": "stream",
          "name": "stdout",
          "text": [
            "Welcome to DAIICT\n"
          ]
        }
      ]
    },
    {
      "cell_type": "code",
      "metadata": {
        "colab": {
          "base_uri": "https://localhost:8080/"
        },
        "id": "Ei6sZg2VZjtN",
        "outputId": "2e84a1fe-125a-49b7-89c7-d9246955ccbe"
      },
      "source": [
        "printing()"
      ],
      "execution_count": 21,
      "outputs": [
        {
          "output_type": "stream",
          "name": "stdout",
          "text": [
            "Welcome to DAIICT\n"
          ]
        }
      ]
    },
    {
      "cell_type": "code",
      "metadata": {
        "id": "d3rSDaRYZk3R"
      },
      "source": [
        "#having argument but no return statement\n",
        "def printing(student_name):\n",
        "  print(\"Welcome\",student_name, \"to DAIICT\")"
      ],
      "execution_count": 22,
      "outputs": []
    },
    {
      "cell_type": "code",
      "metadata": {
        "colab": {
          "base_uri": "https://localhost:8080/"
        },
        "id": "dYaovfhgaL9z",
        "outputId": "a5592bc7-00c3-43b7-e8c7-807f2924a6e4"
      },
      "source": [
        "printing(\"Robert\")"
      ],
      "execution_count": 23,
      "outputs": [
        {
          "output_type": "stream",
          "name": "stdout",
          "text": [
            "Welcome Robert to DAIICT\n"
          ]
        }
      ]
    },
    {
      "cell_type": "code",
      "metadata": {
        "colab": {
          "base_uri": "https://localhost:8080/"
        },
        "id": "dM6hBfWeaOZB",
        "outputId": "1894fcf9-9899-40d3-e39f-9b38e3101c45"
      },
      "source": [
        "printing(\"Nishith\")"
      ],
      "execution_count": 24,
      "outputs": [
        {
          "output_type": "stream",
          "name": "stdout",
          "text": [
            "Welcome Nishith to DAIICT\n"
          ]
        }
      ]
    },
    {
      "cell_type": "code",
      "metadata": {
        "colab": {
          "base_uri": "https://localhost:8080/"
        },
        "id": "mQHc7b9CaRkW",
        "outputId": "2c87ba82-bb42-4935-8ac8-3e69b506c6da"
      },
      "source": [
        "printing(\"Aryan\")"
      ],
      "execution_count": 25,
      "outputs": [
        {
          "output_type": "stream",
          "name": "stdout",
          "text": [
            "Welcome Aryan to DAIICT\n"
          ]
        }
      ]
    },
    {
      "cell_type": "code",
      "metadata": {
        "id": "ndyH1nm7aWHz"
      },
      "source": [
        "#having argument and return statement\n",
        "def to_print(student_name):\n",
        "  a=\"welcome \"+student_name+\" to DAIICT\"    #scope of a is within the function--> a is a local variable\n",
        "  return a"
      ],
      "execution_count": 54,
      "outputs": []
    },
    {
      "cell_type": "code",
      "metadata": {
        "colab": {
          "base_uri": "https://localhost:8080/",
          "height": 35
        },
        "id": "oFJE1CRCbwPm",
        "outputId": "95250fdf-389f-4b50-e71f-cfa600045062"
      },
      "source": [
        "to_print(\"Robert\")\n",
        "#print(a)"
      ],
      "execution_count": 57,
      "outputs": [
        {
          "output_type": "execute_result",
          "data": {
            "application/vnd.google.colaboratory.intrinsic+json": {
              "type": "string"
            },
            "text/plain": [
              "'welcome Robert to DAIICT'"
            ]
          },
          "metadata": {},
          "execution_count": 57
        }
      ]
    },
    {
      "cell_type": "code",
      "metadata": {
        "colab": {
          "base_uri": "https://localhost:8080/",
          "height": 35
        },
        "id": "PkVcGn5qb0H1",
        "outputId": "f42d1599-50ae-4477-b579-9d931996ef75"
      },
      "source": [
        "to_print(\"Aryan\")"
      ],
      "execution_count": 56,
      "outputs": [
        {
          "output_type": "execute_result",
          "data": {
            "application/vnd.google.colaboratory.intrinsic+json": {
              "type": "string"
            },
            "text/plain": [
              "'welcome Aryan to DAIICT'"
            ]
          },
          "metadata": {},
          "execution_count": 56
        }
      ]
    },
    {
      "cell_type": "code",
      "metadata": {
        "id": "74aSYbxYb4m5"
      },
      "source": [
        "#addition of two numbers\n",
        "def addition(a,b):\n",
        "  c=a+b\n",
        "  return c"
      ],
      "execution_count": 58,
      "outputs": []
    },
    {
      "cell_type": "code",
      "metadata": {
        "colab": {
          "base_uri": "https://localhost:8080/"
        },
        "id": "bdHVWQ9Fdc86",
        "outputId": "cbde7e8f-104f-43d2-c7bc-c8d079545049"
      },
      "source": [
        "addition(5,2)   #print(addition(5,2))"
      ],
      "execution_count": 60,
      "outputs": [
        {
          "output_type": "execute_result",
          "data": {
            "text/plain": [
              "7"
            ]
          },
          "metadata": {},
          "execution_count": 60
        }
      ]
    },
    {
      "cell_type": "code",
      "metadata": {
        "id": "RsbqcYrwdfMX"
      },
      "source": [
        "#no argument with return statement"
      ],
      "execution_count": 46,
      "outputs": []
    },
    {
      "cell_type": "code",
      "metadata": {
        "id": "4OGNqLFTd7Ti"
      },
      "source": [
        "def pi():\n",
        "  return 3.14"
      ],
      "execution_count": 61,
      "outputs": []
    },
    {
      "cell_type": "code",
      "metadata": {
        "colab": {
          "base_uri": "https://localhost:8080/"
        },
        "id": "F9MtdMSfkSaq",
        "outputId": "fd247e09-4d0f-46cb-fca7-600bd4ac8b84"
      },
      "source": [
        "r=5\n",
        "area=pi()*r*r\n",
        "print(pi())\n",
        "print(area)"
      ],
      "execution_count": 64,
      "outputs": [
        {
          "output_type": "stream",
          "name": "stdout",
          "text": [
            "3.14\n",
            "78.5\n"
          ]
        }
      ]
    },
    {
      "cell_type": "code",
      "metadata": {
        "colab": {
          "base_uri": "https://localhost:8080/"
        },
        "id": "Cneo-7AfkZzE",
        "outputId": "08106a89-2210-4f18-ee37-e74c0f4b774c"
      },
      "source": [
        "#dice--> 1 to 6\n",
        "dice()\n",
        "\n",
        "def dice():\n",
        "  random from 1 to 6\n",
        "  return"
      ],
      "execution_count": 63,
      "outputs": [
        {
          "output_type": "execute_result",
          "data": {
            "text/plain": [
              "78.5"
            ]
          },
          "metadata": {},
          "execution_count": 63
        }
      ]
    },
    {
      "cell_type": "code",
      "metadata": {
        "id": "KE8CXGqpkbmo"
      },
      "source": [
        "import random\n",
        "def dice():\n",
        "  dice_list=[1,2,3,4,5,6]\n",
        "  randon_num=random.choice(dice_list)\n",
        "  return(randon_num)"
      ],
      "execution_count": 74,
      "outputs": []
    },
    {
      "cell_type": "code",
      "metadata": {
        "colab": {
          "base_uri": "https://localhost:8080/"
        },
        "id": "lWFLYBPelRnW",
        "outputId": "41c1b28c-f703-4d2e-c3d5-e93c8d6dd4b1"
      },
      "source": [
        "num=dice()\n",
        "print(num)"
      ],
      "execution_count": 78,
      "outputs": [
        {
          "output_type": "stream",
          "name": "stdout",
          "text": [
            "5\n"
          ]
        }
      ]
    },
    {
      "cell_type": "code",
      "metadata": {
        "id": "dh8Cgu1mlSeT"
      },
      "source": [
        "#functions are having positional argument dependencies"
      ],
      "execution_count": 79,
      "outputs": []
    },
    {
      "cell_type": "code",
      "metadata": {
        "id": "WqfHsCt1lxXv"
      },
      "source": [
        "def student_list(name,age,sem):\n",
        "  print(\"the student named \",name,\" of age \",age, \"is studying in semester \",sem)"
      ],
      "execution_count": 82,
      "outputs": []
    },
    {
      "cell_type": "code",
      "metadata": {
        "colab": {
          "base_uri": "https://localhost:8080/"
        },
        "id": "xJA6Nl2amBhc",
        "outputId": "591651c1-486b-4981-f8fa-15951a47b794"
      },
      "source": [
        "student_list(\"robert\",sem=2,age=25)      "
      ],
      "execution_count": 85,
      "outputs": [
        {
          "output_type": "stream",
          "name": "stdout",
          "text": [
            "the student named  robert  of age  25 is studying in semester  2\n"
          ]
        }
      ]
    },
    {
      "cell_type": "code",
      "metadata": {
        "id": "AMDPApsjmFm3"
      },
      "source": [
        "#Default Arguments"
      ],
      "execution_count": 86,
      "outputs": []
    },
    {
      "cell_type": "code",
      "metadata": {
        "id": "uk6itO9BmgyY"
      },
      "source": [
        "def student_list(name,age,sem=1): #default argument\n",
        "  print(\"the student named \",name,\" of age \",age, \"is studying in semester \",sem)"
      ],
      "execution_count": 87,
      "outputs": []
    },
    {
      "cell_type": "code",
      "metadata": {
        "colab": {
          "base_uri": "https://localhost:8080/"
        },
        "id": "KPAxfwFBmleZ",
        "outputId": "98180967-467d-4f61-fd76-c331a3aa037a"
      },
      "source": [
        "student_list(\"robert\",25)"
      ],
      "execution_count": 88,
      "outputs": [
        {
          "output_type": "stream",
          "name": "stdout",
          "text": [
            "the student named  robert  of age  25 is studying in semester  1\n"
          ]
        }
      ]
    },
    {
      "cell_type": "code",
      "metadata": {
        "colab": {
          "base_uri": "https://localhost:8080/"
        },
        "id": "EmrFCeWxmod8",
        "outputId": "dc6fa0d9-3f9c-4756-d590-be751bb63878"
      },
      "source": [
        "student_list(\"aryan\",30)"
      ],
      "execution_count": 89,
      "outputs": [
        {
          "output_type": "stream",
          "name": "stdout",
          "text": [
            "the student named  aryan  of age  30 is studying in semester  1\n"
          ]
        }
      ]
    },
    {
      "cell_type": "code",
      "metadata": {
        "colab": {
          "base_uri": "https://localhost:8080/"
        },
        "id": "FfLdz0Rlmty0",
        "outputId": "04dd4c81-e211-4940-ee0a-b067fcc15cbf"
      },
      "source": [
        "student_list(\"aryan\",30,3)"
      ],
      "execution_count": 90,
      "outputs": [
        {
          "output_type": "stream",
          "name": "stdout",
          "text": [
            "the student named  aryan  of age  30 is studying in semester  3\n"
          ]
        }
      ]
    },
    {
      "cell_type": "code",
      "metadata": {
        "id": "zjDLgKfbnDS3"
      },
      "source": [
        "#global vs local variable"
      ],
      "execution_count": 91,
      "outputs": []
    },
    {
      "cell_type": "code",
      "metadata": {
        "id": "7_wE8Q-3nahT"
      },
      "source": [
        "def swap(x,y):\n",
        "  x,y=y,x        #x and y are swapped within this function, so the values are changed within this function only    LOCAL variables\n",
        "  print(\"inside the function, the value of x and y are respectively \",x,y)\n",
        "  return x,y"
      ],
      "execution_count": 98,
      "outputs": []
    },
    {
      "cell_type": "code",
      "metadata": {
        "colab": {
          "base_uri": "https://localhost:8080/"
        },
        "id": "-iFhhskenbv1",
        "outputId": "c430c915-5f97-425b-9ca0-2fff5f0ffba7"
      },
      "source": [
        "x,y=3,5\n",
        "print(\"before calling the swap function, the values of x and y are respectively \",x,y)\n",
        "swap(x,y)\n",
        "print(\"after calling the swap function, the values of x and y are respectively \",x,y)\n",
        "x=x+1\n",
        "y=y+1\n",
        "print(\"incremented values are \",x,y)"
      ],
      "execution_count": 101,
      "outputs": [
        {
          "output_type": "stream",
          "name": "stdout",
          "text": [
            "before calling the swap function, the values of x and y are respectively  3 5\n",
            "inside the function, the value of x and y are respectively  5 3\n",
            "after calling the swap function, the values of x and y are respectively  3 5\n",
            "incremented values are  4 6\n"
          ]
        }
      ]
    },
    {
      "cell_type": "code",
      "metadata": {
        "colab": {
          "base_uri": "https://localhost:8080/"
        },
        "id": "CXsXlVYln6rB",
        "outputId": "9d1b1587-e956-4c7c-f817-4eaf427e9787"
      },
      "source": [
        "x,y=3,5\n",
        "print(\"before calling the swap function, the values of x and y are respectively \",x,y)\n",
        "x,y=swap(x,y)\n",
        "print(\"after calling the swap function, the values of x and y are respectively \",x,y)\n",
        "x=x+1\n",
        "y=y+1\n",
        "print(\"incremented values are \",x,y)"
      ],
      "execution_count": 100,
      "outputs": [
        {
          "output_type": "stream",
          "name": "stdout",
          "text": [
            "before calling the swap function, the values of x and y are respectively  3 5\n",
            "inside the function, the value of x and y are respectively  5 3\n",
            "after calling the swap function, the values of x and y are respectively  5 3\n",
            "incremented values are  6 4\n"
          ]
        }
      ]
    },
    {
      "cell_type": "code",
      "metadata": {
        "id": "n9wN3x8VpFVB"
      },
      "source": [
        "def listoperation(y):\n",
        "  for i in range(len(y)):\n",
        "    y[i]=y[i]+1\n",
        "  print(\"within function\", y)"
      ],
      "execution_count": 105,
      "outputs": []
    },
    {
      "cell_type": "code",
      "metadata": {
        "colab": {
          "base_uri": "https://localhost:8080/"
        },
        "id": "9fcM0ECEtOCW",
        "outputId": "6128e9d5-7c8a-4f44-cb6e-1922244d0397"
      },
      "source": [
        "#call by reference\n",
        "x=[1,2,3,4,5]\n",
        "print(\"before but outside function\", x)\n",
        "listoperation(x)\n",
        "print(\"after but outside the function\", x)"
      ],
      "execution_count": 106,
      "outputs": [
        {
          "output_type": "stream",
          "name": "stdout",
          "text": [
            "before but outside function [1, 2, 3, 4, 5]\n",
            "within function [2, 3, 4, 5, 6]\n",
            "after but outside the function [2, 3, 4, 5, 6]\n"
          ]
        }
      ]
    },
    {
      "cell_type": "code",
      "metadata": {
        "colab": {
          "base_uri": "https://localhost:8080/",
          "height": 161
        },
        "id": "QeVCybS0wsJe",
        "outputId": "2da1f72c-a061-4dc6-e24e-a9210924ae39"
      },
      "source": [
        "1/0"
      ],
      "execution_count": 108,
      "outputs": [
        {
          "output_type": "error",
          "ename": "ZeroDivisionError",
          "evalue": "ignored",
          "traceback": [
            "\u001b[0;31m---------------------------------------------------------------------------\u001b[0m",
            "\u001b[0;31mZeroDivisionError\u001b[0m                         Traceback (most recent call last)",
            "\u001b[0;32m<ipython-input-108-9e1622b385b6>\u001b[0m in \u001b[0;36m<module>\u001b[0;34m()\u001b[0m\n\u001b[0;32m----> 1\u001b[0;31m \u001b[0;36m1\u001b[0m\u001b[0;34m/\u001b[0m\u001b[0;36m0\u001b[0m\u001b[0;34m\u001b[0m\u001b[0;34m\u001b[0m\u001b[0m\n\u001b[0m",
            "\u001b[0;31mZeroDivisionError\u001b[0m: division by zero"
          ]
        }
      ]
    },
    {
      "cell_type": "code",
      "metadata": {
        "id": "fwp_DIvrw3Ud"
      },
      "source": [
        "#lambda function\n",
        "#function_name=lambda <[parameters]>:function_body"
      ],
      "execution_count": 109,
      "outputs": []
    },
    {
      "cell_type": "code",
      "metadata": {
        "id": "5AxaNOpExpWd"
      },
      "source": [
        "def mul(arg1,arg2):\n",
        "  return (arg1*arg2)"
      ],
      "execution_count": 110,
      "outputs": []
    },
    {
      "cell_type": "code",
      "metadata": {
        "colab": {
          "base_uri": "https://localhost:8080/"
        },
        "id": "moWnByW-xycz",
        "outputId": "04afa1fc-d062-4408-bd79-6cd5ed49ad8e"
      },
      "source": [
        "print(mul(5,3))"
      ],
      "execution_count": 111,
      "outputs": [
        {
          "output_type": "stream",
          "name": "stdout",
          "text": [
            "15\n"
          ]
        }
      ]
    },
    {
      "cell_type": "code",
      "metadata": {
        "id": "-iye0Vjcx0qn"
      },
      "source": [
        "mul=lambda arg1,arg2,arg3: arg1*arg2*arg3"
      ],
      "execution_count": 117,
      "outputs": []
    },
    {
      "cell_type": "code",
      "metadata": {
        "colab": {
          "base_uri": "https://localhost:8080/"
        },
        "id": "jUY0WKq-yEXz",
        "outputId": "973d5007-3afb-47a4-fe4b-e013e6afc554"
      },
      "source": [
        "print(mul(5,3,2))"
      ],
      "execution_count": 118,
      "outputs": [
        {
          "output_type": "stream",
          "name": "stdout",
          "text": [
            "30\n"
          ]
        }
      ]
    },
    {
      "cell_type": "code",
      "metadata": {
        "id": "TC3ebMVdyG-n"
      },
      "source": [
        ""
      ],
      "execution_count": null,
      "outputs": []
    }
  ]
}