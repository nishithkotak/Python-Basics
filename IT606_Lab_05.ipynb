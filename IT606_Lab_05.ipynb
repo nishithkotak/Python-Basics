{
  "nbformat": 4,
  "nbformat_minor": 0,
  "metadata": {
    "colab": {
      "name": "IT606 Lab 05.ipynb",
      "provenance": []
    },
    "kernelspec": {
      "name": "python3",
      "display_name": "Python 3"
    },
    "language_info": {
      "name": "python"
    }
  },
  "cells": [
    {
      "cell_type": "markdown",
      "metadata": {
        "id": "nH706MlQAXPb"
      },
      "source": [
        "Sets in Python"
      ]
    },
    {
      "cell_type": "code",
      "metadata": {
        "id": "NS73SXTR__JV"
      },
      "source": [
        "Days={\"Monday\",\"Tuesday\",\"Wednesday\",\"Thursday\",\"Friday\",\"Saturday\",\"Sunday\"}"
      ],
      "execution_count": 1,
      "outputs": []
    },
    {
      "cell_type": "code",
      "metadata": {
        "colab": {
          "base_uri": "https://localhost:8080/"
        },
        "id": "ItZWjoQ3AlHb",
        "outputId": "b5077294-02b4-4294-c619-91ca9b5c23d0"
      },
      "source": [
        "print(Days) #Sets are unordered"
      ],
      "execution_count": 2,
      "outputs": [
        {
          "output_type": "stream",
          "name": "stdout",
          "text": [
            "{'Wednesday', 'Sunday', 'Thursday', 'Tuesday', 'Saturday', 'Friday', 'Monday'}\n"
          ]
        }
      ]
    },
    {
      "cell_type": "code",
      "metadata": {
        "id": "9mfp6gG4Am2B"
      },
      "source": [
        "Days=[\"Monday\",\"Tuesday\",\"Wednesday\",\"Thursday\",\"Friday\",\"Saturday\",\"Sunday\"]  #as list"
      ],
      "execution_count": 3,
      "outputs": []
    },
    {
      "cell_type": "code",
      "metadata": {
        "colab": {
          "base_uri": "https://localhost:8080/"
        },
        "id": "Jzc4tr7rA02d",
        "outputId": "d379dbc0-cf69-436e-d1cc-68333f08a728"
      },
      "source": [
        "print(Days)              #Lists are ordered"
      ],
      "execution_count": 4,
      "outputs": [
        {
          "output_type": "stream",
          "name": "stdout",
          "text": [
            "['Monday', 'Tuesday', 'Wednesday', 'Thursday', 'Friday', 'Saturday', 'Sunday']\n"
          ]
        }
      ]
    },
    {
      "cell_type": "code",
      "metadata": {
        "id": "2ur25LQsA13h"
      },
      "source": [
        "Days={\"Monday\",2,1.5,\"Wednesday\",\"Thursday\",\"Friday\",\"Saturday\",\"Sunday\"}"
      ],
      "execution_count": 6,
      "outputs": []
    },
    {
      "cell_type": "code",
      "metadata": {
        "colab": {
          "base_uri": "https://localhost:8080/"
        },
        "id": "nKj30Gv4BBiv",
        "outputId": "f99720e5-a2e3-49dd-d9b2-98198176dfe8"
      },
      "source": [
        "Days"
      ],
      "execution_count": 7,
      "outputs": [
        {
          "output_type": "execute_result",
          "data": {
            "text/plain": [
              "{1.5, 2, 'Friday', 'Monday', 'Saturday', 'Sunday', 'Thursday', 'Wednesday'}"
            ]
          },
          "metadata": {},
          "execution_count": 7
        }
      ]
    },
    {
      "cell_type": "code",
      "metadata": {
        "colab": {
          "base_uri": "https://localhost:8080/"
        },
        "id": "Pw5vLcLbBP68",
        "outputId": "6918d27d-bfc4-4d3d-cfec-441781415a0c"
      },
      "source": [
        "type(Days)"
      ],
      "execution_count": 8,
      "outputs": [
        {
          "output_type": "execute_result",
          "data": {
            "text/plain": [
              "set"
            ]
          },
          "metadata": {},
          "execution_count": 8
        }
      ]
    },
    {
      "cell_type": "code",
      "metadata": {
        "colab": {
          "base_uri": "https://localhost:8080/",
          "height": 161
        },
        "id": "ZEWu3826BZ10",
        "outputId": "3f68641b-dfa2-4e0d-fb59-4d9ab3fde45a"
      },
      "source": [
        "Days[0]"
      ],
      "execution_count": 9,
      "outputs": [
        {
          "output_type": "error",
          "ename": "TypeError",
          "evalue": "ignored",
          "traceback": [
            "\u001b[0;31m---------------------------------------------------------------------------\u001b[0m",
            "\u001b[0;31mTypeError\u001b[0m                                 Traceback (most recent call last)",
            "\u001b[0;32m<ipython-input-9-aa23c6284ba9>\u001b[0m in \u001b[0;36m<module>\u001b[0;34m()\u001b[0m\n\u001b[0;32m----> 1\u001b[0;31m \u001b[0mDays\u001b[0m\u001b[0;34m[\u001b[0m\u001b[0;36m0\u001b[0m\u001b[0;34m]\u001b[0m\u001b[0;34m\u001b[0m\u001b[0;34m\u001b[0m\u001b[0m\n\u001b[0m",
            "\u001b[0;31mTypeError\u001b[0m: 'set' object is not subscriptable"
          ]
        }
      ]
    },
    {
      "cell_type": "code",
      "metadata": {
        "colab": {
          "base_uri": "https://localhost:8080/"
        },
        "id": "DDJLXf-rBe5o",
        "outputId": "79ddf5df-e3d3-4421-8b78-268aaa099789"
      },
      "source": [
        "for i in Days:\n",
        "  print(i)"
      ],
      "execution_count": 10,
      "outputs": [
        {
          "output_type": "stream",
          "name": "stdout",
          "text": [
            "Wednesday\n",
            "1.5\n",
            "2\n",
            "Sunday\n",
            "Friday\n",
            "Saturday\n",
            "Thursday\n",
            "Monday\n"
          ]
        }
      ]
    },
    {
      "cell_type": "code",
      "metadata": {
        "colab": {
          "base_uri": "https://localhost:8080/",
          "height": 178
        },
        "id": "T6DFgwFCBtfv",
        "outputId": "a1d444ee-b5ed-4c9d-f4cf-c2a35ed478d3"
      },
      "source": [
        "for i in range(len(Days)):\n",
        "  print(Days[i])"
      ],
      "execution_count": 11,
      "outputs": [
        {
          "output_type": "error",
          "ename": "TypeError",
          "evalue": "ignored",
          "traceback": [
            "\u001b[0;31m---------------------------------------------------------------------------\u001b[0m",
            "\u001b[0;31mTypeError\u001b[0m                                 Traceback (most recent call last)",
            "\u001b[0;32m<ipython-input-11-1cc3c12c9799>\u001b[0m in \u001b[0;36m<module>\u001b[0;34m()\u001b[0m\n\u001b[1;32m      1\u001b[0m \u001b[0;32mfor\u001b[0m \u001b[0mi\u001b[0m \u001b[0;32min\u001b[0m \u001b[0mrange\u001b[0m\u001b[0;34m(\u001b[0m\u001b[0mlen\u001b[0m\u001b[0;34m(\u001b[0m\u001b[0mDays\u001b[0m\u001b[0;34m)\u001b[0m\u001b[0;34m)\u001b[0m\u001b[0;34m:\u001b[0m\u001b[0;34m\u001b[0m\u001b[0;34m\u001b[0m\u001b[0m\n\u001b[0;32m----> 2\u001b[0;31m   \u001b[0mprint\u001b[0m\u001b[0;34m(\u001b[0m\u001b[0mDays\u001b[0m\u001b[0;34m[\u001b[0m\u001b[0mi\u001b[0m\u001b[0;34m]\u001b[0m\u001b[0;34m)\u001b[0m\u001b[0;34m\u001b[0m\u001b[0;34m\u001b[0m\u001b[0m\n\u001b[0m",
            "\u001b[0;31mTypeError\u001b[0m: 'set' object is not subscriptable"
          ]
        }
      ]
    },
    {
      "cell_type": "code",
      "metadata": {
        "id": "QFdxqT7WB_Pm"
      },
      "source": [
        "Days={1,2,\"Hello\",\"DAIICT\",2.3,(1,2,3)}"
      ],
      "execution_count": 12,
      "outputs": []
    },
    {
      "cell_type": "code",
      "metadata": {
        "colab": {
          "base_uri": "https://localhost:8080/"
        },
        "id": "wSbA-3bSCNDK",
        "outputId": "5dc1272b-5151-49d5-8550-0428335c9343"
      },
      "source": [
        "Days"
      ],
      "execution_count": 13,
      "outputs": [
        {
          "output_type": "execute_result",
          "data": {
            "text/plain": [
              "{(1, 2, 3), 1, 2, 2.3, 'DAIICT', 'Hello'}"
            ]
          },
          "metadata": {},
          "execution_count": 13
        }
      ]
    },
    {
      "cell_type": "code",
      "metadata": {
        "id": "9SLVPS7rCN4h"
      },
      "source": [
        "Days={1,2,\"Hello\",\"DAIICT\",2.3,(1,2,3),1,2,3}"
      ],
      "execution_count": 14,
      "outputs": []
    },
    {
      "cell_type": "code",
      "metadata": {
        "colab": {
          "base_uri": "https://localhost:8080/"
        },
        "id": "yJAdWpMcCTV7",
        "outputId": "abbbe949-5212-4c81-cf78-491573e29b31"
      },
      "source": [
        "Days      #sets have unique elements"
      ],
      "execution_count": 15,
      "outputs": [
        {
          "output_type": "execute_result",
          "data": {
            "text/plain": [
              "{(1, 2, 3), 1, 2, 2.3, 3, 'DAIICT', 'Hello'}"
            ]
          },
          "metadata": {},
          "execution_count": 15
        }
      ]
    },
    {
      "cell_type": "code",
      "metadata": {
        "id": "0loFa-prCUBD"
      },
      "source": [
        "#using set() method\n",
        "Days=set([1,2,\"Hello\",\"DAIICT\",2.3,(1,2,3),1,2,3])"
      ],
      "execution_count": 16,
      "outputs": []
    },
    {
      "cell_type": "code",
      "metadata": {
        "colab": {
          "base_uri": "https://localhost:8080/"
        },
        "id": "A4eAFzlVC0lj",
        "outputId": "496bf8a4-dfae-4562-9b85-35831df0ed59"
      },
      "source": [
        "Days"
      ],
      "execution_count": 17,
      "outputs": [
        {
          "output_type": "execute_result",
          "data": {
            "text/plain": [
              "{(1, 2, 3), 1, 2, 2.3, 3, 'DAIICT', 'Hello'}"
            ]
          },
          "metadata": {},
          "execution_count": 17
        }
      ]
    },
    {
      "cell_type": "code",
      "metadata": {
        "id": "KvKJLmoxC1UN"
      },
      "source": [
        "A=[1,2,\"Hello\",\"DAIICT\",2.3,(1,2,3),1,2,3]"
      ],
      "execution_count": 18,
      "outputs": []
    },
    {
      "cell_type": "code",
      "metadata": {
        "colab": {
          "base_uri": "https://localhost:8080/"
        },
        "id": "dic97CYyC6hZ",
        "outputId": "b34dc0cd-28c1-4f3d-c73a-9ac51b358a75"
      },
      "source": [
        "set(A)"
      ],
      "execution_count": 20,
      "outputs": [
        {
          "output_type": "execute_result",
          "data": {
            "text/plain": [
              "{(1, 2, 3), 1, 2, 2.3, 3, 'DAIICT', 'Hello'}"
            ]
          },
          "metadata": {},
          "execution_count": 20
        }
      ]
    },
    {
      "cell_type": "code",
      "metadata": {
        "id": "b6UzP3wqC7EE"
      },
      "source": [
        "A=[1,2,\"Hello\",\"DAIICT\",(1,2),1,2,2.5,[1,2,3],1,2]"
      ],
      "execution_count": 21,
      "outputs": []
    },
    {
      "cell_type": "code",
      "metadata": {
        "colab": {
          "base_uri": "https://localhost:8080/",
          "height": 161
        },
        "id": "AfFzBZK-Dtia",
        "outputId": "7b5e2669-1a3c-4886-f23c-03901011df5b"
      },
      "source": [
        "set(A)"
      ],
      "execution_count": 22,
      "outputs": [
        {
          "output_type": "error",
          "ename": "TypeError",
          "evalue": "ignored",
          "traceback": [
            "\u001b[0;31m---------------------------------------------------------------------------\u001b[0m",
            "\u001b[0;31mTypeError\u001b[0m                                 Traceback (most recent call last)",
            "\u001b[0;32m<ipython-input-22-18cd15bec24f>\u001b[0m in \u001b[0;36m<module>\u001b[0;34m()\u001b[0m\n\u001b[0;32m----> 1\u001b[0;31m \u001b[0mset\u001b[0m\u001b[0;34m(\u001b[0m\u001b[0mA\u001b[0m\u001b[0;34m)\u001b[0m\u001b[0;34m\u001b[0m\u001b[0;34m\u001b[0m\u001b[0m\n\u001b[0m",
            "\u001b[0;31mTypeError\u001b[0m: unhashable type: 'list'"
          ]
        }
      ]
    },
    {
      "cell_type": "code",
      "metadata": {
        "colab": {
          "base_uri": "https://localhost:8080/"
        },
        "id": "uxLY1V19Du7R",
        "outputId": "794b2fbd-b818-40e9-8c64-b8c3ffe66d90"
      },
      "source": [
        "A=[1,1,1,1,1,1,1,1,1,1,2,2,2,2,2,2,3,3,3,3,3,3,4,4,4,4,4,5,5,5,5,5]\n",
        "print(set(A))"
      ],
      "execution_count": 23,
      "outputs": [
        {
          "output_type": "stream",
          "name": "stdout",
          "text": [
            "{1, 2, 3, 4, 5}\n"
          ]
        }
      ]
    },
    {
      "cell_type": "code",
      "metadata": {
        "colab": {
          "base_uri": "https://localhost:8080/"
        },
        "id": "523mnXMeD_7c",
        "outputId": "8212799d-23a1-4b79-a2f0-64d5f19ff738"
      },
      "source": [
        "set1=set()\n",
        "print(set1)\n",
        "print(type(set1))"
      ],
      "execution_count": 24,
      "outputs": [
        {
          "output_type": "stream",
          "name": "stdout",
          "text": [
            "set()\n",
            "<class 'set'>\n"
          ]
        }
      ]
    },
    {
      "cell_type": "code",
      "metadata": {
        "colab": {
          "base_uri": "https://localhost:8080/"
        },
        "id": "bLkQ3er_EHMD",
        "outputId": "34b24c82-dd92-434b-d55d-64233fe00757"
      },
      "source": [
        "Days"
      ],
      "execution_count": 25,
      "outputs": [
        {
          "output_type": "execute_result",
          "data": {
            "text/plain": [
              "{(1, 2, 3), 1, 2, 2.3, 3, 'DAIICT', 'Hello'}"
            ]
          },
          "metadata": {},
          "execution_count": 25
        }
      ]
    },
    {
      "cell_type": "code",
      "metadata": {
        "colab": {
          "base_uri": "https://localhost:8080/",
          "height": 161
        },
        "id": "cPMpbRynEYlC",
        "outputId": "e2101076-9524-4aba-fea7-903bb03df1f3"
      },
      "source": [
        "Days[1]=2"
      ],
      "execution_count": 27,
      "outputs": [
        {
          "output_type": "error",
          "ename": "TypeError",
          "evalue": "ignored",
          "traceback": [
            "\u001b[0;31m---------------------------------------------------------------------------\u001b[0m",
            "\u001b[0;31mTypeError\u001b[0m                                 Traceback (most recent call last)",
            "\u001b[0;32m<ipython-input-27-d0b30e8f5a4e>\u001b[0m in \u001b[0;36m<module>\u001b[0;34m()\u001b[0m\n\u001b[0;32m----> 1\u001b[0;31m \u001b[0mDays\u001b[0m\u001b[0;34m[\u001b[0m\u001b[0;36m1\u001b[0m\u001b[0;34m]\u001b[0m\u001b[0;34m=\u001b[0m\u001b[0;36m2\u001b[0m\u001b[0;34m\u001b[0m\u001b[0;34m\u001b[0m\u001b[0m\n\u001b[0m",
            "\u001b[0;31mTypeError\u001b[0m: 'set' object does not support item assignment"
          ]
        }
      ]
    },
    {
      "cell_type": "code",
      "metadata": {
        "colab": {
          "base_uri": "https://localhost:8080/",
          "height": 295
        },
        "id": "1en_SO_DEaLC",
        "outputId": "72e81055-b2ce-482e-886c-02556feb5b4c"
      },
      "source": [
        "#Adding the elements in set\n",
        "Days=set([\"Sunday\",\"Monday\",\"Tuesday\",\"Wednesday\",\"Thursday\"])\n",
        "print(\"Original Declared Set\")\n",
        "print(Days)\n",
        "print(\"Adding the elements in the set Days\")\n",
        "Days.add(\"Friday\")\n",
        "Days.add(\"Saturday\")\n",
        "print(\"Modified Set\")\n",
        "print(Days)\n",
        "Days.add(\"Hello\",\"DAIICT\")\n",
        "print(Days)"
      ],
      "execution_count": 30,
      "outputs": [
        {
          "output_type": "stream",
          "name": "stdout",
          "text": [
            "Original Declared Set\n",
            "{'Wednesday', 'Sunday', 'Tuesday', 'Thursday', 'Monday'}\n",
            "Adding the elements in the set Days\n",
            "Modified Set\n",
            "{'Wednesday', 'Sunday', 'Tuesday', 'Friday', 'Saturday', 'Thursday', 'Monday'}\n"
          ]
        },
        {
          "output_type": "error",
          "ename": "TypeError",
          "evalue": "ignored",
          "traceback": [
            "\u001b[0;31m---------------------------------------------------------------------------\u001b[0m",
            "\u001b[0;31mTypeError\u001b[0m                                 Traceback (most recent call last)",
            "\u001b[0;32m<ipython-input-30-64bae78f6ba6>\u001b[0m in \u001b[0;36m<module>\u001b[0;34m()\u001b[0m\n\u001b[1;32m      8\u001b[0m \u001b[0mprint\u001b[0m\u001b[0;34m(\u001b[0m\u001b[0;34m\"Modified Set\"\u001b[0m\u001b[0;34m)\u001b[0m\u001b[0;34m\u001b[0m\u001b[0;34m\u001b[0m\u001b[0m\n\u001b[1;32m      9\u001b[0m \u001b[0mprint\u001b[0m\u001b[0;34m(\u001b[0m\u001b[0mDays\u001b[0m\u001b[0;34m)\u001b[0m\u001b[0;34m\u001b[0m\u001b[0;34m\u001b[0m\u001b[0m\n\u001b[0;32m---> 10\u001b[0;31m \u001b[0mDays\u001b[0m\u001b[0;34m.\u001b[0m\u001b[0madd\u001b[0m\u001b[0;34m(\u001b[0m\u001b[0;34m\"Hello\"\u001b[0m\u001b[0;34m,\u001b[0m\u001b[0;34m\"DAIICT\"\u001b[0m\u001b[0;34m)\u001b[0m\u001b[0;34m\u001b[0m\u001b[0;34m\u001b[0m\u001b[0m\n\u001b[0m\u001b[1;32m     11\u001b[0m \u001b[0mprint\u001b[0m\u001b[0;34m(\u001b[0m\u001b[0mDays\u001b[0m\u001b[0;34m)\u001b[0m\u001b[0;34m\u001b[0m\u001b[0;34m\u001b[0m\u001b[0m\n",
            "\u001b[0;31mTypeError\u001b[0m: add() takes exactly one argument (2 given)"
          ]
        }
      ]
    },
    {
      "cell_type": "code",
      "metadata": {
        "colab": {
          "base_uri": "https://localhost:8080/",
          "height": 178
        },
        "id": "d2mVAKxwE47D",
        "outputId": "d60ad1f4-3d6f-4530-cdf6-d345cac8fb8b"
      },
      "source": [
        "Days.add(set([\"Hello\",\"DAIICT\"]))\n",
        "print(Days)"
      ],
      "execution_count": 32,
      "outputs": [
        {
          "output_type": "error",
          "ename": "TypeError",
          "evalue": "ignored",
          "traceback": [
            "\u001b[0;31m---------------------------------------------------------------------------\u001b[0m",
            "\u001b[0;31mTypeError\u001b[0m                                 Traceback (most recent call last)",
            "\u001b[0;32m<ipython-input-32-c1a86d42685a>\u001b[0m in \u001b[0;36m<module>\u001b[0;34m()\u001b[0m\n\u001b[0;32m----> 1\u001b[0;31m \u001b[0mDays\u001b[0m\u001b[0;34m.\u001b[0m\u001b[0madd\u001b[0m\u001b[0;34m(\u001b[0m\u001b[0mset\u001b[0m\u001b[0;34m(\u001b[0m\u001b[0;34m[\u001b[0m\u001b[0;34m\"Hello\"\u001b[0m\u001b[0;34m,\u001b[0m\u001b[0;34m\"DAIICT\"\u001b[0m\u001b[0;34m]\u001b[0m\u001b[0;34m)\u001b[0m\u001b[0;34m)\u001b[0m\u001b[0;34m\u001b[0m\u001b[0;34m\u001b[0m\u001b[0m\n\u001b[0m\u001b[1;32m      2\u001b[0m \u001b[0mprint\u001b[0m\u001b[0;34m(\u001b[0m\u001b[0mDays\u001b[0m\u001b[0;34m)\u001b[0m\u001b[0;34m\u001b[0m\u001b[0;34m\u001b[0m\u001b[0m\n",
            "\u001b[0;31mTypeError\u001b[0m: unhashable type: 'set'"
          ]
        }
      ]
    },
    {
      "cell_type": "code",
      "metadata": {
        "id": "37dI6tNCGBgh"
      },
      "source": [
        "Days.add((1,2,3))"
      ],
      "execution_count": 33,
      "outputs": []
    },
    {
      "cell_type": "code",
      "metadata": {
        "colab": {
          "base_uri": "https://localhost:8080/"
        },
        "id": "J17wMJyGGIhP",
        "outputId": "3a2d0c3a-2780-4c37-9671-d2d16f602bb2"
      },
      "source": [
        "Days"
      ],
      "execution_count": 34,
      "outputs": [
        {
          "output_type": "execute_result",
          "data": {
            "text/plain": [
              "{(1, 2, 3),\n",
              " 'Friday',\n",
              " 'Monday',\n",
              " 'Saturday',\n",
              " 'Sunday',\n",
              " 'Thursday',\n",
              " 'Tuesday',\n",
              " 'Wednesday'}"
            ]
          },
          "metadata": {},
          "execution_count": 34
        }
      ]
    },
    {
      "cell_type": "code",
      "metadata": {
        "colab": {
          "base_uri": "https://localhost:8080/"
        },
        "id": "ZI9eesskGJVz",
        "outputId": "cae21ed1-789b-4d93-8e28-add8a4f2a351"
      },
      "source": [
        "#update() to add multiple elements\n",
        "Days=set([\"Monday\",\"Tuesday\",\"Wednesday\",\"Thursday\"])\n",
        "print(\"original Declared Set: \", Days)\n",
        "print(\"Adding Multiple Elements\")\n",
        "Days.update([\"Friday\",\"Saturday\",\"Sunday\"])\n",
        "print(\"Modified set is: \",Days)"
      ],
      "execution_count": 35,
      "outputs": [
        {
          "output_type": "stream",
          "name": "stdout",
          "text": [
            "original Declared Set:  {'Wednesday', 'Tuesday', 'Monday', 'Thursday'}\n",
            "Adding Multiple Elements\n",
            "Modified set is:  {'Wednesday', 'Sunday', 'Thursday', 'Tuesday', 'Saturday', 'Friday', 'Monday'}\n"
          ]
        }
      ]
    },
    {
      "cell_type": "code",
      "metadata": {
        "colab": {
          "base_uri": "https://localhost:8080/"
        },
        "id": "K7OcxoKOHB9h",
        "outputId": "d54f6d7d-6b63-4e0c-fe44-5123f9dc2955"
      },
      "source": [
        "Days"
      ],
      "execution_count": 36,
      "outputs": [
        {
          "output_type": "execute_result",
          "data": {
            "text/plain": [
              "{'Friday', 'Monday', 'Saturday', 'Sunday', 'Thursday', 'Tuesday', 'Wednesday'}"
            ]
          },
          "metadata": {},
          "execution_count": 36
        }
      ]
    },
    {
      "cell_type": "code",
      "metadata": {
        "id": "NL3lWYqyG0py"
      },
      "source": [
        "Days.update(\"DAIICT\")"
      ],
      "execution_count": 37,
      "outputs": []
    },
    {
      "cell_type": "code",
      "metadata": {
        "colab": {
          "base_uri": "https://localhost:8080/"
        },
        "id": "NDdJPteAHK8D",
        "outputId": "4906a9b0-c8ed-4a06-c63c-e1aaebffe354"
      },
      "source": [
        "Days"
      ],
      "execution_count": 38,
      "outputs": [
        {
          "output_type": "execute_result",
          "data": {
            "text/plain": [
              "{'A',\n",
              " 'C',\n",
              " 'D',\n",
              " 'Friday',\n",
              " 'I',\n",
              " 'Monday',\n",
              " 'Saturday',\n",
              " 'Sunday',\n",
              " 'T',\n",
              " 'Thursday',\n",
              " 'Tuesday',\n",
              " 'Wednesday'}"
            ]
          },
          "metadata": {},
          "execution_count": 38
        }
      ]
    },
    {
      "cell_type": "code",
      "metadata": {
        "id": "EkHP7sAZHLdU"
      },
      "source": [
        "Days.update(\"1\")"
      ],
      "execution_count": 40,
      "outputs": []
    },
    {
      "cell_type": "code",
      "metadata": {
        "colab": {
          "base_uri": "https://localhost:8080/"
        },
        "id": "Kx1fiz-nHmKJ",
        "outputId": "9308d772-cdf2-407b-9810-fad42b186836"
      },
      "source": [
        "Days"
      ],
      "execution_count": 41,
      "outputs": [
        {
          "output_type": "execute_result",
          "data": {
            "text/plain": [
              "{'1',\n",
              " 'A',\n",
              " 'C',\n",
              " 'D',\n",
              " 'Friday',\n",
              " 'I',\n",
              " 'Monday',\n",
              " 'Saturday',\n",
              " 'Sunday',\n",
              " 'T',\n",
              " 'Thursday',\n",
              " 'Tuesday',\n",
              " 'Wednesday'}"
            ]
          },
          "metadata": {},
          "execution_count": 41
        }
      ]
    },
    {
      "cell_type": "code",
      "metadata": {
        "colab": {
          "base_uri": "https://localhost:8080/"
        },
        "id": "5o4yeu2rHqpT",
        "outputId": "96d5339a-e76a-44d1-c2c8-09ea402ca150"
      },
      "source": [
        "Numbers=set([1,2,3,4,5,6])\n",
        "Numbers.update([7,8,9])\n",
        "print(Numbers)"
      ],
      "execution_count": 42,
      "outputs": [
        {
          "output_type": "stream",
          "name": "stdout",
          "text": [
            "{1, 2, 3, 4, 5, 6, 7, 8, 9}\n"
          ]
        }
      ]
    },
    {
      "cell_type": "code",
      "metadata": {
        "id": "W3x0T-zMIGnG"
      },
      "source": [
        "Numbers.add(10)"
      ],
      "execution_count": 43,
      "outputs": []
    },
    {
      "cell_type": "code",
      "metadata": {
        "colab": {
          "base_uri": "https://localhost:8080/"
        },
        "id": "EQis3Lp1IJjN",
        "outputId": "eb30b4e2-3868-43d6-bf76-229e61316277"
      },
      "source": [
        "Numbers"
      ],
      "execution_count": 44,
      "outputs": [
        {
          "output_type": "execute_result",
          "data": {
            "text/plain": [
              "{1, 2, 3, 4, 5, 6, 7, 8, 9, 10}"
            ]
          },
          "metadata": {},
          "execution_count": 44
        }
      ]
    },
    {
      "cell_type": "code",
      "metadata": {
        "id": "Ouvas2fgILB0"
      },
      "source": [
        "Numbers.update([\"Hello\",\"DAIICT\",(1,2,3),4.5])"
      ],
      "execution_count": 45,
      "outputs": []
    },
    {
      "cell_type": "code",
      "metadata": {
        "colab": {
          "base_uri": "https://localhost:8080/"
        },
        "id": "2HmaGO-UISaG",
        "outputId": "5c29b3c6-0efb-4247-a835-d88cdf69dc30"
      },
      "source": [
        "Numbers"
      ],
      "execution_count": 46,
      "outputs": [
        {
          "output_type": "execute_result",
          "data": {
            "text/plain": [
              "{(1, 2, 3), 1, 10, 2, 3, 4, 4.5, 5, 6, 7, 8, 9, 'DAIICT', 'Hello'}"
            ]
          },
          "metadata": {},
          "execution_count": 46
        }
      ]
    },
    {
      "cell_type": "code",
      "metadata": {
        "id": "Y0HChEOAITJA"
      },
      "source": [
        "Numbers.update([11])"
      ],
      "execution_count": 48,
      "outputs": []
    },
    {
      "cell_type": "code",
      "metadata": {
        "colab": {
          "base_uri": "https://localhost:8080/"
        },
        "id": "QDu9rguoIkRV",
        "outputId": "2be1e2ec-83ea-4044-9dd6-6127a89e1174"
      },
      "source": [
        "Numbers"
      ],
      "execution_count": 49,
      "outputs": [
        {
          "output_type": "execute_result",
          "data": {
            "text/plain": [
              "{(1, 2, 3), 1, 10, 11, 2, 3, 4, 4.5, 5, 6, 7, 8, 9, 'DAIICT', 'Hello'}"
            ]
          },
          "metadata": {},
          "execution_count": 49
        }
      ]
    },
    {
      "cell_type": "code",
      "metadata": {
        "id": "aTEK0pCMIoQy"
      },
      "source": [
        "Numbers.update('3456')"
      ],
      "execution_count": 50,
      "outputs": []
    },
    {
      "cell_type": "code",
      "metadata": {
        "colab": {
          "base_uri": "https://localhost:8080/"
        },
        "id": "1NdJaCnKJKSO",
        "outputId": "93cb2ebd-1ebf-4a7d-f3f3-44ce9b377a47"
      },
      "source": [
        "Numbers"
      ],
      "execution_count": 51,
      "outputs": [
        {
          "output_type": "execute_result",
          "data": {
            "text/plain": [
              "{(1, 2, 3),\n",
              " 1,\n",
              " 10,\n",
              " 11,\n",
              " 2,\n",
              " 3,\n",
              " '3',\n",
              " 4,\n",
              " '4',\n",
              " 4.5,\n",
              " 5,\n",
              " '5',\n",
              " 6,\n",
              " '6',\n",
              " 7,\n",
              " 8,\n",
              " 9,\n",
              " 'DAIICT',\n",
              " 'Hello'}"
            ]
          },
          "metadata": {},
          "execution_count": 51
        }
      ]
    },
    {
      "cell_type": "code",
      "metadata": {
        "id": "1_1-ShoVJLKl"
      },
      "source": [
        "Numbers.update(['3456','123'])\n",
        "#'3456' --> '3','4','5','6'\n",
        "#'3456','123' --> '3','4','5','6','1','2','3'"
      ],
      "execution_count": 54,
      "outputs": []
    },
    {
      "cell_type": "code",
      "metadata": {
        "colab": {
          "base_uri": "https://localhost:8080/"
        },
        "id": "81BR86VJJjqv",
        "outputId": "f175eeec-1c33-4487-e67c-7dcc0f424673"
      },
      "source": [
        "Numbers"
      ],
      "execution_count": 55,
      "outputs": [
        {
          "output_type": "execute_result",
          "data": {
            "text/plain": [
              "{(1, 2, 3),\n",
              " 1,\n",
              " '1',\n",
              " 10,\n",
              " 11,\n",
              " '123',\n",
              " 2,\n",
              " '2',\n",
              " 3,\n",
              " '3',\n",
              " '3456',\n",
              " 4,\n",
              " '4',\n",
              " 4.5,\n",
              " 5,\n",
              " '5',\n",
              " 6,\n",
              " '6',\n",
              " 7,\n",
              " 8,\n",
              " 9,\n",
              " 'DAIICT',\n",
              " 'Hello'}"
            ]
          },
          "metadata": {},
          "execution_count": 55
        }
      ]
    },
    {
      "cell_type": "code",
      "metadata": {
        "colab": {
          "base_uri": "https://localhost:8080/"
        },
        "id": "auiyzb-TJko7",
        "outputId": "67622df4-1275-430b-fcd4-1f05a89cae5b"
      },
      "source": [
        "#Removing the values from the set--> discard()\n",
        "Days={'Friday', 'Monday', 'Saturday', 'Sunday', 'Thursday', 'Tuesday', 'Wednesday'}\n",
        "print(\"Original Set: \",Days)\n",
        "print(\"Removing some day\")\n",
        "Days.discard(\"Friday\")\n",
        "print(\"Modified set: \",Days)\n"
      ],
      "execution_count": 56,
      "outputs": [
        {
          "output_type": "stream",
          "name": "stdout",
          "text": [
            "Original Set:  {'Wednesday', 'Sunday', 'Tuesday', 'Friday', 'Saturday', 'Thursday', 'Monday'}\n",
            "Removing some day\n",
            "Modified set:  {'Wednesday', 'Sunday', 'Tuesday', 'Saturday', 'Thursday', 'Monday'}\n"
          ]
        }
      ]
    },
    {
      "cell_type": "code",
      "metadata": {
        "id": "K1UBOhTQLCJu"
      },
      "source": [
        "Days.discard(\"Hello\")"
      ],
      "execution_count": 59,
      "outputs": []
    },
    {
      "cell_type": "code",
      "metadata": {
        "colab": {
          "base_uri": "https://localhost:8080/"
        },
        "id": "bfy7u_AALLpz",
        "outputId": "400bfbb9-51dd-4c5a-87c9-c74156362108"
      },
      "source": [
        "Days"
      ],
      "execution_count": 60,
      "outputs": [
        {
          "output_type": "execute_result",
          "data": {
            "text/plain": [
              "{'Monday', 'Saturday', 'Sunday', 'Thursday', 'Tuesday', 'Wednesday'}"
            ]
          },
          "metadata": {},
          "execution_count": 60
        }
      ]
    },
    {
      "cell_type": "code",
      "metadata": {
        "colab": {
          "base_uri": "https://localhost:8080/",
          "height": 262
        },
        "id": "0sYcIErELNzM",
        "outputId": "bb117a81-3403-4b3f-eedb-b85fb3428015"
      },
      "source": [
        "#remove() to remove the element from the set\n",
        "Days={'Friday', 'Monday', 'Saturday', 'Sunday', 'Thursday', 'Tuesday', 'Wednesday'}\n",
        "print(\"Original Set: \",Days)\n",
        "print(\"Removing some day\")\n",
        "Days.remove('Monday')\n",
        "Days.remove('Friday')\n",
        "print(\"Modified Set: \",Days)\n",
        "print(\"Removing the element not present in the set\")\n",
        "Days.remove(\"hello\")"
      ],
      "execution_count": 61,
      "outputs": [
        {
          "output_type": "stream",
          "name": "stdout",
          "text": [
            "Original Set:  {'Wednesday', 'Sunday', 'Tuesday', 'Friday', 'Saturday', 'Thursday', 'Monday'}\n",
            "Removing some day\n",
            "Modified Set:  {'Wednesday', 'Sunday', 'Tuesday', 'Saturday', 'Thursday'}\n",
            "Removing the element not present in the set\n"
          ]
        },
        {
          "output_type": "error",
          "ename": "KeyError",
          "evalue": "ignored",
          "traceback": [
            "\u001b[0;31m---------------------------------------------------------------------------\u001b[0m",
            "\u001b[0;31mKeyError\u001b[0m                                  Traceback (most recent call last)",
            "\u001b[0;32m<ipython-input-61-75ed65a27dfe>\u001b[0m in \u001b[0;36m<module>\u001b[0;34m()\u001b[0m\n\u001b[1;32m      7\u001b[0m \u001b[0mprint\u001b[0m\u001b[0;34m(\u001b[0m\u001b[0;34m\"Modified Set: \"\u001b[0m\u001b[0;34m,\u001b[0m\u001b[0mDays\u001b[0m\u001b[0;34m)\u001b[0m\u001b[0;34m\u001b[0m\u001b[0;34m\u001b[0m\u001b[0m\n\u001b[1;32m      8\u001b[0m \u001b[0mprint\u001b[0m\u001b[0;34m(\u001b[0m\u001b[0;34m\"Removing the element not present in the set\"\u001b[0m\u001b[0;34m)\u001b[0m\u001b[0;34m\u001b[0m\u001b[0;34m\u001b[0m\u001b[0m\n\u001b[0;32m----> 9\u001b[0;31m \u001b[0mDays\u001b[0m\u001b[0;34m.\u001b[0m\u001b[0mremove\u001b[0m\u001b[0;34m(\u001b[0m\u001b[0;34m\"hello\"\u001b[0m\u001b[0;34m)\u001b[0m\u001b[0;34m\u001b[0m\u001b[0;34m\u001b[0m\u001b[0m\n\u001b[0m",
            "\u001b[0;31mKeyError\u001b[0m: 'hello'"
          ]
        }
      ]
    },
    {
      "cell_type": "code",
      "metadata": {
        "colab": {
          "base_uri": "https://localhost:8080/"
        },
        "id": "e3L1Xx71L4SM",
        "outputId": "35650781-dd84-4c25-84ac-96c0a589ac8d"
      },
      "source": [
        "#pop() to remove the element --> we can't determine which element will be removed\n",
        "Days={'Friday', 'Monday', 'Saturday', 'Sunday', 'Thursday', 'Tuesday', 'Wednesday'}\n",
        "print(\"Original Set: \",Days)\n",
        "print(\"Removing some day\")\n",
        "Days.pop()\n",
        "print(\"Modified Set: \",Days)"
      ],
      "execution_count": 62,
      "outputs": [
        {
          "output_type": "stream",
          "name": "stdout",
          "text": [
            "Original Set:  {'Wednesday', 'Sunday', 'Tuesday', 'Friday', 'Saturday', 'Thursday', 'Monday'}\n",
            "Removing some day\n",
            "Modified Set:  {'Sunday', 'Tuesday', 'Friday', 'Saturday', 'Thursday', 'Monday'}\n"
          ]
        }
      ]
    },
    {
      "cell_type": "code",
      "metadata": {
        "colab": {
          "base_uri": "https://localhost:8080/"
        },
        "id": "7KbunbUkMlBM",
        "outputId": "aa32dc8b-adf4-4ff6-d602-fc2154842565"
      },
      "source": [
        "Days"
      ],
      "execution_count": 63,
      "outputs": [
        {
          "output_type": "execute_result",
          "data": {
            "text/plain": [
              "{'Friday', 'Monday', 'Saturday', 'Sunday', 'Thursday', 'Tuesday'}"
            ]
          },
          "metadata": {},
          "execution_count": 63
        }
      ]
    },
    {
      "cell_type": "code",
      "metadata": {
        "id": "0ETfp76oNFFH"
      },
      "source": [
        "#Removing all the values\n",
        "Days.clear()"
      ],
      "execution_count": 64,
      "outputs": []
    },
    {
      "cell_type": "code",
      "metadata": {
        "colab": {
          "base_uri": "https://localhost:8080/"
        },
        "id": "GtGX9oJ2NJ0h",
        "outputId": "13e10d28-dd0c-4c4c-f75f-fd46abc9cf6a"
      },
      "source": [
        "Days"
      ],
      "execution_count": 65,
      "outputs": [
        {
          "output_type": "execute_result",
          "data": {
            "text/plain": [
              "set()"
            ]
          },
          "metadata": {},
          "execution_count": 65
        }
      ]
    },
    {
      "cell_type": "markdown",
      "metadata": {
        "id": "yCziwhqnNRTK"
      },
      "source": [
        "Mathematical Operations in Set"
      ]
    },
    {
      "cell_type": "code",
      "metadata": {
        "id": "RgcQ5dTENK0m"
      },
      "source": [
        "Days1={\"Monday\",\"Wednesday\",\"Friday\",\"Sunday\"}\n",
        "Days2={\"Sunday\",\"Tuesday\",\"Thursday\",\"Saturday\"}\n"
      ],
      "execution_count": 66,
      "outputs": []
    },
    {
      "cell_type": "code",
      "metadata": {
        "colab": {
          "base_uri": "https://localhost:8080/"
        },
        "id": "m4LE-11DNi6f",
        "outputId": "dbfe1937-aa1c-45c0-b520-87d174c5877c"
      },
      "source": [
        "#union operation\n",
        "Days1.union(Days2)"
      ],
      "execution_count": 67,
      "outputs": [
        {
          "output_type": "execute_result",
          "data": {
            "text/plain": [
              "{'Friday', 'Monday', 'Saturday', 'Sunday', 'Thursday', 'Tuesday', 'Wednesday'}"
            ]
          },
          "metadata": {},
          "execution_count": 67
        }
      ]
    },
    {
      "cell_type": "code",
      "metadata": {
        "colab": {
          "base_uri": "https://localhost:8080/"
        },
        "id": "3OQ6pGq2Nn_9",
        "outputId": "9aa838cb-c06f-4581-da44-a9b1039d45cb"
      },
      "source": [
        "Days1|Days2"
      ],
      "execution_count": 68,
      "outputs": [
        {
          "output_type": "execute_result",
          "data": {
            "text/plain": [
              "{'Friday', 'Monday', 'Saturday', 'Sunday', 'Thursday', 'Tuesday', 'Wednesday'}"
            ]
          },
          "metadata": {},
          "execution_count": 68
        }
      ]
    },
    {
      "cell_type": "code",
      "metadata": {
        "colab": {
          "base_uri": "https://localhost:8080/"
        },
        "id": "QCLWYTqcNztO",
        "outputId": "a09d543c-32b1-4a34-d904-9d0c78f67a0e"
      },
      "source": [
        "#intersection operation\n",
        "Days1.intersection(Days2)"
      ],
      "execution_count": 69,
      "outputs": [
        {
          "output_type": "execute_result",
          "data": {
            "text/plain": [
              "{'Sunday'}"
            ]
          },
          "metadata": {},
          "execution_count": 69
        }
      ]
    },
    {
      "cell_type": "code",
      "metadata": {
        "colab": {
          "base_uri": "https://localhost:8080/"
        },
        "id": "9--M1FMTN-vf",
        "outputId": "db7e5df1-1539-4b76-c23f-0553df29c26a"
      },
      "source": [
        "Days1&Days2"
      ],
      "execution_count": 70,
      "outputs": [
        {
          "output_type": "execute_result",
          "data": {
            "text/plain": [
              "{'Sunday'}"
            ]
          },
          "metadata": {},
          "execution_count": 70
        }
      ]
    },
    {
      "cell_type": "code",
      "metadata": {
        "colab": {
          "base_uri": "https://localhost:8080/"
        },
        "id": "NEMY6ECUOClP",
        "outputId": "be2ee3f1-6760-4197-fa5e-aae12310e004"
      },
      "source": [
        "Days1={\"Monday\",\"Wednesday\",\"Friday\",\"Sunday\"}\n",
        "Days2={\"Sunday\",\"Tuesday\",\"Thursday\",\"Saturday\"}\n",
        "Days3={\"Tuesday\",\"Wedesday\",\"Sunday\"}\n",
        "Days1.intersection(Days2,Days3)"
      ],
      "execution_count": 72,
      "outputs": [
        {
          "output_type": "execute_result",
          "data": {
            "text/plain": [
              "{'Sunday'}"
            ]
          },
          "metadata": {},
          "execution_count": 72
        }
      ]
    },
    {
      "cell_type": "code",
      "metadata": {
        "colab": {
          "base_uri": "https://localhost:8080/"
        },
        "id": "eUFb1a2FOSHX",
        "outputId": "be0e01b5-89b0-400d-dd08-8bb89ac36681"
      },
      "source": [
        "#symmetric difference operation\n",
        "Days1-Days2"
      ],
      "execution_count": 73,
      "outputs": [
        {
          "output_type": "execute_result",
          "data": {
            "text/plain": [
              "{'Friday', 'Monday', 'Wednesday'}"
            ]
          },
          "metadata": {},
          "execution_count": 73
        }
      ]
    },
    {
      "cell_type": "code",
      "metadata": {
        "colab": {
          "base_uri": "https://localhost:8080/"
        },
        "id": "eYro9vUUO_Gi",
        "outputId": "210d5909-474a-405e-a781-f6f36f77bba6"
      },
      "source": [
        "Days2"
      ],
      "execution_count": 76,
      "outputs": [
        {
          "output_type": "execute_result",
          "data": {
            "text/plain": [
              "{'Saturday', 'Sunday', 'Thursday', 'Tuesday'}"
            ]
          },
          "metadata": {},
          "execution_count": 76
        }
      ]
    },
    {
      "cell_type": "code",
      "metadata": {
        "colab": {
          "base_uri": "https://localhost:8080/"
        },
        "id": "c2xBdMD6Oil8",
        "outputId": "f0c6b040-690d-4093-bc1d-5290d0e61e4c"
      },
      "source": [
        "Days1.symmetric_difference(Days2)"
      ],
      "execution_count": 74,
      "outputs": [
        {
          "output_type": "execute_result",
          "data": {
            "text/plain": [
              "{'Friday', 'Monday', 'Saturday', 'Thursday', 'Tuesday', 'Wednesday'}"
            ]
          },
          "metadata": {},
          "execution_count": 74
        }
      ]
    },
    {
      "cell_type": "code",
      "metadata": {
        "id": "vEJuw_qAO6hf"
      },
      "source": [
        "#Comparison between the sets\n",
        "Days1={'A','B','C','D'}\n",
        "Days2={'C','D','E','F'}\n",
        "Days3={'A','G','H'}\n",
        "Days4={'C','D'}"
      ],
      "execution_count": 79,
      "outputs": []
    },
    {
      "cell_type": "code",
      "metadata": {
        "colab": {
          "base_uri": "https://localhost:8080/"
        },
        "id": "MdY-DyKxPYyt",
        "outputId": "ec3f984d-582c-4a84-9b34-8c09d3b607c2"
      },
      "source": [
        "Days1>Days2"
      ],
      "execution_count": 78,
      "outputs": [
        {
          "output_type": "execute_result",
          "data": {
            "text/plain": [
              "False"
            ]
          },
          "metadata": {},
          "execution_count": 78
        }
      ]
    },
    {
      "cell_type": "code",
      "metadata": {
        "colab": {
          "base_uri": "https://localhost:8080/"
        },
        "id": "UpL2y4JcPcZS",
        "outputId": "caa42cf7-557c-481b-db69-21a7c9655d5b"
      },
      "source": [
        "Days1>Days4  #Days1 is a superset of Days4"
      ],
      "execution_count": 80,
      "outputs": [
        {
          "output_type": "execute_result",
          "data": {
            "text/plain": [
              "True"
            ]
          },
          "metadata": {},
          "execution_count": 80
        }
      ]
    },
    {
      "cell_type": "code",
      "metadata": {
        "colab": {
          "base_uri": "https://localhost:8080/"
        },
        "id": "zW31XCrWQEGQ",
        "outputId": "b404d813-33d6-425b-85fa-bc332594fc04"
      },
      "source": [
        "Days1.issuperset(Days4)"
      ],
      "execution_count": 85,
      "outputs": [
        {
          "output_type": "execute_result",
          "data": {
            "text/plain": [
              "True"
            ]
          },
          "metadata": {},
          "execution_count": 85
        }
      ]
    },
    {
      "cell_type": "code",
      "metadata": {
        "colab": {
          "base_uri": "https://localhost:8080/"
        },
        "id": "RGChq1L9PjiU",
        "outputId": "194d4528-4cc2-442e-cfae-099bd182a744"
      },
      "source": [
        "Days4<Days2  #Days4 is a subset of Days2"
      ],
      "execution_count": 81,
      "outputs": [
        {
          "output_type": "execute_result",
          "data": {
            "text/plain": [
              "True"
            ]
          },
          "metadata": {},
          "execution_count": 81
        }
      ]
    },
    {
      "cell_type": "code",
      "metadata": {
        "colab": {
          "base_uri": "https://localhost:8080/"
        },
        "id": "0oSbnaXdQHjj",
        "outputId": "58f94ae2-49a2-4aaa-e3b0-ca57aef334d8"
      },
      "source": [
        "Days4.issubset(Days2)"
      ],
      "execution_count": 86,
      "outputs": [
        {
          "output_type": "execute_result",
          "data": {
            "text/plain": [
              "True"
            ]
          },
          "metadata": {},
          "execution_count": 86
        }
      ]
    },
    {
      "cell_type": "code",
      "metadata": {
        "colab": {
          "base_uri": "https://localhost:8080/"
        },
        "id": "w1dvzIPVPpQW",
        "outputId": "504e0cbe-7522-4ca7-9688-96476a2fff89"
      },
      "source": [
        "Days1==Days2"
      ],
      "execution_count": 82,
      "outputs": [
        {
          "output_type": "execute_result",
          "data": {
            "text/plain": [
              "False"
            ]
          },
          "metadata": {},
          "execution_count": 82
        }
      ]
    },
    {
      "cell_type": "code",
      "metadata": {
        "colab": {
          "base_uri": "https://localhost:8080/"
        },
        "id": "nkzo_BaoPz5R",
        "outputId": "a6f01cb0-f37e-47e6-8458-7b6e6564945e"
      },
      "source": [
        "Days1.isdisjoint(Days2)"
      ],
      "execution_count": 83,
      "outputs": [
        {
          "output_type": "execute_result",
          "data": {
            "text/plain": [
              "False"
            ]
          },
          "metadata": {},
          "execution_count": 83
        }
      ]
    },
    {
      "cell_type": "code",
      "metadata": {
        "colab": {
          "base_uri": "https://localhost:8080/"
        },
        "id": "ps89ewjuP4Hu",
        "outputId": "049e18d7-ce41-4435-c416-dddcc3f1fee7"
      },
      "source": [
        "Days3.isdisjoint(Days4)"
      ],
      "execution_count": 84,
      "outputs": [
        {
          "output_type": "execute_result",
          "data": {
            "text/plain": [
              "True"
            ]
          },
          "metadata": {},
          "execution_count": 84
        }
      ]
    },
    {
      "cell_type": "code",
      "metadata": {
        "colab": {
          "base_uri": "https://localhost:8080/"
        },
        "id": "dm2iPajtP_Cw",
        "outputId": "335f1637-38e7-487d-da9c-f695bf8d19b1"
      },
      "source": [
        "Days3"
      ],
      "execution_count": 87,
      "outputs": [
        {
          "output_type": "execute_result",
          "data": {
            "text/plain": [
              "{'A', 'G', 'H'}"
            ]
          },
          "metadata": {},
          "execution_count": 87
        }
      ]
    },
    {
      "cell_type": "code",
      "metadata": {
        "colab": {
          "base_uri": "https://localhost:8080/"
        },
        "id": "ndBzxxrFQOh5",
        "outputId": "4e392756-0650-4731-c515-3c8e88283e36"
      },
      "source": [
        "'A' in Days3"
      ],
      "execution_count": 88,
      "outputs": [
        {
          "output_type": "execute_result",
          "data": {
            "text/plain": [
              "True"
            ]
          },
          "metadata": {},
          "execution_count": 88
        }
      ]
    },
    {
      "cell_type": "code",
      "metadata": {
        "colab": {
          "base_uri": "https://localhost:8080/"
        },
        "id": "sq8MiYlAQQhg",
        "outputId": "580187b8-ede7-42b9-9fca-69176f5a5077"
      },
      "source": [
        "'a' in Days3"
      ],
      "execution_count": 89,
      "outputs": [
        {
          "output_type": "execute_result",
          "data": {
            "text/plain": [
              "False"
            ]
          },
          "metadata": {},
          "execution_count": 89
        }
      ]
    },
    {
      "cell_type": "code",
      "metadata": {
        "colab": {
          "base_uri": "https://localhost:8080/"
        },
        "id": "_Uc-ZfCBQTv1",
        "outputId": "cdc4b04d-5692-4172-da28-a52368614eaf"
      },
      "source": [
        "#find the number of unplaced students\n",
        "students=['Ram','Shyam','Mohan','Kiran','Riya']\n",
        "placed_Students=['Ram','Riya','Shyam']\n",
        "not_placed_students=set(students)-set(placed_Students)\n",
        "print(not_placed_students)\n",
        "print(\"number of students not placed: \",len(not_placed_students))"
      ],
      "execution_count": 92,
      "outputs": [
        {
          "output_type": "stream",
          "name": "stdout",
          "text": [
            "{'Kiran', 'Mohan'}\n",
            "number of students not placed:  2\n"
          ]
        }
      ]
    },
    {
      "cell_type": "markdown",
      "metadata": {
        "id": "ApVV9LnbRZmD"
      },
      "source": [
        "Application of NLP"
      ]
    },
    {
      "cell_type": "code",
      "metadata": {
        "id": "mQFpvncQQ3G-"
      },
      "source": [
        "#NLP=Natural Language Processing\n",
        "#Fields: Data Science, Data Analytics, Power Electronics\n",
        "ds_text='Data science is an interdisciplinary field that uses scientific methods processes algorithms and systems to extract knowledge and insights from noisy, structured and unstructured data and apply knowledge and actionable insights from data across a broad range of application domains Data science is related to data mining machine learning and big data'\n",
        "da_text=\"Data analysis is a process of inspecting cleansing transforming and modelling data with the goal of discovering useful information informing conclusions and supporting decision making Data analysis has multiple facets and approaches encompassing diverse techniques under a variety of names and is used in different business science and social science domains In today's business world data analysis plays a role in making decisions more scientific and helping businesses operate more effectively\"\n",
        "power_text='Power electronics is the application of solid state electronics to the control and conversion of electric power The first high power electronic devices were made using mercury arc valves In modern systems the conversion is performed with semiconductor switching devices such as diodes thyristors and power transistors such as the power MOSFET and IGBT In contrast to electronic systems concerned with transmission and processing of signals and data in power electronics substantial amounts of electrical energy are processed'"
      ],
      "execution_count": 93,
      "outputs": []
    },
    {
      "cell_type": "code",
      "metadata": {
        "id": "N6Ixkij_SnDX"
      },
      "source": [
        "ds_set=set(ds_text.split(' '))\n",
        "da_set=set(da_text.split(' '))\n",
        "power_set=set(power_text.split(' '))"
      ],
      "execution_count": 94,
      "outputs": []
    },
    {
      "cell_type": "code",
      "metadata": {
        "colab": {
          "base_uri": "https://localhost:8080/"
        },
        "id": "tAVFMqGOS4xP",
        "outputId": "d2551e12-e2cd-491a-c4c3-62dae5c54a3c"
      },
      "source": [
        "print(\"data science vs data analytics\")\n",
        "print(ds_set.intersection(da_set))\n",
        "print(len(ds_set.intersection(da_set)))"
      ],
      "execution_count": 96,
      "outputs": [
        {
          "output_type": "stream",
          "name": "stdout",
          "text": [
            "data science vs data analytics\n",
            "{'is', 'of', 'and', 'science', 'data', 'scientific', 'a', 'Data', 'domains'}\n",
            "9\n"
          ]
        }
      ]
    },
    {
      "cell_type": "code",
      "metadata": {
        "colab": {
          "base_uri": "https://localhost:8080/"
        },
        "id": "ArmxQpUWTDXM",
        "outputId": "190c3be8-126e-4687-f7fa-1aeabc6c9a56"
      },
      "source": [
        "print(\"data science vs power electronics\")\n",
        "print(ds_set.intersection(power_set))\n",
        "print(len(ds_set.intersection(power_set)))"
      ],
      "execution_count": 97,
      "outputs": [
        {
          "output_type": "stream",
          "name": "stdout",
          "text": [
            "data science vs power electronics\n",
            "{'systems', 'is', 'of', 'and', 'application', 'data', 'to'}\n",
            "7\n"
          ]
        }
      ]
    },
    {
      "cell_type": "code",
      "metadata": {
        "colab": {
          "base_uri": "https://localhost:8080/"
        },
        "id": "SY85Iw3MTQKe",
        "outputId": "761474e3-3330-4c63-83e6-2038b588cce3"
      },
      "source": [
        "print(\"data analytics vs power electronics\")\n",
        "print(da_set.intersection(power_set))\n",
        "print(len(da_set.intersection(power_set)))"
      ],
      "execution_count": 98,
      "outputs": [
        {
          "output_type": "stream",
          "name": "stdout",
          "text": [
            "data analytics vs power electronics\n",
            "{'with', 'is', 'of', 'In', 'and', 'the', 'data', 'in'}\n",
            "8\n"
          ]
        }
      ]
    },
    {
      "cell_type": "markdown",
      "metadata": {
        "id": "D6QC5ZgRcKYA"
      },
      "source": [
        "Dictionary in Python"
      ]
    },
    {
      "cell_type": "code",
      "metadata": {
        "id": "-tLxDjoETV21"
      },
      "source": [
        "Dict={\"Name\":\"Ram\",\"Age\": 25,\"Institute\":\"DAIICT\"}"
      ],
      "execution_count": 99,
      "outputs": []
    },
    {
      "cell_type": "code",
      "metadata": {
        "colab": {
          "base_uri": "https://localhost:8080/"
        },
        "id": "__IQ-4TPcr8E",
        "outputId": "bff90803-dd1f-4eb3-e9a1-7008631d5277"
      },
      "source": [
        "Dict"
      ],
      "execution_count": 100,
      "outputs": [
        {
          "output_type": "execute_result",
          "data": {
            "text/plain": [
              "{'Age': 25, 'Institute': 'DAIICT', 'Name': 'Ram'}"
            ]
          },
          "metadata": {},
          "execution_count": 100
        }
      ]
    },
    {
      "cell_type": "code",
      "metadata": {
        "colab": {
          "base_uri": "https://localhost:8080/",
          "height": 35
        },
        "id": "kdJojHGbctGo",
        "outputId": "060019ea-1d39-490b-ca47-a0fb1a45ccd2"
      },
      "source": [
        "Dict['Name']"
      ],
      "execution_count": 101,
      "outputs": [
        {
          "output_type": "execute_result",
          "data": {
            "application/vnd.google.colaboratory.intrinsic+json": {
              "type": "string"
            },
            "text/plain": [
              "'Ram'"
            ]
          },
          "metadata": {},
          "execution_count": 101
        }
      ]
    },
    {
      "cell_type": "code",
      "metadata": {
        "colab": {
          "base_uri": "https://localhost:8080/"
        },
        "id": "M42bHl8Qc1-1",
        "outputId": "e135c010-4702-4f40-e426-32c8a69bfb4e"
      },
      "source": [
        "Dict['Age']"
      ],
      "execution_count": 102,
      "outputs": [
        {
          "output_type": "execute_result",
          "data": {
            "text/plain": [
              "25"
            ]
          },
          "metadata": {},
          "execution_count": 102
        }
      ]
    },
    {
      "cell_type": "code",
      "metadata": {
        "id": "rXJ1gn3rc4de"
      },
      "source": [
        "Dict['Age']=28"
      ],
      "execution_count": 103,
      "outputs": []
    },
    {
      "cell_type": "code",
      "metadata": {
        "colab": {
          "base_uri": "https://localhost:8080/"
        },
        "id": "Nl18Owa1c7-i",
        "outputId": "793f48fd-2440-430d-b4df-ea868866475c"
      },
      "source": [
        "Dict"
      ],
      "execution_count": 104,
      "outputs": [
        {
          "output_type": "execute_result",
          "data": {
            "text/plain": [
              "{'Age': 28, 'Institute': 'DAIICT', 'Name': 'Ram'}"
            ]
          },
          "metadata": {},
          "execution_count": 104
        }
      ]
    },
    {
      "cell_type": "code",
      "metadata": {
        "id": "g2RoR2vfc8xo"
      },
      "source": [
        "#(key,value) format for dictionary\n",
        "Dict=dict([(1,'One'),(2,'Two'),(3,'Three')])"
      ],
      "execution_count": 105,
      "outputs": []
    },
    {
      "cell_type": "code",
      "metadata": {
        "id": "RWWxeRKXdpC-"
      },
      "source": [
        "# format for dictionary Dict[key]=value"
      ],
      "execution_count": null,
      "outputs": []
    },
    {
      "cell_type": "code",
      "metadata": {
        "colab": {
          "base_uri": "https://localhost:8080/"
        },
        "id": "86CLzt_JdUMY",
        "outputId": "e2268772-e341-4aaa-ac61-c9162c1800d1"
      },
      "source": [
        "Dict"
      ],
      "execution_count": 106,
      "outputs": [
        {
          "output_type": "execute_result",
          "data": {
            "text/plain": [
              "{1: 'One', 2: 'Two', 3: 'Three'}"
            ]
          },
          "metadata": {},
          "execution_count": 106
        }
      ]
    },
    {
      "cell_type": "code",
      "metadata": {
        "id": "wjCpWk3WdUkp"
      },
      "source": [
        "Dict[3]='Four'"
      ],
      "execution_count": 107,
      "outputs": []
    },
    {
      "cell_type": "code",
      "metadata": {
        "colab": {
          "base_uri": "https://localhost:8080/"
        },
        "id": "e1FBdlVsdfuj",
        "outputId": "d68ff76e-cd67-46db-9552-b9bbd751940b"
      },
      "source": [
        "Dict"
      ],
      "execution_count": 108,
      "outputs": [
        {
          "output_type": "execute_result",
          "data": {
            "text/plain": [
              "{1: 'One', 2: 'Two', 3: 'Four'}"
            ]
          },
          "metadata": {},
          "execution_count": 108
        }
      ]
    },
    {
      "cell_type": "code",
      "metadata": {
        "id": "H68mNxV6dgFD"
      },
      "source": [
        "Dict[5]='five'"
      ],
      "execution_count": 109,
      "outputs": []
    },
    {
      "cell_type": "code",
      "metadata": {
        "colab": {
          "base_uri": "https://localhost:8080/"
        },
        "id": "scbFD5F_ds0n",
        "outputId": "76f1d9c7-8fc4-4e26-f27d-1e16c644ffc8"
      },
      "source": [
        "Dict"
      ],
      "execution_count": 110,
      "outputs": [
        {
          "output_type": "execute_result",
          "data": {
            "text/plain": [
              "{1: 'One', 2: 'Two', 3: 'Four', 5: 'five'}"
            ]
          },
          "metadata": {},
          "execution_count": 110
        }
      ]
    },
    {
      "cell_type": "code",
      "metadata": {
        "id": "az7hHh6FdtOn"
      },
      "source": [
        "Dict[6]='six','SIX','Six'"
      ],
      "execution_count": 111,
      "outputs": []
    },
    {
      "cell_type": "code",
      "metadata": {
        "colab": {
          "base_uri": "https://localhost:8080/"
        },
        "id": "xiaCVkGKd1G4",
        "outputId": "9d9edbbf-8f4d-4163-8216-5a4e3829589b"
      },
      "source": [
        "Dict"
      ],
      "execution_count": 112,
      "outputs": [
        {
          "output_type": "execute_result",
          "data": {
            "text/plain": [
              "{1: 'One', 2: 'Two', 3: 'Four', 5: 'five', 6: ('six', 'SIX', 'Six')}"
            ]
          },
          "metadata": {},
          "execution_count": 112
        }
      ]
    },
    {
      "cell_type": "code",
      "metadata": {
        "id": "CUazicOdd1nM"
      },
      "source": [
        "Dict[7]=['six','SIX','Six']"
      ],
      "execution_count": 113,
      "outputs": []
    },
    {
      "cell_type": "code",
      "metadata": {
        "colab": {
          "base_uri": "https://localhost:8080/"
        },
        "id": "UXP9uf6pd9ww",
        "outputId": "fa4ccb85-4b7a-4b61-8d1a-ae0f51e995a3"
      },
      "source": [
        "Dict"
      ],
      "execution_count": 114,
      "outputs": [
        {
          "output_type": "execute_result",
          "data": {
            "text/plain": [
              "{1: 'One',\n",
              " 2: 'Two',\n",
              " 3: 'Four',\n",
              " 5: 'five',\n",
              " 6: ('six', 'SIX', 'Six'),\n",
              " 7: ['six', 'SIX', 'Six']}"
            ]
          },
          "metadata": {},
          "execution_count": 114
        }
      ]
    },
    {
      "cell_type": "code",
      "metadata": {
        "colab": {
          "base_uri": "https://localhost:8080/"
        },
        "id": "rc0Nu4Ded-dQ",
        "outputId": "d2dbb50c-887d-48aa-dd93-27151011142b"
      },
      "source": [
        "Dict[7]"
      ],
      "execution_count": 115,
      "outputs": [
        {
          "output_type": "execute_result",
          "data": {
            "text/plain": [
              "['six', 'SIX', 'Six']"
            ]
          },
          "metadata": {},
          "execution_count": 115
        }
      ]
    },
    {
      "cell_type": "code",
      "metadata": {
        "id": "6Gv2106CeGJc"
      },
      "source": [
        "Dict[7].append('Seven')"
      ],
      "execution_count": 116,
      "outputs": []
    },
    {
      "cell_type": "code",
      "metadata": {
        "colab": {
          "base_uri": "https://localhost:8080/"
        },
        "id": "5--Te6EYeKKS",
        "outputId": "ae68156c-0327-46ee-8b82-07be33f5b818"
      },
      "source": [
        "Dict"
      ],
      "execution_count": 117,
      "outputs": [
        {
          "output_type": "execute_result",
          "data": {
            "text/plain": [
              "{1: 'One',\n",
              " 2: 'Two',\n",
              " 3: 'Four',\n",
              " 5: 'five',\n",
              " 6: ('six', 'SIX', 'Six'),\n",
              " 7: ['six', 'SIX', 'Six', 'Seven']}"
            ]
          },
          "metadata": {},
          "execution_count": 117
        }
      ]
    },
    {
      "cell_type": "code",
      "metadata": {
        "id": "X2icr7x7eKkC"
      },
      "source": [
        "Dict={}"
      ],
      "execution_count": 119,
      "outputs": []
    },
    {
      "cell_type": "code",
      "metadata": {
        "id": "UqyzzSBNeTuX"
      },
      "source": [
        "#Dictionary of student database\n",
        "Dict['student_name']='Ram'\n",
        "Dict['Age']=27\n",
        "Dict['Affiliation']='DAIICT'\n",
        "Dict['Residence']='Ahmedabad'"
      ],
      "execution_count": 124,
      "outputs": []
    },
    {
      "cell_type": "code",
      "metadata": {
        "colab": {
          "base_uri": "https://localhost:8080/"
        },
        "id": "YT_tkSnxesJq",
        "outputId": "b8c08116-92cc-453d-f16a-a394fceeaf3b"
      },
      "source": [
        "Dict"
      ],
      "execution_count": 121,
      "outputs": [
        {
          "output_type": "execute_result",
          "data": {
            "text/plain": [
              "{'Affiliation': 'DAIICT',\n",
              " 'Age': 27,\n",
              " 'Residence': 'Ahmedabad',\n",
              " 'student_name': 'Ram'}"
            ]
          },
          "metadata": {},
          "execution_count": 121
        }
      ]
    },
    {
      "cell_type": "code",
      "metadata": {
        "id": "pKb8aBlcet5t"
      },
      "source": [
        "#Dictionary of student database\n",
        "Dict['student_name']=['Ram']\n",
        "Dict['Age']=[27]\n",
        "Dict['Affiliation']=['DAIICT']\n",
        "Dict['Residence']=['Ahmedabad']"
      ],
      "execution_count": 125,
      "outputs": []
    },
    {
      "cell_type": "code",
      "metadata": {
        "colab": {
          "base_uri": "https://localhost:8080/"
        },
        "id": "TFSsIlvye3vh",
        "outputId": "4a606a82-9849-49a4-9c3d-cce10673b604"
      },
      "source": [
        "Dict"
      ],
      "execution_count": 126,
      "outputs": [
        {
          "output_type": "execute_result",
          "data": {
            "text/plain": [
              "{'Affiliation': ['DAIICT'],\n",
              " 'Age': [27],\n",
              " 'Residence': ['Ahmedabad'],\n",
              " 'student_name': ['Ram']}"
            ]
          },
          "metadata": {},
          "execution_count": 126
        }
      ]
    },
    {
      "cell_type": "code",
      "metadata": {
        "id": "AnjgGfcwe4Md"
      },
      "source": [
        "#Dictionary of student database\n",
        "Dict['student_name'].append('Shyam')\n",
        "Dict['Age'].append(29)\n",
        "Dict['Affiliation'].append('IIT Gandhinagar')\n",
        "Dict['Residence'].append('Gandhinagar')"
      ],
      "execution_count": 127,
      "outputs": []
    },
    {
      "cell_type": "code",
      "metadata": {
        "colab": {
          "base_uri": "https://localhost:8080/"
        },
        "id": "V4IJ8VXNfONr",
        "outputId": "75ea9671-fb42-472c-b0f0-7688525118bf"
      },
      "source": [
        "Dict"
      ],
      "execution_count": 128,
      "outputs": [
        {
          "output_type": "execute_result",
          "data": {
            "text/plain": [
              "{'Affiliation': ['DAIICT', 'IIT Gandhinagar'],\n",
              " 'Age': [27, 29],\n",
              " 'Residence': ['Ahmedabad', 'Gandhinagar'],\n",
              " 'student_name': ['Ram', 'Shyam']}"
            ]
          },
          "metadata": {},
          "execution_count": 128
        }
      ]
    },
    {
      "cell_type": "code",
      "metadata": {
        "colab": {
          "base_uri": "https://localhost:8080/"
        },
        "id": "-EcUcZB1fO6e",
        "outputId": "e1a5006e-94c7-40f3-8273-ad83f6b2ef09"
      },
      "source": [
        "print(type(Dict['Age'][0]))\n",
        "print(Dict['Age'][0])"
      ],
      "execution_count": 133,
      "outputs": [
        {
          "output_type": "stream",
          "name": "stdout",
          "text": [
            "<class 'int'>\n",
            "27\n"
          ]
        }
      ]
    },
    {
      "cell_type": "code",
      "metadata": {
        "id": "NBwxhgxgfdfF"
      },
      "source": [
        "Dict['Age'][0]=28"
      ],
      "execution_count": 134,
      "outputs": []
    },
    {
      "cell_type": "code",
      "metadata": {
        "colab": {
          "base_uri": "https://localhost:8080/"
        },
        "id": "jL3oyZ15fu42",
        "outputId": "da715fcd-1d7c-4e6d-f958-a230e931fb1b"
      },
      "source": [
        "Dict"
      ],
      "execution_count": 135,
      "outputs": [
        {
          "output_type": "execute_result",
          "data": {
            "text/plain": [
              "{'Affiliation': ['DAIICT', 'IIT Gandhinagar'],\n",
              " 'Age': [28, 29],\n",
              " 'Residence': ['Ahmedabad', 'Gandhinagar'],\n",
              " 'student_name': ['Ram', 'Shyam']}"
            ]
          },
          "metadata": {},
          "execution_count": 135
        }
      ]
    },
    {
      "cell_type": "code",
      "metadata": {
        "id": "nh04OFJLfvPB"
      },
      "source": [
        "#delete the key from dictionary\n",
        "del Dict['Age']"
      ],
      "execution_count": 136,
      "outputs": []
    },
    {
      "cell_type": "code",
      "metadata": {
        "colab": {
          "base_uri": "https://localhost:8080/"
        },
        "id": "Bwlf_BFAf6Gz",
        "outputId": "df3100f3-a49a-4acb-ec4a-3273e8c73d5b"
      },
      "source": [
        "Dict"
      ],
      "execution_count": 137,
      "outputs": [
        {
          "output_type": "execute_result",
          "data": {
            "text/plain": [
              "{'Affiliation': ['DAIICT', 'IIT Gandhinagar'],\n",
              " 'Residence': ['Ahmedabad', 'Gandhinagar'],\n",
              " 'student_name': ['Ram', 'Shyam']}"
            ]
          },
          "metadata": {},
          "execution_count": 137
        }
      ]
    },
    {
      "cell_type": "code",
      "metadata": {
        "id": "wyCdKdLHf7R7"
      },
      "source": [
        "del Dict['Affiliation'][0]"
      ],
      "execution_count": 138,
      "outputs": []
    },
    {
      "cell_type": "code",
      "metadata": {
        "colab": {
          "base_uri": "https://localhost:8080/"
        },
        "id": "zXdmZg7_gEAL",
        "outputId": "b73453e4-5bd9-445c-8996-b0816dd66cf6"
      },
      "source": [
        "Dict"
      ],
      "execution_count": 139,
      "outputs": [
        {
          "output_type": "execute_result",
          "data": {
            "text/plain": [
              "{'Affiliation': ['IIT Gandhinagar'],\n",
              " 'Residence': ['Ahmedabad', 'Gandhinagar'],\n",
              " 'student_name': ['Ram', 'Shyam']}"
            ]
          },
          "metadata": {},
          "execution_count": 139
        }
      ]
    },
    {
      "cell_type": "code",
      "metadata": {
        "colab": {
          "base_uri": "https://localhost:8080/"
        },
        "id": "zibZ8YfwgEpc",
        "outputId": "833729d0-e0fe-44b3-a575-07a52cf5cc9d"
      },
      "source": [
        "#pop() deletes the element corresponding to a particular key value\n",
        "Dict.pop('Affiliation')"
      ],
      "execution_count": 140,
      "outputs": [
        {
          "output_type": "execute_result",
          "data": {
            "text/plain": [
              "['IIT Gandhinagar']"
            ]
          },
          "metadata": {},
          "execution_count": 140
        }
      ]
    },
    {
      "cell_type": "code",
      "metadata": {
        "colab": {
          "base_uri": "https://localhost:8080/"
        },
        "id": "hk-wCBOjgSjw",
        "outputId": "f25a726e-21db-492d-accf-3411bc9d5402"
      },
      "source": [
        "Dict"
      ],
      "execution_count": 141,
      "outputs": [
        {
          "output_type": "execute_result",
          "data": {
            "text/plain": [
              "{'Residence': ['Ahmedabad', 'Gandhinagar'], 'student_name': ['Ram', 'Shyam']}"
            ]
          },
          "metadata": {},
          "execution_count": 141
        }
      ]
    },
    {
      "cell_type": "code",
      "metadata": {
        "id": "w9Oe_m5-gUml"
      },
      "source": [
        "#Dictionary of student database\n",
        "Dict['student_name']=['Ram','Shyam']\n",
        "Dict['Age']=[27,29]\n",
        "Dict['Affiliation']=['DAIICT','IIT Gandhinagar']\n",
        "Dict['Residence']=['Ahmedabad','Gandhinagar']"
      ],
      "execution_count": 142,
      "outputs": []
    },
    {
      "cell_type": "code",
      "metadata": {
        "colab": {
          "base_uri": "https://localhost:8080/"
        },
        "id": "yXSdr1nngo7r",
        "outputId": "d53af053-4c9f-4823-8d4c-0ebd38787304"
      },
      "source": [
        "Dict"
      ],
      "execution_count": 143,
      "outputs": [
        {
          "output_type": "execute_result",
          "data": {
            "text/plain": [
              "{'Affiliation': ['DAIICT', 'IIT Gandhinagar'],\n",
              " 'Age': [27, 29],\n",
              " 'Residence': ['Ahmedabad', 'Gandhinagar'],\n",
              " 'student_name': ['Ram', 'Shyam']}"
            ]
          },
          "metadata": {},
          "execution_count": 143
        }
      ]
    },
    {
      "cell_type": "code",
      "metadata": {
        "colab": {
          "base_uri": "https://localhost:8080/"
        },
        "id": "2VBfbYexgpY5",
        "outputId": "5820545a-3262-4e52-ecbd-477d227291ea"
      },
      "source": [
        "#print keys in dict\n",
        "for i in Dict:\n",
        "  print(i)"
      ],
      "execution_count": 144,
      "outputs": [
        {
          "output_type": "stream",
          "name": "stdout",
          "text": [
            "student_name\n",
            "Residence\n",
            "Age\n",
            "Affiliation\n"
          ]
        }
      ]
    },
    {
      "cell_type": "code",
      "metadata": {
        "colab": {
          "base_uri": "https://localhost:8080/"
        },
        "id": "apFWnQg-gweZ",
        "outputId": "1a0c3fc0-0686-4220-e96f-f4424cd31fa5"
      },
      "source": [
        "#print values in dict\n",
        "for i in Dict:\n",
        "  print(Dict[i])"
      ],
      "execution_count": 145,
      "outputs": [
        {
          "output_type": "stream",
          "name": "stdout",
          "text": [
            "['Ram', 'Shyam']\n",
            "['Ahmedabad', 'Gandhinagar']\n",
            "[27, 29]\n",
            "['DAIICT', 'IIT Gandhinagar']\n"
          ]
        }
      ]
    },
    {
      "cell_type": "code",
      "metadata": {
        "colab": {
          "base_uri": "https://localhost:8080/"
        },
        "id": "Hn7jdTLTg6dN",
        "outputId": "8f632460-5c72-4d71-9f97-088805691662"
      },
      "source": [
        "#to print the items of the dictionary\n",
        "for i in Dict.items():\n",
        "  print(i)\n",
        "  print(type(i))"
      ],
      "execution_count": 148,
      "outputs": [
        {
          "output_type": "stream",
          "name": "stdout",
          "text": [
            "('student_name', ['Ram', 'Shyam'])\n",
            "<class 'tuple'>\n",
            "('Residence', ['Ahmedabad', 'Gandhinagar'])\n",
            "<class 'tuple'>\n",
            "('Age', [27, 29])\n",
            "<class 'tuple'>\n",
            "('Affiliation', ['DAIICT', 'IIT Gandhinagar'])\n",
            "<class 'tuple'>\n"
          ]
        }
      ]
    },
    {
      "cell_type": "code",
      "metadata": {
        "colab": {
          "base_uri": "https://localhost:8080/",
          "height": 178
        },
        "id": "5rdzYt8hhItw",
        "outputId": "70030936-508b-411e-ae5c-be6c7e88c3f8"
      },
      "source": [
        "#cannot declare list as a key\n",
        "Dict1={1:'One',2:['TWO','two'],[1,2,3]:'three'}"
      ],
      "execution_count": 149,
      "outputs": [
        {
          "output_type": "error",
          "ename": "TypeError",
          "evalue": "ignored",
          "traceback": [
            "\u001b[0;31m---------------------------------------------------------------------------\u001b[0m",
            "\u001b[0;31mTypeError\u001b[0m                                 Traceback (most recent call last)",
            "\u001b[0;32m<ipython-input-149-86002888e49c>\u001b[0m in \u001b[0;36m<module>\u001b[0;34m()\u001b[0m\n\u001b[1;32m      1\u001b[0m \u001b[0;31m#cannot declare list as a key\u001b[0m\u001b[0;34m\u001b[0m\u001b[0;34m\u001b[0m\u001b[0;34m\u001b[0m\u001b[0m\n\u001b[0;32m----> 2\u001b[0;31m \u001b[0mDict1\u001b[0m\u001b[0;34m=\u001b[0m\u001b[0;34m{\u001b[0m\u001b[0;36m1\u001b[0m\u001b[0;34m:\u001b[0m\u001b[0;34m'One'\u001b[0m\u001b[0;34m,\u001b[0m\u001b[0;36m2\u001b[0m\u001b[0;34m:\u001b[0m\u001b[0;34m[\u001b[0m\u001b[0;34m'TWO'\u001b[0m\u001b[0;34m,\u001b[0m\u001b[0;34m'two'\u001b[0m\u001b[0;34m]\u001b[0m\u001b[0;34m,\u001b[0m\u001b[0;34m[\u001b[0m\u001b[0;36m1\u001b[0m\u001b[0;34m,\u001b[0m\u001b[0;36m2\u001b[0m\u001b[0;34m,\u001b[0m\u001b[0;36m3\u001b[0m\u001b[0;34m]\u001b[0m\u001b[0;34m:\u001b[0m\u001b[0;34m'three'\u001b[0m\u001b[0;34m}\u001b[0m\u001b[0;34m\u001b[0m\u001b[0;34m\u001b[0m\u001b[0m\n\u001b[0m",
            "\u001b[0;31mTypeError\u001b[0m: unhashable type: 'list'"
          ]
        }
      ]
    },
    {
      "cell_type": "code",
      "metadata": {
        "id": "gwY6cVp6hiGz"
      },
      "source": [
        "#cannot declare list as a key\n",
        "Dict1={1:'One',2:['TWO','two'],(1,2,3):'three'}"
      ],
      "execution_count": 150,
      "outputs": []
    },
    {
      "cell_type": "code",
      "metadata": {
        "colab": {
          "base_uri": "https://localhost:8080/"
        },
        "id": "Irl0PwnThra8",
        "outputId": "33e13698-edf1-442b-8598-ccea39888524"
      },
      "source": [
        "Dict1"
      ],
      "execution_count": 151,
      "outputs": [
        {
          "output_type": "execute_result",
          "data": {
            "text/plain": [
              "{(1, 2, 3): 'three', 1: 'One', 2: ['TWO', 'two']}"
            ]
          },
          "metadata": {},
          "execution_count": 151
        }
      ]
    },
    {
      "cell_type": "code",
      "metadata": {
        "colab": {
          "base_uri": "https://localhost:8080/"
        },
        "id": "tU_gsjFqhsN5",
        "outputId": "fa042046-53a5-4d33-a73e-5d83ddbae800"
      },
      "source": [
        "#to find the length of the dictionary\n",
        "len(Dict1)"
      ],
      "execution_count": 152,
      "outputs": [
        {
          "output_type": "execute_result",
          "data": {
            "text/plain": [
              "3"
            ]
          },
          "metadata": {},
          "execution_count": 152
        }
      ]
    },
    {
      "cell_type": "code",
      "metadata": {
        "id": "rnMI46mlh3QK"
      },
      "source": [
        "Dict2=Dict1.copy()"
      ],
      "execution_count": 153,
      "outputs": []
    },
    {
      "cell_type": "code",
      "metadata": {
        "colab": {
          "base_uri": "https://localhost:8080/"
        },
        "id": "ZbB6QYuMiHY8",
        "outputId": "d26c8642-2b72-4fc4-b3a6-55b43efd585b"
      },
      "source": [
        "Dict2"
      ],
      "execution_count": 154,
      "outputs": [
        {
          "output_type": "execute_result",
          "data": {
            "text/plain": [
              "{(1, 2, 3): 'three', 1: 'One', 2: ['TWO', 'two']}"
            ]
          },
          "metadata": {},
          "execution_count": 154
        }
      ]
    },
    {
      "cell_type": "code",
      "metadata": {
        "colab": {
          "base_uri": "https://localhost:8080/"
        },
        "id": "KqUoDZNOiIEo",
        "outputId": "f25a9692-fc73-416f-fa41-1e9df5540b69"
      },
      "source": [
        "Dict"
      ],
      "execution_count": 155,
      "outputs": [
        {
          "output_type": "execute_result",
          "data": {
            "text/plain": [
              "{'Affiliation': ['DAIICT', 'IIT Gandhinagar'],\n",
              " 'Age': [27, 29],\n",
              " 'Residence': ['Ahmedabad', 'Gandhinagar'],\n",
              " 'student_name': ['Ram', 'Shyam']}"
            ]
          },
          "metadata": {},
          "execution_count": 155
        }
      ]
    },
    {
      "cell_type": "code",
      "metadata": {
        "colab": {
          "base_uri": "https://localhost:8080/"
        },
        "id": "uAh02nTBiUew",
        "outputId": "1f383d0c-1c6b-4797-92f1-4835dc560c19"
      },
      "source": [
        "Dict['Age']"
      ],
      "execution_count": 156,
      "outputs": [
        {
          "output_type": "execute_result",
          "data": {
            "text/plain": [
              "[27, 29]"
            ]
          },
          "metadata": {},
          "execution_count": 156
        }
      ]
    },
    {
      "cell_type": "code",
      "metadata": {
        "colab": {
          "base_uri": "https://localhost:8080/",
          "height": 161
        },
        "id": "PoAO89MaiWik",
        "outputId": "a98acd8e-c797-4a42-a079-1841009b4999"
      },
      "source": [
        "Dict['age']"
      ],
      "execution_count": 157,
      "outputs": [
        {
          "output_type": "error",
          "ename": "KeyError",
          "evalue": "ignored",
          "traceback": [
            "\u001b[0;31m---------------------------------------------------------------------------\u001b[0m",
            "\u001b[0;31mKeyError\u001b[0m                                  Traceback (most recent call last)",
            "\u001b[0;32m<ipython-input-157-aa8447edc0a6>\u001b[0m in \u001b[0;36m<module>\u001b[0;34m()\u001b[0m\n\u001b[0;32m----> 1\u001b[0;31m \u001b[0mDict\u001b[0m\u001b[0;34m[\u001b[0m\u001b[0;34m'age'\u001b[0m\u001b[0;34m]\u001b[0m\u001b[0;34m\u001b[0m\u001b[0;34m\u001b[0m\u001b[0m\n\u001b[0m",
            "\u001b[0;31mKeyError\u001b[0m: 'age'"
          ]
        }
      ]
    },
    {
      "cell_type": "code",
      "metadata": {
        "colab": {
          "base_uri": "https://localhost:8080/"
        },
        "id": "1nnZQ1L-iYH9",
        "outputId": "b9f7f106-def6-455a-d175-5d00ff0066dc"
      },
      "source": [
        "#get() to get the values from the key in the dictionary\n",
        "Dict.get('Age')"
      ],
      "execution_count": 158,
      "outputs": [
        {
          "output_type": "execute_result",
          "data": {
            "text/plain": [
              "[27, 29]"
            ]
          },
          "metadata": {},
          "execution_count": 158
        }
      ]
    },
    {
      "cell_type": "code",
      "metadata": {
        "id": "2MZUFGB6ilWb"
      },
      "source": [
        "Dict.get('age')"
      ],
      "execution_count": 159,
      "outputs": []
    },
    {
      "cell_type": "code",
      "metadata": {
        "colab": {
          "base_uri": "https://localhost:8080/"
        },
        "id": "FiTZaVe1in_X",
        "outputId": "7a4b31fe-d61a-4844-d41b-ca349de78f71"
      },
      "source": [
        "Dict.get('Age','not found the key')"
      ],
      "execution_count": 161,
      "outputs": [
        {
          "output_type": "execute_result",
          "data": {
            "text/plain": [
              "[27, 29]"
            ]
          },
          "metadata": {},
          "execution_count": 161
        }
      ]
    },
    {
      "cell_type": "code",
      "metadata": {
        "colab": {
          "base_uri": "https://localhost:8080/",
          "height": 35
        },
        "id": "6apILVQjiwft",
        "outputId": "dae8e389-9320-4ec8-b0cc-5711786c287e"
      },
      "source": [
        "Dict.get('age','not found the key')"
      ],
      "execution_count": 162,
      "outputs": [
        {
          "output_type": "execute_result",
          "data": {
            "application/vnd.google.colaboratory.intrinsic+json": {
              "type": "string"
            },
            "text/plain": [
              "'not found the key'"
            ]
          },
          "metadata": {},
          "execution_count": 162
        }
      ]
    },
    {
      "cell_type": "code",
      "metadata": {
        "colab": {
          "base_uri": "https://localhost:8080/"
        },
        "id": "YJpED463i2yT",
        "outputId": "2d1c4c41-1f9e-4f0d-b8f3-4a19c2c4625c"
      },
      "source": [
        "#to get the keys\n",
        "Dict.keys()"
      ],
      "execution_count": 163,
      "outputs": [
        {
          "output_type": "execute_result",
          "data": {
            "text/plain": [
              "dict_keys(['student_name', 'Residence', 'Age', 'Affiliation'])"
            ]
          },
          "metadata": {},
          "execution_count": 163
        }
      ]
    },
    {
      "cell_type": "code",
      "metadata": {
        "colab": {
          "base_uri": "https://localhost:8080/"
        },
        "id": "d-yoGZHUjAIs",
        "outputId": "24cd25bb-02a9-4f1d-bfa7-fb340410bf1a"
      },
      "source": [
        "#to get the values\n",
        "Dict.values()"
      ],
      "execution_count": 164,
      "outputs": [
        {
          "output_type": "execute_result",
          "data": {
            "text/plain": [
              "dict_values([['Ram', 'Shyam'], ['Ahmedabad', 'Gandhinagar'], [27, 29], ['DAIICT', 'IIT Gandhinagar']])"
            ]
          },
          "metadata": {},
          "execution_count": 164
        }
      ]
    },
    {
      "cell_type": "code",
      "metadata": {
        "colab": {
          "base_uri": "https://localhost:8080/"
        },
        "id": "BNOxeu1sjHYa",
        "outputId": "1baf7d5b-4b1a-445d-e71e-fbcc5106b687"
      },
      "source": [
        "Dict1"
      ],
      "execution_count": 165,
      "outputs": [
        {
          "output_type": "execute_result",
          "data": {
            "text/plain": [
              "{(1, 2, 3): 'three', 1: 'One', 2: ['TWO', 'two']}"
            ]
          },
          "metadata": {},
          "execution_count": 165
        }
      ]
    },
    {
      "cell_type": "code",
      "metadata": {
        "id": "hqpU6kfqjOUd"
      },
      "source": [
        "Dict.update(Dict1)"
      ],
      "execution_count": 166,
      "outputs": []
    },
    {
      "cell_type": "code",
      "metadata": {
        "colab": {
          "base_uri": "https://localhost:8080/"
        },
        "id": "c4jAMDqWjS3J",
        "outputId": "39dcc519-833a-4ee8-81d7-8fcce9574a34"
      },
      "source": [
        "Dict"
      ],
      "execution_count": 167,
      "outputs": [
        {
          "output_type": "execute_result",
          "data": {
            "text/plain": [
              "{(1, 2, 3): 'three',\n",
              " 1: 'One',\n",
              " 2: ['TWO', 'two'],\n",
              " 'Affiliation': ['DAIICT', 'IIT Gandhinagar'],\n",
              " 'Age': [27, 29],\n",
              " 'Residence': ['Ahmedabad', 'Gandhinagar'],\n",
              " 'student_name': ['Ram', 'Shyam']}"
            ]
          },
          "metadata": {},
          "execution_count": 167
        }
      ]
    },
    {
      "cell_type": "code",
      "metadata": {
        "id": "DbYB4QF3jUb0"
      },
      "source": [
        "Dict.update(Dict1)"
      ],
      "execution_count": 168,
      "outputs": []
    },
    {
      "cell_type": "code",
      "metadata": {
        "id": "GmQSyvfBjZdy"
      },
      "source": [
        "Dict[1]='DAIICT'"
      ],
      "execution_count": 170,
      "outputs": []
    },
    {
      "cell_type": "code",
      "metadata": {
        "colab": {
          "base_uri": "https://localhost:8080/"
        },
        "id": "IUhGkyzqjaQq",
        "outputId": "4f1a0946-685b-46ea-bfd8-97556cc7cb06"
      },
      "source": [
        "Dict"
      ],
      "execution_count": 171,
      "outputs": [
        {
          "output_type": "execute_result",
          "data": {
            "text/plain": [
              "{(1, 2, 3): 'three',\n",
              " 1: 'DAIICT',\n",
              " 2: ['TWO', 'two'],\n",
              " 'Affiliation': ['DAIICT', 'IIT Gandhinagar'],\n",
              " 'Age': [27, 29],\n",
              " 'Residence': ['Ahmedabad', 'Gandhinagar'],\n",
              " 'student_name': ['Ram', 'Shyam']}"
            ]
          },
          "metadata": {},
          "execution_count": 171
        }
      ]
    },
    {
      "cell_type": "code",
      "metadata": {
        "colab": {
          "base_uri": "https://localhost:8080/"
        },
        "id": "-kBnHWcljh06",
        "outputId": "208feba1-16e7-47ee-9cb2-fcea2f5759c1"
      },
      "source": [
        "inventory={'shirts':25,'pents':25,'tshirts':50,'shoes':100}\n",
        "print(\"inventory items: \",inventory)"
      ],
      "execution_count": 172,
      "outputs": [
        {
          "output_type": "stream",
          "name": "stdout",
          "text": [
            "inventory items:  {'shirts': 25, 'pents': 25, 'tshirts': 50, 'shoes': 100}\n"
          ]
        }
      ]
    },
    {
      "cell_type": "code",
      "metadata": {
        "colab": {
          "base_uri": "https://localhost:8080/"
        },
        "id": "hPKiWJDJjyLW",
        "outputId": "b7a6c4ff-30ab-4ae0-d622-d713a982ebcf"
      },
      "source": [
        "#popitem()\n",
        "inventory.popitem()"
      ],
      "execution_count": 173,
      "outputs": [
        {
          "output_type": "execute_result",
          "data": {
            "text/plain": [
              "('shoes', 100)"
            ]
          },
          "metadata": {},
          "execution_count": 173
        }
      ]
    },
    {
      "cell_type": "code",
      "metadata": {
        "colab": {
          "base_uri": "https://localhost:8080/"
        },
        "id": "TeH6ue0uj7sd",
        "outputId": "03f5131f-b5e2-4b00-c16d-27f1be4c7f0a"
      },
      "source": [
        "inventory"
      ],
      "execution_count": 174,
      "outputs": [
        {
          "output_type": "execute_result",
          "data": {
            "text/plain": [
              "{'pents': 25, 'shirts': 25, 'tshirts': 50}"
            ]
          },
          "metadata": {},
          "execution_count": 174
        }
      ]
    },
    {
      "cell_type": "code",
      "metadata": {
        "id": "ISP0wn1Pj8eG"
      },
      "source": [
        "inventory['shocks']=50"
      ],
      "execution_count": 175,
      "outputs": []
    },
    {
      "cell_type": "code",
      "metadata": {
        "colab": {
          "base_uri": "https://localhost:8080/"
        },
        "id": "UP3qdUnekLwt",
        "outputId": "f9c7b10c-edcf-4a51-abc6-4edd2047d88a"
      },
      "source": [
        "inventory"
      ],
      "execution_count": 176,
      "outputs": [
        {
          "output_type": "execute_result",
          "data": {
            "text/plain": [
              "{'pents': 25, 'shirts': 25, 'shocks': 50, 'tshirts': 50}"
            ]
          },
          "metadata": {},
          "execution_count": 176
        }
      ]
    },
    {
      "cell_type": "code",
      "metadata": {
        "id": "D9T7EVpRkMUD"
      },
      "source": [
        "inventory['shocks']=inventory['shocks']-2"
      ],
      "execution_count": 177,
      "outputs": []
    },
    {
      "cell_type": "code",
      "metadata": {
        "colab": {
          "base_uri": "https://localhost:8080/"
        },
        "id": "Y4b_kglmkYJZ",
        "outputId": "255f5cdc-cc79-4918-ef3d-d159c8ba8fb1"
      },
      "source": [
        "inventory"
      ],
      "execution_count": 178,
      "outputs": [
        {
          "output_type": "execute_result",
          "data": {
            "text/plain": [
              "{'pents': 25, 'shirts': 25, 'shocks': 48, 'tshirts': 50}"
            ]
          },
          "metadata": {},
          "execution_count": 178
        }
      ]
    },
    {
      "cell_type": "code",
      "metadata": {
        "id": "aLc5M3WEkY0j"
      },
      "source": [
        "inventory['shocks']=inventory['shocks']-48"
      ],
      "execution_count": 179,
      "outputs": []
    },
    {
      "cell_type": "code",
      "metadata": {
        "colab": {
          "base_uri": "https://localhost:8080/"
        },
        "id": "XoB_MJsskwdn",
        "outputId": "0240f713-21cc-49f1-d7c2-d22d96d0754f"
      },
      "source": [
        "inventory"
      ],
      "execution_count": 180,
      "outputs": [
        {
          "output_type": "execute_result",
          "data": {
            "text/plain": [
              "{'pents': 25, 'shirts': 25, 'shocks': 0, 'tshirts': 50}"
            ]
          },
          "metadata": {},
          "execution_count": 180
        }
      ]
    },
    {
      "cell_type": "code",
      "metadata": {
        "colab": {
          "base_uri": "https://localhost:8080/"
        },
        "id": "jEERif7YkxDK",
        "outputId": "7dabb070-a4dc-4b60-8ea7-92cb60860914"
      },
      "source": [
        "inventory.pop('shocks')"
      ],
      "execution_count": 181,
      "outputs": [
        {
          "output_type": "execute_result",
          "data": {
            "text/plain": [
              "0"
            ]
          },
          "metadata": {},
          "execution_count": 181
        }
      ]
    },
    {
      "cell_type": "code",
      "metadata": {
        "colab": {
          "base_uri": "https://localhost:8080/"
        },
        "id": "yaqkjM1Xk5Gm",
        "outputId": "e330f4cd-16f0-43fc-d1ed-7ee926c9b84a"
      },
      "source": [
        "inventory"
      ],
      "execution_count": 182,
      "outputs": [
        {
          "output_type": "execute_result",
          "data": {
            "text/plain": [
              "{'pents': 25, 'shirts': 25, 'tshirts': 50}"
            ]
          },
          "metadata": {},
          "execution_count": 182
        }
      ]
    },
    {
      "cell_type": "code",
      "metadata": {
        "id": "KV9lxlm6k6Ox"
      },
      "source": [
        "inventory['total items']=len(inventory)"
      ],
      "execution_count": 183,
      "outputs": []
    },
    {
      "cell_type": "code",
      "metadata": {
        "colab": {
          "base_uri": "https://localhost:8080/"
        },
        "id": "VA4EH2EQlkcm",
        "outputId": "e05b9210-5e80-4cb2-812a-4123da49a74a"
      },
      "source": [
        "inventory"
      ],
      "execution_count": 184,
      "outputs": [
        {
          "output_type": "execute_result",
          "data": {
            "text/plain": [
              "{'pents': 25, 'shirts': 25, 'total items': 3, 'tshirts': 50}"
            ]
          },
          "metadata": {},
          "execution_count": 184
        }
      ]
    },
    {
      "cell_type": "code",
      "metadata": {
        "id": "HyeIkSN7llQb"
      },
      "source": [
        ""
      ],
      "execution_count": null,
      "outputs": []
    }
  ]
}