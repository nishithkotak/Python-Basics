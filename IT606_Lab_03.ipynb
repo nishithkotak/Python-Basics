{
  "nbformat": 4,
  "nbformat_minor": 0,
  "metadata": {
    "colab": {
      "name": "Lab 3.ipynb",
      "provenance": []
    },
    "kernelspec": {
      "name": "python3",
      "display_name": "Python 3"
    },
    "language_info": {
      "name": "python"
    }
  },
  "cells": [
    {
      "cell_type": "code",
      "metadata": {
        "id": "7z84giuKyATH"
      },
      "source": [
        "a=\"abcdefgh\"   #indexing of a string starts from 0"
      ],
      "execution_count": 1,
      "outputs": []
    },
    {
      "cell_type": "code",
      "metadata": {
        "colab": {
          "base_uri": "https://localhost:8080/",
          "height": 35
        },
        "id": "5GioIngBFqPO",
        "outputId": "b49d07da-4a2c-4a80-e0fb-437c2739821c"
      },
      "source": [
        "a[0]"
      ],
      "execution_count": 2,
      "outputs": [
        {
          "output_type": "execute_result",
          "data": {
            "application/vnd.google.colaboratory.intrinsic+json": {
              "type": "string"
            },
            "text/plain": [
              "'a'"
            ]
          },
          "metadata": {},
          "execution_count": 2
        }
      ]
    },
    {
      "cell_type": "code",
      "metadata": {
        "colab": {
          "base_uri": "https://localhost:8080/",
          "height": 35
        },
        "id": "muFhfPEDFsHX",
        "outputId": "3f591654-d7ea-4d93-9177-1fc9100915d6"
      },
      "source": [
        "a[3]"
      ],
      "execution_count": 3,
      "outputs": [
        {
          "output_type": "execute_result",
          "data": {
            "application/vnd.google.colaboratory.intrinsic+json": {
              "type": "string"
            },
            "text/plain": [
              "'d'"
            ]
          },
          "metadata": {},
          "execution_count": 3
        }
      ]
    },
    {
      "cell_type": "code",
      "metadata": {
        "colab": {
          "base_uri": "https://localhost:8080/",
          "height": 35
        },
        "id": "jN_2h70uFzIE",
        "outputId": "a35aabe4-d91e-4f6d-c052-f2728301d5da"
      },
      "source": [
        "a[1:5+1]   #values starts from 1\n",
        "#[a:b]----> values starts from a (inclusive) to b(exclusive) i.e. b-1(inclusive)   [a,b-1]"
      ],
      "execution_count": 6,
      "outputs": [
        {
          "output_type": "execute_result",
          "data": {
            "application/vnd.google.colaboratory.intrinsic+json": {
              "type": "string"
            },
            "text/plain": [
              "'bcdef'"
            ]
          },
          "metadata": {},
          "execution_count": 6
        }
      ]
    },
    {
      "cell_type": "code",
      "metadata": {
        "colab": {
          "base_uri": "https://localhost:8080/",
          "height": 35
        },
        "id": "qwKbZMOuF4rv",
        "outputId": "e935b1c0-2457-4bc9-d17f-af2cd7e6e582"
      },
      "source": [
        "a[-5:-3]"
      ],
      "execution_count": 11,
      "outputs": [
        {
          "output_type": "execute_result",
          "data": {
            "application/vnd.google.colaboratory.intrinsic+json": {
              "type": "string"
            },
            "text/plain": [
              "'de'"
            ]
          },
          "metadata": {},
          "execution_count": 11
        }
      ]
    },
    {
      "cell_type": "markdown",
      "metadata": {
        "id": "QOWEHVsuHHqo"
      },
      "source": [
        "for loop demonstration"
      ]
    },
    {
      "cell_type": "code",
      "metadata": {
        "id": "EibVpWeBGKTz",
        "outputId": "dfdbbc04-42ae-4bac-f8ec-f0f1b4588d7b",
        "colab": {
          "base_uri": "https://localhost:8080/"
        }
      },
      "source": [
        "for i in range(2,10,2):                  #range function: range(a,b,stepsize)--> [a,b-1]    the step size by default=1\n",
        "  print(i)"
      ],
      "execution_count": 15,
      "outputs": [
        {
          "output_type": "stream",
          "name": "stdout",
          "text": [
            "2\n",
            "4\n",
            "6\n",
            "8\n"
          ]
        }
      ]
    },
    {
      "cell_type": "markdown",
      "metadata": {
        "id": "QFidL93hHq0K"
      },
      "source": [
        "2<10-->2\n",
        "4<10 --> 4\n",
        "6<10 --> 6\n",
        "8<10 --> 8\n",
        "10<10  --> terminated"
      ]
    },
    {
      "cell_type": "code",
      "metadata": {
        "id": "o8WsfkarHN3o",
        "outputId": "7c5c389c-86fb-4ceb-d843-ef98e5b35733",
        "colab": {
          "base_uri": "https://localhost:8080/"
        }
      },
      "source": [
        "list(range(2,10,2))"
      ],
      "execution_count": 22,
      "outputs": [
        {
          "output_type": "execute_result",
          "data": {
            "text/plain": [
              "[2, 4, 6, 8]"
            ]
          },
          "metadata": {},
          "execution_count": 22
        }
      ]
    },
    {
      "cell_type": "code",
      "metadata": {
        "id": "zboc0P7kIPZ9",
        "outputId": "904e0cca-c6c8-4137-9019-b6d9b51f1338",
        "colab": {
          "base_uri": "https://localhost:8080/"
        }
      },
      "source": [
        "for i in [2,4,6,8]:\n",
        "  print(i)"
      ],
      "execution_count": 23,
      "outputs": [
        {
          "output_type": "stream",
          "name": "stdout",
          "text": [
            "2\n",
            "4\n",
            "6\n",
            "8\n"
          ]
        }
      ]
    },
    {
      "cell_type": "code",
      "metadata": {
        "id": "k-QtFzUhJZ_R",
        "outputId": "d6177a35-641c-41b3-c116-e906669aeaee",
        "colab": {
          "base_uri": "https://localhost:8080/"
        }
      },
      "source": [
        "fruits=['apple','banana','mango']\n",
        "for i in fruits:\n",
        "  print(i)"
      ],
      "execution_count": 24,
      "outputs": [
        {
          "output_type": "stream",
          "name": "stdout",
          "text": [
            "apple\n",
            "banana\n",
            "mango\n"
          ]
        }
      ]
    },
    {
      "cell_type": "code",
      "metadata": {
        "id": "ZM3liRwaJpk_",
        "outputId": "aa476177-f57a-4d4e-d92e-3729fc67ab2c",
        "colab": {
          "base_uri": "https://localhost:8080/"
        }
      },
      "source": [
        "fruits='banana'\n",
        "for i in fruits:\n",
        "  print(i)"
      ],
      "execution_count": 25,
      "outputs": [
        {
          "output_type": "stream",
          "name": "stdout",
          "text": [
            "b\n",
            "a\n",
            "n\n",
            "a\n",
            "n\n",
            "a\n"
          ]
        }
      ]
    },
    {
      "cell_type": "code",
      "metadata": {
        "id": "k2burmdAJ26o"
      },
      "source": [
        "#print only the even numbers\n",
        "if(1%2==0):\n",
        "  print(\"1\")\n",
        "if(2%2==0):\n",
        "  print(\"2\")\n",
        "if(3%2==0):\n",
        "  print(\"3\")\n",
        "......................."
      ],
      "execution_count": null,
      "outputs": []
    },
    {
      "cell_type": "code",
      "metadata": {
        "id": "hHiZLFE4Ko6r"
      },
      "source": [
        "for i in range(1,10,2):   #i=1,3,5,7,9\n",
        "  if(i%2==0):\n",
        "    print(i)"
      ],
      "execution_count": 27,
      "outputs": []
    },
    {
      "cell_type": "code",
      "metadata": {
        "id": "zjMbP04tLUdC",
        "outputId": "26042f8f-e5e2-4ac1-f114-df4acf5da329",
        "colab": {
          "base_uri": "https://localhost:8080/"
        }
      },
      "source": [
        "for i in range(1,10,2):  #step-size: 1\n",
        "  print(i)"
      ],
      "execution_count": 3,
      "outputs": [
        {
          "output_type": "stream",
          "name": "stdout",
          "text": [
            "1\n",
            "3\n",
            "5\n",
            "7\n",
            "9\n"
          ]
        }
      ]
    },
    {
      "cell_type": "markdown",
      "metadata": {
        "id": "-Zeokz5ALLaL"
      },
      "source": [
        "While Statement"
      ]
    },
    {
      "cell_type": "code",
      "metadata": {
        "id": "kq3dB5LZKylE",
        "outputId": "5ebd8aa0-061f-4039-f897-f34f611d92fd",
        "colab": {
          "base_uri": "https://localhost:8080/"
        }
      },
      "source": [
        "i=2\n",
        "while(i<=10):\n",
        "  print(i)\n",
        "  i=i+2"
      ],
      "execution_count": 5,
      "outputs": [
        {
          "output_type": "stream",
          "name": "stdout",
          "text": [
            "2\n",
            "4\n",
            "6\n",
            "8\n",
            "10\n"
          ]
        }
      ]
    },
    {
      "cell_type": "code",
      "metadata": {
        "id": "Zcm4sHRoLjwA",
        "outputId": "0e08f63a-d180-4939-a629-832748ba59a0",
        "colab": {
          "base_uri": "https://localhost:8080/"
        }
      },
      "source": [
        "#sequence: 1,2,4,8,16,32,64\n",
        "i=1\n",
        "while(i<100):  #1>100-->false                         i=81*3=243<100??--> false\n",
        "  print(i)\n",
        "  i=i*3\n",
        "else:\n",
        "  print(\"invalid\")\n",
        "\n"
      ],
      "execution_count": 14,
      "outputs": [
        {
          "output_type": "stream",
          "name": "stdout",
          "text": [
            "1\n",
            "3\n",
            "9\n",
            "27\n",
            "81\n",
            "invalid\n"
          ]
        }
      ]
    },
    {
      "cell_type": "code",
      "metadata": {
        "id": "Cwje9fOtMlLG",
        "outputId": "b6154967-c0b3-4ad2-a5dd-567a03352acb",
        "colab": {
          "base_uri": "https://localhost:8080/"
        }
      },
      "source": [
        "count=0\n",
        "while (count<5):   #if(count<5)-->true/1\n",
        "  print(count, \" is less than 5\")\n",
        "  count+=1\n",
        "#else:\n",
        "#  print(count,\" is not less than 5\")"
      ],
      "execution_count": 16,
      "outputs": [
        {
          "output_type": "stream",
          "name": "stdout",
          "text": [
            "0  is less than 5\n",
            "1  is less than 5\n",
            "2  is less than 5\n",
            "3  is less than 5\n",
            "4  is less than 5\n",
            "5  is not less than 5\n"
          ]
        }
      ]
    },
    {
      "cell_type": "code",
      "metadata": {
        "id": "xwdstteHSWZt"
      },
      "source": [
        "count=0\n",
        "while(1):         #infinite loop\n",
        "  print(count)\n",
        "  count+=1"
      ],
      "execution_count": null,
      "outputs": []
    },
    {
      "cell_type": "markdown",
      "metadata": {
        "id": "AXntfJ6ReLRX"
      },
      "source": [
        "Loop control statements: break, pass and continue"
      ]
    },
    {
      "cell_type": "code",
      "metadata": {
        "id": "9FfxRtIyS_gG",
        "outputId": "602168a8-379f-42de-b414-4d4d594bb85a",
        "colab": {
          "base_uri": "https://localhost:8080/"
        }
      },
      "source": [
        "for i in range(1,10):\n",
        "  if(i%3==0):   #if i is divisible by 3\n",
        "    break\n",
        "  else:\n",
        "    print(i)"
      ],
      "execution_count": 19,
      "outputs": [
        {
          "output_type": "stream",
          "name": "stdout",
          "text": [
            "1\n",
            "2\n"
          ]
        }
      ]
    },
    {
      "cell_type": "code",
      "metadata": {
        "id": "YLeX9eZkehal",
        "outputId": "ec7c1ab1-459e-4530-8d2c-30bebc489514",
        "colab": {
          "base_uri": "https://localhost:8080/"
        }
      },
      "source": [
        "for i in range(1,10):\n",
        "  if(i%3==0):   #if i is divisible by 3\n",
        "    continue\n",
        "  else:\n",
        "    print(i)"
      ],
      "execution_count": 20,
      "outputs": [
        {
          "output_type": "stream",
          "name": "stdout",
          "text": [
            "1\n",
            "2\n",
            "4\n",
            "5\n",
            "7\n",
            "8\n"
          ]
        }
      ]
    },
    {
      "cell_type": "markdown",
      "metadata": {
        "id": "T6ZV_EQMe5ox"
      },
      "source": [
        "demonstration of continue and pass control statements"
      ]
    },
    {
      "cell_type": "code",
      "metadata": {
        "id": "shWlJo8tenSd",
        "outputId": "7c0eb0ad-5546-44ea-85e6-cd4e26d13cbc",
        "colab": {
          "base_uri": "https://localhost:8080/"
        }
      },
      "source": [
        "print(\"pass demonstration\")\n",
        "for i in range(1,10):\n",
        "  if(i>5):\n",
        "    pass    #normal (expected) behaviour\n",
        "  else:\n",
        "    print(i)\n",
        "  print(\"hello\")"
      ],
      "execution_count": 21,
      "outputs": [
        {
          "output_type": "stream",
          "name": "stdout",
          "text": [
            "pass demonstration\n",
            "1\n",
            "hello\n",
            "2\n",
            "hello\n",
            "3\n",
            "hello\n",
            "4\n",
            "hello\n",
            "5\n",
            "hello\n",
            "hello\n",
            "hello\n",
            "hello\n",
            "hello\n"
          ]
        }
      ]
    },
    {
      "cell_type": "code",
      "metadata": {
        "id": "vLrKXL5JfOjq",
        "outputId": "51bb8bcb-9c5a-4c41-9e5a-36eecdb03a6b",
        "colab": {
          "base_uri": "https://localhost:8080/"
        }
      },
      "source": [
        "print(\"continue demonstration\")\n",
        "for i in range(1,10):\n",
        "  print(\"*******\")\n",
        "  if(i>5):\n",
        "    continue    \n",
        "  else:\n",
        "    print(i)\n",
        "  print(\"hello\")"
      ],
      "execution_count": 24,
      "outputs": [
        {
          "output_type": "stream",
          "name": "stdout",
          "text": [
            "continue demonstration\n",
            "*******\n",
            "1\n",
            "hello\n",
            "*******\n",
            "2\n",
            "hello\n",
            "*******\n",
            "3\n",
            "hello\n",
            "*******\n",
            "4\n",
            "hello\n",
            "*******\n",
            "5\n",
            "hello\n",
            "*******\n",
            "*******\n",
            "*******\n",
            "*******\n"
          ]
        }
      ]
    },
    {
      "cell_type": "code",
      "metadata": {
        "id": "7eav3ceyfziU",
        "outputId": "8b8abc43-69d5-45c5-f3fb-25825bb16008",
        "colab": {
          "base_uri": "https://localhost:8080/"
        }
      },
      "source": [
        "print(\"break demonstration\")\n",
        "for i in range(1,10):\n",
        "  print(\"********\")\n",
        "  if(i>5):\n",
        "    break    \n",
        "  else:\n",
        "    print(i)\n",
        "  print(\"hello\")"
      ],
      "execution_count": 25,
      "outputs": [
        {
          "output_type": "stream",
          "name": "stdout",
          "text": [
            "break demonstration\n",
            "********\n",
            "1\n",
            "hello\n",
            "********\n",
            "2\n",
            "hello\n",
            "********\n",
            "3\n",
            "hello\n",
            "********\n",
            "4\n",
            "hello\n",
            "********\n",
            "5\n",
            "hello\n",
            "********\n"
          ]
        }
      ]
    },
    {
      "cell_type": "code",
      "metadata": {
        "id": "MvZNNTs0huwA",
        "outputId": "de6a9c9a-3ccc-4e93-b6b9-f241503fb9ed",
        "colab": {
          "base_uri": "https://localhost:8080/"
        }
      },
      "source": [
        "list(range(10))   #by default in range function---> initial value: 0 and stepsize=1"
      ],
      "execution_count": 28,
      "outputs": [
        {
          "output_type": "execute_result",
          "data": {
            "text/plain": [
              "[0, 1, 2, 3, 4, 5, 6, 7, 8, 9]"
            ]
          },
          "metadata": {},
          "execution_count": 28
        }
      ]
    },
    {
      "cell_type": "code",
      "metadata": {
        "id": "eYqig-IhiAa7",
        "outputId": "9dc6e3c6-29cd-4bdf-9448-695679397ad6",
        "colab": {
          "base_uri": "https://localhost:8080/"
        }
      },
      "source": [
        "num=int(input(\"enter the number: \"))\n",
        "print(list(range(num)))"
      ],
      "execution_count": 29,
      "outputs": [
        {
          "output_type": "stream",
          "name": "stdout",
          "text": [
            "enter the number: 5\n",
            "[0, 1, 2, 3, 4]\n"
          ]
        }
      ]
    },
    {
      "cell_type": "code",
      "metadata": {
        "id": "ZpcUba1XgPz8"
      },
      "source": [
        "#print the factorial of a number\n",
        "#5!=5*4*3*2*1=120"
      ],
      "execution_count": 26,
      "outputs": []
    },
    {
      "cell_type": "code",
      "metadata": {
        "id": "42vtO76ShhOM",
        "outputId": "b0f91299-390b-4ef6-f8ec-34e3feaa5c00",
        "colab": {
          "base_uri": "https://localhost:8080/"
        }
      },
      "source": [
        "num=int(input(\"enter the number: \"))\n",
        "mul=1\n",
        "for i in range(1,num+1):\n",
        "  mul*=i\n",
        "print(mul)"
      ],
      "execution_count": 31,
      "outputs": [
        {
          "output_type": "stream",
          "name": "stdout",
          "text": [
            "enter the number: 5\n",
            "120\n"
          ]
        }
      ]
    },
    {
      "cell_type": "code",
      "metadata": {
        "id": "_kQvJGLfiSjo",
        "outputId": "10d6c71c-9b71-40c8-d5b3-373e8dc3c4da",
        "colab": {
          "base_uri": "https://localhost:8080/"
        }
      },
      "source": [
        "num=int(input(\"enter the number: \"))\n",
        "mul=1\n",
        "while(num>1):   #num=5\n",
        "  mul*=num      \n",
        "  num-=1   #num:5,4,3,2,1\n",
        "print(mul)"
      ],
      "execution_count": 32,
      "outputs": [
        {
          "output_type": "stream",
          "name": "stdout",
          "text": [
            "enter the number: 5\n",
            "120\n"
          ]
        }
      ]
    },
    {
      "cell_type": "code",
      "metadata": {
        "id": "Ywa3eoaEi0wQ"
      },
      "source": [
        "#prime numbers between [lower,upper]\n",
        "#[2,10]: 2,3,5,7"
      ],
      "execution_count": 33,
      "outputs": []
    },
    {
      "cell_type": "code",
      "metadata": {
        "id": "ttFAoqRAkwp8",
        "outputId": "f7c92fe7-8a2c-4a0f-98e2-458b0cf6143a",
        "colab": {
          "base_uri": "https://localhost:8080/"
        }
      },
      "source": [
        "lower,upper=int(input(\"enter the lower number: \")), int(input(\"enter the upper number\"))"
      ],
      "execution_count": 34,
      "outputs": [
        {
          "name": "stdout",
          "output_type": "stream",
          "text": [
            "enter the lower number: 2\n",
            "enter the upper number20\n"
          ]
        }
      ]
    },
    {
      "cell_type": "code",
      "metadata": {
        "id": "KjezuuK2k88v",
        "outputId": "3aadf487-be81-4402-ffc8-ab63bd90e4de",
        "colab": {
          "base_uri": "https://localhost:8080/"
        }
      },
      "source": [
        "for n in range(lower,upper+1):\n",
        "  if(n>1):\n",
        "    #check  if n is a prime number\n",
        "    for i in range(2,n):\n",
        "      if(n%i==0):\n",
        "        #current n value is not prime\n",
        "        break\n",
        "    else:\n",
        "      print(n, \"is prime number\")\n",
        "  \n",
        "\n",
        "  else:\n",
        "    print(\"invalid\")"
      ],
      "execution_count": 35,
      "outputs": [
        {
          "output_type": "stream",
          "name": "stdout",
          "text": [
            "2 is prime number\n",
            "3 is prime number\n",
            "5 is prime number\n",
            "7 is prime number\n",
            "11 is prime number\n",
            "13 is prime number\n",
            "17 is prime number\n",
            "19 is prime number\n"
          ]
        }
      ]
    },
    {
      "cell_type": "code",
      "metadata": {
        "id": "0I2xvlWrl1RI"
      },
      "source": [
        ""
      ],
      "execution_count": null,
      "outputs": []
    }
  ]
}