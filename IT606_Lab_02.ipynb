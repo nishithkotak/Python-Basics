{
  "nbformat": 4,
  "nbformat_minor": 0,
  "metadata": {
    "colab": {
      "name": "IT606 Lab 02.ipynb",
      "provenance": []
    },
    "kernelspec": {
      "name": "python3",
      "display_name": "Python 3"
    },
    "language_info": {
      "name": "python"
    }
  },
  "cells": [
    {
      "cell_type": "code",
      "metadata": {
        "id": "TDX1pKctzVQw"
      },
      "source": [
        "a=10\n",
        "b=20\n",
        "c=12.5\n",
        "d=\"hello\"\n",
        "e=True"
      ],
      "execution_count": 7,
      "outputs": []
    },
    {
      "cell_type": "code",
      "metadata": {
        "id": "Bnp6p2BJzVJE"
      },
      "source": [
        "a=b=c=d"
      ],
      "execution_count": 8,
      "outputs": []
    },
    {
      "cell_type": "code",
      "metadata": {
        "id": "5sMtaSLky8uV"
      },
      "source": [
        "#Demonstration of Relational/Comparison Operators"
      ],
      "execution_count": 2,
      "outputs": []
    },
    {
      "cell_type": "code",
      "metadata": {
        "id": "zD1CnbVZzQRe"
      },
      "source": [
        "a,b,c=10,20,10"
      ],
      "execution_count": 12,
      "outputs": []
    },
    {
      "cell_type": "code",
      "metadata": {
        "colab": {
          "base_uri": "https://localhost:8080/"
        },
        "id": "71aRKn7vzQNn",
        "outputId": "f08f2c9f-7b68-4e1d-b9a3-3d322f85b20a"
      },
      "source": [
        "a==c"
      ],
      "execution_count": 13,
      "outputs": [
        {
          "output_type": "execute_result",
          "data": {
            "text/plain": [
              "True"
            ]
          },
          "metadata": {},
          "execution_count": 13
        }
      ]
    },
    {
      "cell_type": "code",
      "metadata": {
        "colab": {
          "base_uri": "https://localhost:8080/"
        },
        "id": "Ztklfc_YzQMA",
        "outputId": "50d9f969-007d-4135-cfa5-d99e6a635b84"
      },
      "source": [
        "a!=c"
      ],
      "execution_count": 15,
      "outputs": [
        {
          "output_type": "execute_result",
          "data": {
            "text/plain": [
              "False"
            ]
          },
          "metadata": {},
          "execution_count": 15
        }
      ]
    },
    {
      "cell_type": "code",
      "metadata": {
        "colab": {
          "base_uri": "https://localhost:8080/"
        },
        "id": "Dj_qczAuzP7u",
        "outputId": "0eede0f7-b1dc-4adb-a83d-606cc3db759b"
      },
      "source": [
        "a<=c"
      ],
      "execution_count": 19,
      "outputs": [
        {
          "output_type": "execute_result",
          "data": {
            "text/plain": [
              "True"
            ]
          },
          "metadata": {},
          "execution_count": 19
        }
      ]
    },
    {
      "cell_type": "code",
      "metadata": {
        "colab": {
          "base_uri": "https://localhost:8080/"
        },
        "id": "BPt4fSIvzPwi",
        "outputId": "03db61d2-0185-4e11-9021-ce0cf98a2a45"
      },
      "source": [
        "a>=b"
      ],
      "execution_count": 21,
      "outputs": [
        {
          "output_type": "execute_result",
          "data": {
            "text/plain": [
              "False"
            ]
          },
          "metadata": {},
          "execution_count": 21
        }
      ]
    },
    {
      "cell_type": "markdown",
      "metadata": {
        "id": "e4vVN9G2zBiz"
      },
      "source": [
        "Assignment operators"
      ]
    },
    {
      "cell_type": "code",
      "metadata": {
        "id": "Ap1tb8YZ1vzX"
      },
      "source": [
        "a,b,c=5,2,0"
      ],
      "execution_count": 22,
      "outputs": []
    },
    {
      "cell_type": "code",
      "metadata": {
        "colab": {
          "base_uri": "https://localhost:8080/"
        },
        "id": "8XbOcBy-1zmp",
        "outputId": "935add1f-a99e-45fa-f865-a3b94888b74b"
      },
      "source": [
        "c=a+b\n",
        "print(c)"
      ],
      "execution_count": 23,
      "outputs": [
        {
          "output_type": "stream",
          "text": [
            "7\n"
          ],
          "name": "stdout"
        }
      ]
    },
    {
      "cell_type": "code",
      "metadata": {
        "colab": {
          "base_uri": "https://localhost:8080/"
        },
        "id": "sSm7Rkgt12bT",
        "outputId": "79fe101d-7b9f-41ea-cb42-5f2ed63d7b64"
      },
      "source": [
        "#a=a+2\n",
        "a=5\n",
        "a+=3\n",
        "print(a)"
      ],
      "execution_count": 26,
      "outputs": [
        {
          "output_type": "stream",
          "text": [
            "8\n"
          ],
          "name": "stdout"
        }
      ]
    },
    {
      "cell_type": "code",
      "metadata": {
        "colab": {
          "base_uri": "https://localhost:8080/"
        },
        "id": "i_1X6_aM1_t5",
        "outputId": "bf2e0329-c85b-4c1b-d0d7-29bbdd108f8c"
      },
      "source": [
        "a=5\n",
        "a-=3\n",
        "print(a)"
      ],
      "execution_count": 27,
      "outputs": [
        {
          "output_type": "stream",
          "text": [
            "2\n"
          ],
          "name": "stdout"
        }
      ]
    },
    {
      "cell_type": "code",
      "metadata": {
        "colab": {
          "base_uri": "https://localhost:8080/"
        },
        "id": "RyJXj2f02OYX",
        "outputId": "9be1d0d4-6946-443b-e4c4-287062e9ab28"
      },
      "source": [
        "a=5\n",
        "a*=3\n",
        "print(a)"
      ],
      "execution_count": 28,
      "outputs": [
        {
          "output_type": "stream",
          "text": [
            "15\n"
          ],
          "name": "stdout"
        }
      ]
    },
    {
      "cell_type": "code",
      "metadata": {
        "colab": {
          "base_uri": "https://localhost:8080/"
        },
        "id": "7m9l_Iza2T6t",
        "outputId": "d0a9fe01-6f12-44ac-bb7a-38d36ebd73f8"
      },
      "source": [
        "a=5\n",
        "a/=3\n",
        "print(a)"
      ],
      "execution_count": 29,
      "outputs": [
        {
          "output_type": "stream",
          "text": [
            "1.6666666666666667\n"
          ],
          "name": "stdout"
        }
      ]
    },
    {
      "cell_type": "code",
      "metadata": {
        "colab": {
          "base_uri": "https://localhost:8080/"
        },
        "id": "NrqLecG52XJw",
        "outputId": "2226610f-0704-48be-a511-48f094229b4e"
      },
      "source": [
        "a=5\n",
        "a%=3\n",
        "print(a)"
      ],
      "execution_count": 30,
      "outputs": [
        {
          "output_type": "stream",
          "text": [
            "2\n"
          ],
          "name": "stdout"
        }
      ]
    },
    {
      "cell_type": "code",
      "metadata": {
        "colab": {
          "base_uri": "https://localhost:8080/"
        },
        "id": "9Ap5SHQl2b-B",
        "outputId": "4e465279-16f8-4fce-9df7-e32fe77713e7"
      },
      "source": [
        "a=5\n",
        "a**=3\n",
        "print(a)"
      ],
      "execution_count": 31,
      "outputs": [
        {
          "output_type": "stream",
          "text": [
            "125\n"
          ],
          "name": "stdout"
        }
      ]
    },
    {
      "cell_type": "code",
      "metadata": {
        "colab": {
          "base_uri": "https://localhost:8080/"
        },
        "id": "Xjm2NNVJ2exx",
        "outputId": "fba39454-5a8e-4940-cbb6-42e2c6c67537"
      },
      "source": [
        "a=5\n",
        "a//=3\n",
        "print(a)"
      ],
      "execution_count": 32,
      "outputs": [
        {
          "output_type": "stream",
          "text": [
            "1\n"
          ],
          "name": "stdout"
        }
      ]
    },
    {
      "cell_type": "markdown",
      "metadata": {
        "id": "fwNefsid4_4a"
      },
      "source": [
        "Bitwise Operator"
      ]
    },
    {
      "cell_type": "code",
      "metadata": {
        "id": "8n_FYmzO2jVg"
      },
      "source": [
        "a=60            #0011 1100\n",
        "b=13            #0000 1101"
      ],
      "execution_count": 33,
      "outputs": []
    },
    {
      "cell_type": "code",
      "metadata": {
        "colab": {
          "base_uri": "https://localhost:8080/"
        },
        "id": "QVraI0Nc5MVj",
        "outputId": "1858c6ea-7a77-443b-bffa-16fa74d4174a"
      },
      "source": [
        "a&b              #0000 1100"
      ],
      "execution_count": 34,
      "outputs": [
        {
          "output_type": "execute_result",
          "data": {
            "text/plain": [
              "12"
            ]
          },
          "metadata": {},
          "execution_count": 34
        }
      ]
    },
    {
      "cell_type": "code",
      "metadata": {
        "colab": {
          "base_uri": "https://localhost:8080/"
        },
        "id": "4N7GCaQK5iBk",
        "outputId": "68941bf4-8afe-4a72-cb3e-503be79f4702"
      },
      "source": [
        "a|b               #0011 1101"
      ],
      "execution_count": 35,
      "outputs": [
        {
          "output_type": "execute_result",
          "data": {
            "text/plain": [
              "61"
            ]
          },
          "metadata": {},
          "execution_count": 35
        }
      ]
    },
    {
      "cell_type": "code",
      "metadata": {
        "colab": {
          "base_uri": "https://localhost:8080/"
        },
        "id": "Oj7Y51f45QPC",
        "outputId": "2f386977-77e9-4baf-9cbf-df5e1c61d729"
      },
      "source": [
        "a^b         #0011 0001"
      ],
      "execution_count": 36,
      "outputs": [
        {
          "output_type": "execute_result",
          "data": {
            "text/plain": [
              "49"
            ]
          },
          "metadata": {},
          "execution_count": 36
        }
      ]
    },
    {
      "cell_type": "code",
      "metadata": {
        "colab": {
          "base_uri": "https://localhost:8080/"
        },
        "id": "EESwZ3wH5y05",
        "outputId": "16ba3466-1af1-451a-96d5-19fba5eeaff6"
      },
      "source": [
        "~a"
      ],
      "execution_count": 37,
      "outputs": [
        {
          "output_type": "execute_result",
          "data": {
            "text/plain": [
              "-61"
            ]
          },
          "metadata": {},
          "execution_count": 37
        }
      ]
    },
    {
      "cell_type": "code",
      "metadata": {
        "colab": {
          "base_uri": "https://localhost:8080/"
        },
        "id": "bFo3ie7D59oh",
        "outputId": "0d41b2c4-32f7-4b11-d101-9f53c8cd9bc6"
      },
      "source": [
        "a<<2"
      ],
      "execution_count": 39,
      "outputs": [
        {
          "output_type": "execute_result",
          "data": {
            "text/plain": [
              "240"
            ]
          },
          "metadata": {},
          "execution_count": 39
        }
      ]
    },
    {
      "cell_type": "code",
      "metadata": {
        "colab": {
          "base_uri": "https://localhost:8080/"
        },
        "id": "6vaSyygkBDSw",
        "outputId": "96d326c9-0375-48bf-9018-e149bd70bff7"
      },
      "source": [
        "a>>3"
      ],
      "execution_count": 43,
      "outputs": [
        {
          "output_type": "execute_result",
          "data": {
            "text/plain": [
              "7"
            ]
          },
          "metadata": {},
          "execution_count": 43
        }
      ]
    },
    {
      "cell_type": "code",
      "metadata": {
        "id": "bMYEzxRBBMwG"
      },
      "source": [
        ""
      ],
      "execution_count": null,
      "outputs": []
    },
    {
      "cell_type": "markdown",
      "metadata": {
        "id": "OBO7Dbr2CE2Q"
      },
      "source": [
        "Logical Operators: and, or, not"
      ]
    },
    {
      "cell_type": "code",
      "metadata": {
        "id": "UN31KMwdCIA3"
      },
      "source": [
        "a=10\n",
        "b=20\n"
      ],
      "execution_count": 44,
      "outputs": []
    },
    {
      "cell_type": "code",
      "metadata": {
        "colab": {
          "base_uri": "https://localhost:8080/"
        },
        "id": "NHF7JVVICY6w",
        "outputId": "be04ff97-cb1b-41f3-832a-26fd25e66d55"
      },
      "source": [
        "(a<0) or (b>0)"
      ],
      "execution_count": 48,
      "outputs": [
        {
          "output_type": "execute_result",
          "data": {
            "text/plain": [
              "True"
            ]
          },
          "metadata": {},
          "execution_count": 48
        }
      ]
    },
    {
      "cell_type": "code",
      "metadata": {
        "colab": {
          "base_uri": "https://localhost:8080/"
        },
        "id": "6R_AwAC5CgQE",
        "outputId": "b9a45b0a-40c8-4e78-cecb-6dba85311f10"
      },
      "source": [
        "not((a<0) or (b>0))"
      ],
      "execution_count": 49,
      "outputs": [
        {
          "output_type": "execute_result",
          "data": {
            "text/plain": [
              "False"
            ]
          },
          "metadata": {},
          "execution_count": 49
        }
      ]
    },
    {
      "cell_type": "markdown",
      "metadata": {
        "id": "4j8KyEeED5hl"
      },
      "source": [
        "Mmebership operators: in, not in"
      ]
    },
    {
      "cell_type": "code",
      "metadata": {
        "id": "7L7uEfklC52l"
      },
      "source": [
        "a=10\n",
        "b=2\n",
        "seq=[1,2,3,4,5]"
      ],
      "execution_count": 50,
      "outputs": []
    },
    {
      "cell_type": "code",
      "metadata": {
        "colab": {
          "base_uri": "https://localhost:8080/"
        },
        "id": "S_Mtggr3EBBX",
        "outputId": "4bc9165a-b885-43ef-d633-db126dac0692"
      },
      "source": [
        "a not in seq"
      ],
      "execution_count": 54,
      "outputs": [
        {
          "output_type": "execute_result",
          "data": {
            "text/plain": [
              "True"
            ]
          },
          "metadata": {},
          "execution_count": 54
        }
      ]
    },
    {
      "cell_type": "markdown",
      "metadata": {
        "id": "YAYLuh2xEq_q"
      },
      "source": [
        "identity operator: is, is not"
      ]
    },
    {
      "cell_type": "code",
      "metadata": {
        "id": "uwwkf6VPEC_O"
      },
      "source": [
        "a=10\n",
        "b=10\n",
        "c=\"hello\"\n",
        "d=\"hello\"\n",
        "e=\"HELLO\""
      ],
      "execution_count": 55,
      "outputs": []
    },
    {
      "cell_type": "code",
      "metadata": {
        "colab": {
          "base_uri": "https://localhost:8080/"
        },
        "id": "9kqqs3LeEzvR",
        "outputId": "3656f5ea-2f4b-44fa-f39d-dfe7d51d823b"
      },
      "source": [
        "d is not e"
      ],
      "execution_count": 60,
      "outputs": [
        {
          "output_type": "execute_result",
          "data": {
            "text/plain": [
              "True"
            ]
          },
          "metadata": {},
          "execution_count": 60
        }
      ]
    },
    {
      "cell_type": "code",
      "metadata": {
        "colab": {
          "base_uri": "https://localhost:8080/"
        },
        "id": "aVPFs5xmE2KV",
        "outputId": "4aff1441-fbac-4a4c-b163-f7f52c4daa8d"
      },
      "source": [
        "c==d"
      ],
      "execution_count": 62,
      "outputs": [
        {
          "output_type": "execute_result",
          "data": {
            "text/plain": [
              "True"
            ]
          },
          "metadata": {},
          "execution_count": 62
        }
      ]
    },
    {
      "cell_type": "markdown",
      "metadata": {
        "id": "CtbPiVRrOGMS"
      },
      "source": [
        "Decision making statements: if, if.....else, if...elif.....else statements"
      ]
    },
    {
      "cell_type": "code",
      "metadata": {
        "colab": {
          "base_uri": "https://localhost:8080/"
        },
        "id": "N4JdMIq_FKIb",
        "outputId": "8adbc5d3-4c5c-41dc-e2b5-b8c7495d87fb"
      },
      "source": [
        "#to see whether the number is positive, negative or zero............ indent (spaces)--> tabs\n",
        "#if statement\n",
        "a=-5\n",
        "if(a>0):\n",
        "  print(\"a is positive\")\n",
        "  print(\"hello\")\n",
        "  print(\"hii\")\n",
        "if(a<0):\n",
        "  print(\"a is negative\")\n",
        "if(a==0):\n",
        "  print(\"a is zero\")"
      ],
      "execution_count": 72,
      "outputs": [
        {
          "output_type": "stream",
          "text": [
            "a is negative\n"
          ],
          "name": "stdout"
        }
      ]
    },
    {
      "cell_type": "code",
      "metadata": {
        "colab": {
          "base_uri": "https://localhost:8080/"
        },
        "id": "K8XScBUkQgtt",
        "outputId": "16459e7e-c776-40e8-c309-43c153f51e8c"
      },
      "source": [
        "a=0\n",
        "if(a>0):\n",
        "  print(\"a is positive\")\n",
        "  print(\"hello\")\n",
        "  print(\"hi\")\n",
        "elif(a<0):\n",
        "  print(\"a is negative\")\n",
        "else:\n",
        "  print(\"a is zero\")"
      ],
      "execution_count": 81,
      "outputs": [
        {
          "output_type": "stream",
          "text": [
            "a is zero\n"
          ],
          "name": "stdout"
        }
      ]
    },
    {
      "cell_type": "code",
      "metadata": {
        "id": "N6Uih_4IOsY9"
      },
      "source": [
        "#find the maximum value\n",
        "a,b=3,2"
      ],
      "execution_count": 74,
      "outputs": []
    },
    {
      "cell_type": "code",
      "metadata": {
        "colab": {
          "base_uri": "https://localhost:8080/"
        },
        "id": "LqGY3ZciQG5r",
        "outputId": "d5a3de02-7833-4974-b03a-5dab1a5e494f"
      },
      "source": [
        "if(a>b):\n",
        "  print(\"a is maximum\")\n",
        "if(a<b):\n",
        "  print(\"b is maximum\")\n",
        "if(a==b):\n",
        "  print(\"a and b are same\")"
      ],
      "execution_count": 75,
      "outputs": [
        {
          "output_type": "stream",
          "text": [
            "a is maximum\n"
          ],
          "name": "stdout"
        }
      ]
    },
    {
      "cell_type": "code",
      "metadata": {
        "colab": {
          "base_uri": "https://localhost:8080/"
        },
        "id": "RPwVQKcmQYpl",
        "outputId": "f7da4d21-2b74-459b-9723-bd558e5aeff8"
      },
      "source": [
        "if(a>b):\n",
        "  print(\"a is maximum\")\n",
        "elif(a<b):\n",
        "  print(\"b is maximum\")\n",
        "else:\n",
        "  print(\"a and b are same\")"
      ],
      "execution_count": 82,
      "outputs": [
        {
          "output_type": "stream",
          "text": [
            "b is maximum\n"
          ],
          "name": "stdout"
        }
      ]
    },
    {
      "cell_type": "code",
      "metadata": {
        "colab": {
          "base_uri": "https://localhost:8080/"
        },
        "id": "2OZAZ_LOR6X4",
        "outputId": "0157a4d7-ff48-4947-bbfd-55186bdb15cf"
      },
      "source": [
        "a=150\n",
        "if(a<100):\n",
        "  print(\"a is smaller than 100 excluding\")\n",
        "elif(a>=100 and a<125):\n",
        "  print(\"a lies between 100 including and 125 excluding\")\n",
        "elif(a>=125 and a<150):\n",
        "  print(\"a lies between 125 including and 150 excluding\")\n",
        "elif(a>=150 and a<200):\n",
        "  print(\"a is between 150 including and 200 excluding\")\n",
        "else:\n",
        "  print(\"a is greater than 200\")\n"
      ],
      "execution_count": 83,
      "outputs": [
        {
          "output_type": "stream",
          "text": [
            "a is between 150 including and 200 excluding\n"
          ],
          "name": "stdout"
        }
      ]
    },
    {
      "cell_type": "code",
      "metadata": {
        "colab": {
          "base_uri": "https://localhost:8080/"
        },
        "id": "KM3ITobHSofs",
        "outputId": "3604c3cd-2631-485d-ca53-d7d4d771db1d"
      },
      "source": [
        "#to determine whether the number is odd or even\n",
        "#a%2==0: even || a%2==1: odd   %--> remainder\n",
        "a=-4\n",
        "if(a%2==0 and a!=0 and a>0):\n",
        "  print(\"a is even\")\n",
        "elif(a%2!=0):\n",
        "  print(\"a is odd\")\n",
        "else:\n",
        "  print(\"a is zero\")"
      ],
      "execution_count": 95,
      "outputs": [
        {
          "output_type": "stream",
          "text": [
            "a is zero\n"
          ],
          "name": "stdout"
        }
      ]
    },
    {
      "cell_type": "code",
      "metadata": {
        "colab": {
          "base_uri": "https://localhost:8080/"
        },
        "id": "Thb9oVcDTZwq",
        "outputId": "a2fde200-b965-47db-d9f2-50d8ae430aad"
      },
      "source": [
        "#to determine whether the number is odd or even\n",
        "#a%2==0: even || a%2==1: odd   %--> remainder\n",
        "a=0\n",
        "if(a%2==0):\n",
        "  print(\"a is even\")\n",
        "if(a%2!=0):\n",
        "  print(\"a is odd\")\n",
        "if(a==0):\n",
        "  print(\"a is zero\")"
      ],
      "execution_count": 88,
      "outputs": [
        {
          "output_type": "stream",
          "text": [
            "a is even\n",
            "a is zero\n"
          ],
          "name": "stdout"
        }
      ]
    },
    {
      "cell_type": "code",
      "metadata": {
        "id": "Dtwfc1UgTxYL"
      },
      "source": [
        "#conditional operator"
      ],
      "execution_count": 96,
      "outputs": []
    },
    {
      "cell_type": "code",
      "metadata": {
        "id": "N8O0NfduU_tu"
      },
      "source": [
        "a,b=10,10"
      ],
      "execution_count": 103,
      "outputs": []
    },
    {
      "cell_type": "code",
      "metadata": {
        "colab": {
          "base_uri": "https://localhost:8080/"
        },
        "id": "CufvZm1cVHLF",
        "outputId": "68010dc5-4f80-41b4-f336-0d2ff301404c"
      },
      "source": [
        "#to find maximum of 2 numbers\n",
        "if(a>b):\n",
        "  print(a)\n",
        "else:\n",
        "  print(b)"
      ],
      "execution_count": 100,
      "outputs": [
        {
          "output_type": "stream",
          "text": [
            "10\n"
          ],
          "name": "stdout"
        }
      ]
    },
    {
      "cell_type": "code",
      "metadata": {
        "id": "Zcrm0SYTVS43"
      },
      "source": [
        "#conditional operator"
      ],
      "execution_count": null,
      "outputs": []
    },
    {
      "cell_type": "code",
      "metadata": {
        "colab": {
          "base_uri": "https://localhost:8080/"
        },
        "id": "Gjla2S7CVZTD",
        "outputId": "ebd5f89a-5aef-471e-f88c-6a92438a6821"
      },
      "source": [
        "a if a>b else b"
      ],
      "execution_count": 104,
      "outputs": [
        {
          "output_type": "execute_result",
          "data": {
            "text/plain": [
              "10"
            ]
          },
          "metadata": {},
          "execution_count": 104
        }
      ]
    },
    {
      "cell_type": "markdown",
      "metadata": {
        "id": "VBRQoHkhYThV"
      },
      "source": [
        "Strings"
      ]
    },
    {
      "cell_type": "code",
      "metadata": {
        "id": "45NjgXRWVgB2"
      },
      "source": [
        "a=\"Hello World\"\n",
        "b=\"Students\""
      ],
      "execution_count": 105,
      "outputs": []
    },
    {
      "cell_type": "code",
      "metadata": {
        "colab": {
          "base_uri": "https://localhost:8080/",
          "height": 35
        },
        "id": "TLpWt0FXYdOQ",
        "outputId": "510c9a74-7e55-4024-f7a9-c06f37db9a0c"
      },
      "source": [
        "name='ydbhyvubdyfubv'\n",
        "surname='fdryfbdfhbv'\n",
        "name+'.'+surname+'@daiict.ac.in'"
      ],
      "execution_count": 112,
      "outputs": [
        {
          "output_type": "execute_result",
          "data": {
            "application/vnd.google.colaboratory.intrinsic+json": {
              "type": "string"
            },
            "text/plain": [
              "'ydbhyvubdyfubv.fdryfbdfhbv@daiict.ac.in'"
            ]
          },
          "metadata": {},
          "execution_count": 112
        }
      ]
    },
    {
      "cell_type": "markdown",
      "metadata": {
        "id": "YW9gQIlOZkc6"
      },
      "source": [
        "indexing of the string starts from 0"
      ]
    },
    {
      "cell_type": "code",
      "metadata": {
        "colab": {
          "base_uri": "https://localhost:8080/",
          "height": 35
        },
        "id": "vLgIwUPXYgbZ",
        "outputId": "73692214-94d9-49c4-f1c7-ef7179ee5c13"
      },
      "source": [
        "a[0:4]  #starts from 0 to 4.... last number is not included"
      ],
      "execution_count": 122,
      "outputs": [
        {
          "output_type": "execute_result",
          "data": {
            "application/vnd.google.colaboratory.intrinsic+json": {
              "type": "string"
            },
            "text/plain": [
              "'Hell'"
            ]
          },
          "metadata": {},
          "execution_count": 122
        }
      ]
    },
    {
      "cell_type": "code",
      "metadata": {
        "colab": {
          "base_uri": "https://localhost:8080/",
          "height": 35
        },
        "id": "63KNxMAxZh4k",
        "outputId": "cccb9f97-6ec9-40d1-a7b0-3f1eefde7bc8"
      },
      "source": [
        "a[:4]"
      ],
      "execution_count": 123,
      "outputs": [
        {
          "output_type": "execute_result",
          "data": {
            "application/vnd.google.colaboratory.intrinsic+json": {
              "type": "string"
            },
            "text/plain": [
              "'Hell'"
            ]
          },
          "metadata": {},
          "execution_count": 123
        }
      ]
    },
    {
      "cell_type": "code",
      "metadata": {
        "colab": {
          "base_uri": "https://localhost:8080/",
          "height": 35
        },
        "id": "DcJ4DeP_aJdK",
        "outputId": "04902475-f0c1-4a6e-8fe3-d33025cbcfde"
      },
      "source": [
        "a"
      ],
      "execution_count": 125,
      "outputs": [
        {
          "output_type": "execute_result",
          "data": {
            "application/vnd.google.colaboratory.intrinsic+json": {
              "type": "string"
            },
            "text/plain": [
              "'Hello World'"
            ]
          },
          "metadata": {},
          "execution_count": 125
        }
      ]
    },
    {
      "cell_type": "code",
      "metadata": {
        "colab": {
          "base_uri": "https://localhost:8080/",
          "height": 35
        },
        "id": "JlrlCdwnaAxm",
        "outputId": "a530cf6c-5a15-4ca6-85aa-a9e4e74dc8ce"
      },
      "source": [
        "a[4:]"
      ],
      "execution_count": 124,
      "outputs": [
        {
          "output_type": "execute_result",
          "data": {
            "application/vnd.google.colaboratory.intrinsic+json": {
              "type": "string"
            },
            "text/plain": [
              "'o World'"
            ]
          },
          "metadata": {},
          "execution_count": 124
        }
      ]
    },
    {
      "cell_type": "code",
      "metadata": {
        "colab": {
          "base_uri": "https://localhost:8080/",
          "height": 35
        },
        "id": "-UXl1BGkaFbs",
        "outputId": "ced9bbfd-69f2-4d56-a0c7-82aa1707ca43"
      },
      "source": [
        "a[2:8]"
      ],
      "execution_count": 126,
      "outputs": [
        {
          "output_type": "execute_result",
          "data": {
            "application/vnd.google.colaboratory.intrinsic+json": {
              "type": "string"
            },
            "text/plain": [
              "'llo Wo'"
            ]
          },
          "metadata": {},
          "execution_count": 126
        }
      ]
    },
    {
      "cell_type": "markdown",
      "metadata": {
        "id": "3JKuDTy3bAOm"
      },
      "source": [
        "multiple lines as a string"
      ]
    },
    {
      "cell_type": "code",
      "metadata": {
        "id": "ngDT0SypaR_P"
      },
      "source": [
        "abc=\"\"\"Python is an interpreted high-level general-purpose programming language. Its design philosophy emphasizes code readability with its\n",
        "use of significant indentation. Its language constructs as well as its object-oriented approach aim to help programmers write clear, \n",
        "logical code for small and large-scale projects.[30]\"\"\""
      ],
      "execution_count": 138,
      "outputs": []
    },
    {
      "cell_type": "code",
      "metadata": {
        "colab": {
          "base_uri": "https://localhost:8080/",
          "height": 52
        },
        "id": "_e46SO5salKz",
        "outputId": "5573fd6f-cb49-4269-f267-8794d84b4bad"
      },
      "source": [
        "abc"
      ],
      "execution_count": 139,
      "outputs": [
        {
          "output_type": "execute_result",
          "data": {
            "application/vnd.google.colaboratory.intrinsic+json": {
              "type": "string"
            },
            "text/plain": [
              "'Python is an interpreted high-level general-purpose programming language. Its design philosophy emphasizes code readability with its\\nuse of significant indentation. Its language constructs as well as its object-oriented approach aim to help programmers write clear, \\nlogical code for small and large-scale projects.[30]'"
            ]
          },
          "metadata": {},
          "execution_count": 139
        }
      ]
    },
    {
      "cell_type": "code",
      "metadata": {
        "id": "_zX18gurasUm"
      },
      "source": [
        "a=\"this is a python learning course\"\n",
        "b=\"THIS IS A PYTHON LEARNING COURSE\""
      ],
      "execution_count": 140,
      "outputs": []
    },
    {
      "cell_type": "code",
      "metadata": {
        "colab": {
          "base_uri": "https://localhost:8080/"
        },
        "id": "0tHSdr1sbprb",
        "outputId": "b4f93ebc-3bd4-48c2-f95e-0f081e779a5b"
      },
      "source": [
        "#length of a string\n",
        "len(a)  #index: 0 to len-1"
      ],
      "execution_count": 141,
      "outputs": [
        {
          "output_type": "execute_result",
          "data": {
            "text/plain": [
              "32"
            ]
          },
          "metadata": {},
          "execution_count": 141
        }
      ]
    },
    {
      "cell_type": "code",
      "metadata": {
        "colab": {
          "base_uri": "https://localhost:8080/",
          "height": 35
        },
        "id": "DY7kxUTzbwK7",
        "outputId": "763ac096-5e63-47bd-a199-0e5fe8ab52f2"
      },
      "source": [
        "a[len(a)-1]"
      ],
      "execution_count": 144,
      "outputs": [
        {
          "output_type": "execute_result",
          "data": {
            "application/vnd.google.colaboratory.intrinsic+json": {
              "type": "string"
            },
            "text/plain": [
              "'e'"
            ]
          },
          "metadata": {},
          "execution_count": 144
        }
      ]
    },
    {
      "cell_type": "code",
      "metadata": {
        "colab": {
          "base_uri": "https://localhost:8080/",
          "height": 35
        },
        "id": "lg3VwEsOb1oE",
        "outputId": "26eb9807-1cff-4098-e44f-f0f8691c880f"
      },
      "source": [
        "#capitalize the first character\n",
        "a.capitalize()"
      ],
      "execution_count": 145,
      "outputs": [
        {
          "output_type": "execute_result",
          "data": {
            "application/vnd.google.colaboratory.intrinsic+json": {
              "type": "string"
            },
            "text/plain": [
              "'This is a python learning course'"
            ]
          },
          "metadata": {},
          "execution_count": 145
        }
      ]
    },
    {
      "cell_type": "code",
      "metadata": {
        "colab": {
          "base_uri": "https://localhost:8080/",
          "height": 35
        },
        "id": "sFO4hxsncRQj",
        "outputId": "b2d8acf8-38e7-4fb4-b6b4-3b2404d18f82"
      },
      "source": [
        "#lowercase\n",
        "b.lower()"
      ],
      "execution_count": 149,
      "outputs": [
        {
          "output_type": "execute_result",
          "data": {
            "application/vnd.google.colaboratory.intrinsic+json": {
              "type": "string"
            },
            "text/plain": [
              "'this is a python learning course'"
            ]
          },
          "metadata": {},
          "execution_count": 149
        }
      ]
    },
    {
      "cell_type": "code",
      "metadata": {
        "colab": {
          "base_uri": "https://localhost:8080/",
          "height": 35
        },
        "id": "UpOjaOpJcap_",
        "outputId": "6ab327b6-5a3f-4e31-f290-0274f06e25c9"
      },
      "source": [
        "#uppercase\n",
        "a.upper()"
      ],
      "execution_count": 151,
      "outputs": [
        {
          "output_type": "execute_result",
          "data": {
            "application/vnd.google.colaboratory.intrinsic+json": {
              "type": "string"
            },
            "text/plain": [
              "'THIS IS A PYTHON LEARNING COURSE'"
            ]
          },
          "metadata": {},
          "execution_count": 151
        }
      ]
    },
    {
      "cell_type": "code",
      "metadata": {
        "colab": {
          "base_uri": "https://localhost:8080/",
          "height": 35
        },
        "id": "Xya5Sw9pcoG6",
        "outputId": "a9fb2be5-9c62-43a7-db54-704ac332125b"
      },
      "source": [
        "#titlecase\n",
        "a.title()"
      ],
      "execution_count": 153,
      "outputs": [
        {
          "output_type": "execute_result",
          "data": {
            "application/vnd.google.colaboratory.intrinsic+json": {
              "type": "string"
            },
            "text/plain": [
              "'This Is A Python Learning Course'"
            ]
          },
          "metadata": {},
          "execution_count": 153
        }
      ]
    },
    {
      "cell_type": "code",
      "metadata": {
        "colab": {
          "base_uri": "https://localhost:8080/"
        },
        "id": "uey4hZ3Wcyb7",
        "outputId": "69b70a36-99c9-4426-c876-8565332cbfd8"
      },
      "source": [
        "b.isupper()"
      ],
      "execution_count": 156,
      "outputs": [
        {
          "output_type": "execute_result",
          "data": {
            "text/plain": [
              "True"
            ]
          },
          "metadata": {},
          "execution_count": 156
        }
      ]
    },
    {
      "cell_type": "code",
      "metadata": {
        "colab": {
          "base_uri": "https://localhost:8080/"
        },
        "id": "3IwiV0cvc7lI",
        "outputId": "24fc6a2c-590f-4b3c-80b7-bac5869704aa"
      },
      "source": [
        "a.istitle()"
      ],
      "execution_count": 157,
      "outputs": [
        {
          "output_type": "execute_result",
          "data": {
            "text/plain": [
              "False"
            ]
          },
          "metadata": {},
          "execution_count": 157
        }
      ]
    },
    {
      "cell_type": "code",
      "metadata": {
        "colab": {
          "base_uri": "https://localhost:8080/",
          "height": 35
        },
        "id": "KCwcSbdkdDGK",
        "outputId": "a4dc877c-16f9-4ba0-aa71-2e49e9320127"
      },
      "source": [
        "a"
      ],
      "execution_count": 158,
      "outputs": [
        {
          "output_type": "execute_result",
          "data": {
            "application/vnd.google.colaboratory.intrinsic+json": {
              "type": "string"
            },
            "text/plain": [
              "'this is a python learning course'"
            ]
          },
          "metadata": {},
          "execution_count": 158
        }
      ]
    },
    {
      "cell_type": "code",
      "metadata": {
        "colab": {
          "base_uri": "https://localhost:8080/"
        },
        "id": "rNCz9Su4dOWS",
        "outputId": "a4048d09-23bc-4fd6-c9de-77d5612fcacf"
      },
      "source": [
        "#frequency/count of a character\n",
        "a.count('i')"
      ],
      "execution_count": 164,
      "outputs": [
        {
          "output_type": "execute_result",
          "data": {
            "text/plain": [
              "3"
            ]
          },
          "metadata": {},
          "execution_count": 164
        }
      ]
    },
    {
      "cell_type": "code",
      "metadata": {
        "colab": {
          "base_uri": "https://localhost:8080/"
        },
        "id": "mc8EmL2udWrS",
        "outputId": "1d3e92f0-242d-4536-9263-780a51eee8ef"
      },
      "source": [
        "a.count('i',5,17)"
      ],
      "execution_count": 160,
      "outputs": [
        {
          "output_type": "execute_result",
          "data": {
            "text/plain": [
              "1"
            ]
          },
          "metadata": {},
          "execution_count": 160
        }
      ]
    },
    {
      "cell_type": "code",
      "metadata": {
        "colab": {
          "base_uri": "https://localhost:8080/",
          "height": 35
        },
        "id": "A6gDqYVydeO9",
        "outputId": "1fb9b1cb-67d9-4c55-e5e4-ccec399909ad"
      },
      "source": [
        "a[5:17]"
      ],
      "execution_count": 161,
      "outputs": [
        {
          "output_type": "execute_result",
          "data": {
            "application/vnd.google.colaboratory.intrinsic+json": {
              "type": "string"
            },
            "text/plain": [
              "'is a python '"
            ]
          },
          "metadata": {},
          "execution_count": 161
        }
      ]
    },
    {
      "cell_type": "code",
      "metadata": {
        "colab": {
          "base_uri": "https://localhost:8080/"
        },
        "id": "Gwnd6Oghdg3x",
        "outputId": "fbfa6bb0-9d98-44f6-bbf7-533cbef94b87"
      },
      "source": [
        "#find the index of a character/substring\n",
        "a.find('isa')"
      ],
      "execution_count": 169,
      "outputs": [
        {
          "output_type": "execute_result",
          "data": {
            "text/plain": [
              "-1"
            ]
          },
          "metadata": {},
          "execution_count": 169
        }
      ]
    },
    {
      "cell_type": "code",
      "metadata": {
        "colab": {
          "base_uri": "https://localhost:8080/",
          "height": 161
        },
        "id": "3na8Zde2d9C0",
        "outputId": "d59a8da6-b455-4b10-d8be-0b01f00e075d"
      },
      "source": [
        "a.index('isa')"
      ],
      "execution_count": 170,
      "outputs": [
        {
          "output_type": "error",
          "ename": "ValueError",
          "evalue": "ignored",
          "traceback": [
            "\u001b[0;31m---------------------------------------------------------------------------\u001b[0m",
            "\u001b[0;31mValueError\u001b[0m                                Traceback (most recent call last)",
            "\u001b[0;32m<ipython-input-170-0d1ebd41312f>\u001b[0m in \u001b[0;36m<module>\u001b[0;34m()\u001b[0m\n\u001b[0;32m----> 1\u001b[0;31m \u001b[0ma\u001b[0m\u001b[0;34m.\u001b[0m\u001b[0mindex\u001b[0m\u001b[0;34m(\u001b[0m\u001b[0;34m'isa'\u001b[0m\u001b[0;34m)\u001b[0m\u001b[0;34m\u001b[0m\u001b[0;34m\u001b[0m\u001b[0m\n\u001b[0m",
            "\u001b[0;31mValueError\u001b[0m: substring not found"
          ]
        }
      ]
    },
    {
      "cell_type": "code",
      "metadata": {
        "id": "IQlQoYi6ebbn"
      },
      "source": [
        "#collection of numbers, characters and special characters\n",
        "c=\"abcd@1234%#\""
      ],
      "execution_count": 171,
      "outputs": []
    },
    {
      "cell_type": "code",
      "metadata": {
        "id": "TDEQMY6Xe_dA"
      },
      "source": [
        "d=\"1234\""
      ],
      "execution_count": 181,
      "outputs": []
    },
    {
      "cell_type": "code",
      "metadata": {
        "colab": {
          "base_uri": "https://localhost:8080/"
        },
        "id": "bWq7ybXweyO8",
        "outputId": "f252d643-34c7-4102-d544-b30dfe61d8eb"
      },
      "source": [
        "#alphaneumeric??\n",
        "d.isalnum()"
      ],
      "execution_count": 174,
      "outputs": [
        {
          "output_type": "execute_result",
          "data": {
            "text/plain": [
              "True"
            ]
          },
          "metadata": {},
          "execution_count": 174
        }
      ]
    },
    {
      "cell_type": "code",
      "metadata": {
        "colab": {
          "base_uri": "https://localhost:8080/"
        },
        "id": "KfHHXFdLe8iZ",
        "outputId": "d439228b-ea58-43e7-ab6b-6cf85cf30113"
      },
      "source": [
        "#alphabetic\n",
        "d.isalpha()"
      ],
      "execution_count": 178,
      "outputs": [
        {
          "output_type": "execute_result",
          "data": {
            "text/plain": [
              "True"
            ]
          },
          "metadata": {},
          "execution_count": 178
        }
      ]
    },
    {
      "cell_type": "code",
      "metadata": {
        "colab": {
          "base_uri": "https://localhost:8080/"
        },
        "id": "PnbELg2rfLdh",
        "outputId": "6ec9b812-dbf1-4821-9504-cb5f6c047105"
      },
      "source": [
        "#only digits\n",
        "d.isdigit()"
      ],
      "execution_count": 182,
      "outputs": [
        {
          "output_type": "execute_result",
          "data": {
            "text/plain": [
              "True"
            ]
          },
          "metadata": {},
          "execution_count": 182
        }
      ]
    },
    {
      "cell_type": "code",
      "metadata": {
        "colab": {
          "base_uri": "https://localhost:8080/"
        },
        "id": "Inal9SfIfVuc",
        "outputId": "259d469b-4a0b-494e-e128-8e186b9ff688"
      },
      "source": [
        "#only spaces\n",
        "d=\"           \"\n",
        "d.isspace()"
      ],
      "execution_count": 185,
      "outputs": [
        {
          "output_type": "execute_result",
          "data": {
            "text/plain": [
              "True"
            ]
          },
          "metadata": {},
          "execution_count": 185
        }
      ]
    },
    {
      "cell_type": "code",
      "metadata": {
        "colab": {
          "base_uri": "https://localhost:8080/",
          "height": 35
        },
        "id": "x-CcdJ_sfjvz",
        "outputId": "5348414a-b4ec-4016-a3b8-189753674805"
      },
      "source": [
        "a"
      ],
      "execution_count": 186,
      "outputs": [
        {
          "output_type": "execute_result",
          "data": {
            "application/vnd.google.colaboratory.intrinsic+json": {
              "type": "string"
            },
            "text/plain": [
              "'this is a python learning course'"
            ]
          },
          "metadata": {},
          "execution_count": 186
        }
      ]
    },
    {
      "cell_type": "code",
      "metadata": {
        "colab": {
          "base_uri": "https://localhost:8080/",
          "height": 35
        },
        "id": "wUYiisCzfrqb",
        "outputId": "0e90d0b9-2139-4936-a1eb-8c9575b139b4"
      },
      "source": [
        "#max character of a string--> ASCII equivalent\n",
        "max(a)"
      ],
      "execution_count": 187,
      "outputs": [
        {
          "output_type": "execute_result",
          "data": {
            "application/vnd.google.colaboratory.intrinsic+json": {
              "type": "string"
            },
            "text/plain": [
              "'y'"
            ]
          },
          "metadata": {},
          "execution_count": 187
        }
      ]
    },
    {
      "cell_type": "code",
      "metadata": {
        "colab": {
          "base_uri": "https://localhost:8080/",
          "height": 35
        },
        "id": "rI0ie0AofxMN",
        "outputId": "8308c4f8-bc31-4479-a1d8-aad9298176d4"
      },
      "source": [
        "min(a)"
      ],
      "execution_count": 188,
      "outputs": [
        {
          "output_type": "execute_result",
          "data": {
            "application/vnd.google.colaboratory.intrinsic+json": {
              "type": "string"
            },
            "text/plain": [
              "' '"
            ]
          },
          "metadata": {},
          "execution_count": 188
        }
      ]
    },
    {
      "cell_type": "code",
      "metadata": {
        "colab": {
          "base_uri": "https://localhost:8080/"
        },
        "id": "lU9jSN24fz4L",
        "outputId": "09f56611-5c1c-4f08-cb67-bb58b3b1f638"
      },
      "source": [
        "ord('a')  #order  find the ascii equivalent of a character"
      ],
      "execution_count": 194,
      "outputs": [
        {
          "output_type": "execute_result",
          "data": {
            "text/plain": [
              "97"
            ]
          },
          "metadata": {},
          "execution_count": 194
        }
      ]
    },
    {
      "cell_type": "code",
      "metadata": {
        "colab": {
          "base_uri": "https://localhost:8080/",
          "height": 35
        },
        "id": "NbruXkAtgAcp",
        "outputId": "4e5b0127-5e45-480a-9927-1182e1e1650d"
      },
      "source": [
        "#ascii to character\n",
        "chr(9798)"
      ],
      "execution_count": 196,
      "outputs": [
        {
          "output_type": "execute_result",
          "data": {
            "application/vnd.google.colaboratory.intrinsic+json": {
              "type": "string"
            },
            "text/plain": [
              "'♆'"
            ]
          },
          "metadata": {},
          "execution_count": 196
        }
      ]
    },
    {
      "cell_type": "code",
      "metadata": {
        "colab": {
          "base_uri": "https://localhost:8080/",
          "height": 35
        },
        "id": "f7Cm65wZgW0F",
        "outputId": "aa22a653-e55f-4699-f3df-d618b3467333"
      },
      "source": [
        "chr(97)"
      ],
      "execution_count": 197,
      "outputs": [
        {
          "output_type": "execute_result",
          "data": {
            "application/vnd.google.colaboratory.intrinsic+json": {
              "type": "string"
            },
            "text/plain": [
              "'a'"
            ]
          },
          "metadata": {},
          "execution_count": 197
        }
      ]
    },
    {
      "cell_type": "code",
      "metadata": {
        "colab": {
          "base_uri": "https://localhost:8080/",
          "height": 35
        },
        "id": "Y-vffX6Hgd3-",
        "outputId": "48994cb2-edd8-4744-b1e4-4960d42de5b1"
      },
      "source": [
        "str(97)"
      ],
      "execution_count": 198,
      "outputs": [
        {
          "output_type": "execute_result",
          "data": {
            "application/vnd.google.colaboratory.intrinsic+json": {
              "type": "string"
            },
            "text/plain": [
              "'97'"
            ]
          },
          "metadata": {},
          "execution_count": 198
        }
      ]
    },
    {
      "cell_type": "code",
      "metadata": {
        "colab": {
          "base_uri": "https://localhost:8080/",
          "height": 35
        },
        "id": "TEFM24YEgftx",
        "outputId": "181ce3fe-1650-4008-dbc5-b96e5f4f79af"
      },
      "source": [
        "#split method\n",
        "a"
      ],
      "execution_count": 199,
      "outputs": [
        {
          "output_type": "execute_result",
          "data": {
            "application/vnd.google.colaboratory.intrinsic+json": {
              "type": "string"
            },
            "text/plain": [
              "'this is a python learning course'"
            ]
          },
          "metadata": {},
          "execution_count": 199
        }
      ]
    },
    {
      "cell_type": "code",
      "metadata": {
        "colab": {
          "base_uri": "https://localhost:8080/"
        },
        "id": "alD7ezgRgu3k",
        "outputId": "cb8359ac-f248-4d56-f44e-e26f80f7e01d"
      },
      "source": [
        "a.split(' ')"
      ],
      "execution_count": 202,
      "outputs": [
        {
          "output_type": "execute_result",
          "data": {
            "text/plain": [
              "['this', 'is', 'a', 'python', 'learning', 'course']"
            ]
          },
          "metadata": {},
          "execution_count": 202
        }
      ]
    },
    {
      "cell_type": "code",
      "metadata": {
        "id": "K6x0nPsFhjqf"
      },
      "source": [
        "#join function"
      ],
      "execution_count": null,
      "outputs": []
    },
    {
      "cell_type": "code",
      "metadata": {
        "colab": {
          "base_uri": "https://localhost:8080/",
          "height": 35
        },
        "id": "W0EYGaVZgxsK",
        "outputId": "e69ed759-99c5-4032-ce4b-1da31f163dc9"
      },
      "source": [
        "'#'.join(a.split(' '))"
      ],
      "execution_count": 207,
      "outputs": [
        {
          "output_type": "execute_result",
          "data": {
            "application/vnd.google.colaboratory.intrinsic+json": {
              "type": "string"
            },
            "text/plain": [
              "'this#is#a#python#learning#course'"
            ]
          },
          "metadata": {},
          "execution_count": 207
        }
      ]
    },
    {
      "cell_type": "code",
      "metadata": {
        "colab": {
          "base_uri": "https://localhost:8080/",
          "height": 35
        },
        "id": "fNC3ENOdhILW",
        "outputId": "8751bc62-6bb4-4fd3-a1de-ec8b1c64f412"
      },
      "source": [
        "#replace\n",
        "a"
      ],
      "execution_count": 208,
      "outputs": [
        {
          "output_type": "execute_result",
          "data": {
            "application/vnd.google.colaboratory.intrinsic+json": {
              "type": "string"
            },
            "text/plain": [
              "'this is a python learning course'"
            ]
          },
          "metadata": {},
          "execution_count": 208
        }
      ]
    },
    {
      "cell_type": "code",
      "metadata": {
        "colab": {
          "base_uri": "https://localhost:8080/",
          "height": 35
        },
        "id": "C5bsCVWwhpMG",
        "outputId": "e27a9090-5694-4e46-f63a-f393fd099cef"
      },
      "source": [
        "a.replace('i','e')"
      ],
      "execution_count": 211,
      "outputs": [
        {
          "output_type": "execute_result",
          "data": {
            "application/vnd.google.colaboratory.intrinsic+json": {
              "type": "string"
            },
            "text/plain": [
              "'thes es a python learneng course'"
            ]
          },
          "metadata": {},
          "execution_count": 211
        }
      ]
    },
    {
      "cell_type": "code",
      "metadata": {
        "colab": {
          "base_uri": "https://localhost:8080/",
          "height": 35
        },
        "id": "6h9iwaA1hwQG",
        "outputId": "21afd2b8-f97c-45e8-e1fa-2085dfa3cf83"
      },
      "source": [
        "a.replace('i','e',2)"
      ],
      "execution_count": 213,
      "outputs": [
        {
          "output_type": "execute_result",
          "data": {
            "application/vnd.google.colaboratory.intrinsic+json": {
              "type": "string"
            },
            "text/plain": [
              "'thes es a python learning course'"
            ]
          },
          "metadata": {},
          "execution_count": 213
        }
      ]
    },
    {
      "cell_type": "code",
      "metadata": {
        "id": "G5vg6ZokiDde"
      },
      "source": [
        "password=\"adCD14@\"\n",
        "countsmaller=0\n",
        "countcaps=0\n",
        "countdigits=0\n",
        "countspc=0\n",
        "if(a[0])\n",
        "a[1]\n",
        "a[2]\n",
        "a[3]\n",
        "a[4]"
      ],
      "execution_count": null,
      "outputs": []
    },
    {
      "cell_type": "code",
      "metadata": {
        "colab": {
          "base_uri": "https://localhost:8080/",
          "height": 35
        },
        "id": "UlBIzhViiogD",
        "outputId": "50540c3d-8bd0-4601-b34b-b14e5e9ef10b"
      },
      "source": [
        "password=\"aA1#\"\n",
        "password[0]"
      ],
      "execution_count": 235,
      "outputs": [
        {
          "output_type": "execute_result",
          "data": {
            "application/vnd.google.colaboratory.intrinsic+json": {
              "type": "string"
            },
            "text/plain": [
              "'a'"
            ]
          },
          "metadata": {},
          "execution_count": 235
        }
      ]
    },
    {
      "cell_type": "code",
      "metadata": {
        "id": "aesqB_Zoi81n"
      },
      "source": [
        "countsmaller=0\n",
        "countcaps=0\n",
        "countdigits=0\n",
        "countspc=0"
      ],
      "execution_count": 236,
      "outputs": []
    },
    {
      "cell_type": "code",
      "metadata": {
        "id": "C6Fay-g5ipHy"
      },
      "source": [
        "if(password[0].isalnum()):\n",
        "  if(password[0].isupper()):\n",
        "    countcaps+=1\n",
        "  elif(password[0].islower()):\n",
        "    countsmaller+=1\n",
        "  elif(password[0].isdigit()):\n",
        "    countdigits+=1\n",
        "  else:\n",
        "    countspc+=1\n",
        "if(password[1].isalnum()):\n",
        "  if(password[1].isupper()):\n",
        "    countcaps+=1\n",
        "  elif(password[1].islower()):\n",
        "    countsmaller+=1\n",
        "  elif(password[1].isdigit()):\n",
        "    countdigits+=1\n",
        "  else:\n",
        "    countspc+=1\n",
        "if(password[2].isalnum()):\n",
        "  if(password[2].isupper()):\n",
        "    countcaps+=1\n",
        "  elif(password[2].islower()):\n",
        "    countsmaller+=1\n",
        "  elif(password[2].isdigit()):\n",
        "    countdigits+=1\n",
        "  else:\n",
        "    countspc+=1\n",
        "if(password[3].isalnum()):\n",
        "  if(password[3].isupper()):\n",
        "    countcaps+=1\n",
        "  elif(password[3].islower()):\n",
        "    countsmaller+=1\n",
        "  elif(password[3].isdigit()):\n",
        "    countdigits+=1\n",
        "  else:\n",
        "    countspc+=1\n"
      ],
      "execution_count": 237,
      "outputs": []
    },
    {
      "cell_type": "code",
      "metadata": {
        "colab": {
          "base_uri": "https://localhost:8080/"
        },
        "id": "iEOQA8j9iyS8",
        "outputId": "057a0795-d5db-4e92-b443-2e95d106a2ec"
      },
      "source": [
        "print(countsmaller)\n",
        "print(countcaps)\n",
        "print(countdigits)\n",
        "print(countspc)"
      ],
      "execution_count": 238,
      "outputs": [
        {
          "output_type": "stream",
          "text": [
            "1\n",
            "1\n",
            "1\n",
            "0\n"
          ],
          "name": "stdout"
        }
      ]
    },
    {
      "cell_type": "code",
      "metadata": {
        "colab": {
          "base_uri": "https://localhost:8080/"
        },
        "id": "FeFSHaRrjCq9",
        "outputId": "1786fa66-877d-42b7-d213-c03c66c77b78"
      },
      "source": [
        "if(countsmaller>0 and countcaps>0 and countdigits>0 and countspc>0):\n",
        "  print(\"valid password\")\n",
        "else:\n",
        "  print(\"invalid password\")"
      ],
      "execution_count": 239,
      "outputs": [
        {
          "output_type": "stream",
          "text": [
            "invalid password\n"
          ],
          "name": "stdout"
        }
      ]
    },
    {
      "cell_type": "code",
      "metadata": {
        "id": "cnmua00Xkcb-"
      },
      "source": [
        ""
      ],
      "execution_count": null,
      "outputs": []
    }
  ]
}