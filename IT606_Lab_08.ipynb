{
  "nbformat": 4,
  "nbformat_minor": 0,
  "metadata": {
    "colab": {
      "name": "IT606 Lab 08.ipynb",
      "provenance": []
    },
    "kernelspec": {
      "name": "python3",
      "display_name": "Python 3"
    },
    "language_info": {
      "name": "python"
    }
  },
  "cells": [
    {
      "cell_type": "markdown",
      "metadata": {
        "id": "KYd21Fj3d8wZ"
      },
      "source": [
        "File Handling"
      ]
    },
    {
      "cell_type": "code",
      "metadata": {
        "id": "ENTMk2hZdr9_"
      },
      "source": [
        "#Working with Text (Notepad) files"
      ],
      "execution_count": 1,
      "outputs": []
    },
    {
      "cell_type": "code",
      "metadata": {
        "id": "FsxlkXxPeEyb"
      },
      "source": [
        "#writing the content to blankfile.txt\n",
        "#step 1: open the file\n",
        "#step 2: writing into the file\n",
        "#step 3: saving the file and closing it\n",
        "file=open('/content/blankfile.txt','w')  #write mode\n",
        "file.write(\"This is the lab for file handling\")\n",
        "file.close()  #saving and closing"
      ],
      "execution_count": 2,
      "outputs": []
    },
    {
      "cell_type": "code",
      "metadata": {
        "id": "0yXdwSwrgHC2"
      },
      "source": [
        "file=open('/content/blankfile.txt','w')  #write mode\n",
        "file.write(\"This is the lab for IT606 Programming using Python\")\n",
        "file.close()  #saving and closing"
      ],
      "execution_count": 3,
      "outputs": []
    },
    {
      "cell_type": "code",
      "metadata": {
        "id": "geqohvA-gVhw"
      },
      "source": [
        "file=open('/content/blankfile.txt','w')  #write mode\n",
        "file.write(\"Welcome to DAIICT, Gandhinagar\")\n",
        "file.close()  #saving and closing"
      ],
      "execution_count": 4,
      "outputs": []
    },
    {
      "cell_type": "markdown",
      "metadata": {
        "id": "c-In1mYlg1hz"
      },
      "source": [
        "Switching to Append Mode"
      ]
    },
    {
      "cell_type": "code",
      "metadata": {
        "id": "Auk9YGVggfJe"
      },
      "source": [
        "file=open('/content/blankfile.txt','a')  #append mode\n",
        "file.write(\"This is the lab for file handling\")\n",
        "file.close()  #saving and closing"
      ],
      "execution_count": 5,
      "outputs": []
    },
    {
      "cell_type": "code",
      "metadata": {
        "id": "MH4MrojkhDeZ"
      },
      "source": [
        "file=open('/content/blankfile.txt','a')  #append mode\n",
        "file.write('\\n')   #new line\n",
        "file.write(\"This is the lab for IT606 Programing using Python\")\n",
        "file.close()  #saving and closing"
      ],
      "execution_count": 6,
      "outputs": []
    },
    {
      "cell_type": "code",
      "metadata": {
        "id": "czaAPWW2hgfr"
      },
      "source": [
        "file=open('/content/blankfile.txt','a')  #append mode\n",
        "for i in range(10):\n",
        "  file.write(str(i))\n",
        "  file.write('\\n')\n",
        "file.close()  #saving and closing"
      ],
      "execution_count": 8,
      "outputs": []
    },
    {
      "cell_type": "code",
      "metadata": {
        "id": "zOB_WO8qhxU8"
      },
      "source": [
        "file=open('/content/blankfile.txt','a')  #append mode\n",
        "file.write('\\n')\n",
        "file.write(\"Only even numbers from 0-10\")\n",
        "file.write('\\n')\n",
        "for i in range(10):\n",
        "  if(i%2==0):\n",
        "    file.write(str(i))\n",
        "    file.write('\\n')\n",
        "file.close()  #saving and closing"
      ],
      "execution_count": 11,
      "outputs": []
    },
    {
      "cell_type": "code",
      "metadata": {
        "colab": {
          "base_uri": "https://localhost:8080/"
        },
        "id": "UFnW6kwLig-y",
        "outputId": "3a60fc18-b9c1-4a47-8482-7fe725c154a6"
      },
      "source": [
        "#reading the file\n",
        "file=open('/content/blankfile.txt','r')  #read mode\n",
        "print(file.read())"
      ],
      "execution_count": 12,
      "outputs": [
        {
          "output_type": "stream",
          "name": "stdout",
          "text": [
            "Welcome to DAIICT, GandhinagarThis is the lab for file handling\n",
            "This is the lab for IT606 Programing using Python0\n",
            "1\n",
            "2\n",
            "3\n",
            "4\n",
            "5\n",
            "6\n",
            "7\n",
            "8\n",
            "9\n",
            "\n",
            "Only even numbers from 0-100\n",
            "2\n",
            "4\n",
            "6\n",
            "8\n",
            "\n",
            "Only even numbers from 0-10\n",
            "0\n",
            "2\n",
            "4\n",
            "6\n",
            "8\n",
            "\n",
            "Only even numbers from 0-10\n",
            "0\n",
            "2\n",
            "4\n",
            "6\n",
            "8\n",
            "\n"
          ]
        }
      ]
    },
    {
      "cell_type": "code",
      "metadata": {
        "id": "tSWIFUMkjNfF"
      },
      "source": [
        "#reading the file\n",
        "file=open('/content/blankfile.txt','r')  #read mode\n",
        "variable_abc=file.read()"
      ],
      "execution_count": 13,
      "outputs": []
    },
    {
      "cell_type": "code",
      "metadata": {
        "colab": {
          "base_uri": "https://localhost:8080/"
        },
        "id": "w0BpM8FzjVE0",
        "outputId": "7455531d-b27c-46ee-bbad-1f11c9dbacfc"
      },
      "source": [
        "type(variable_abc)"
      ],
      "execution_count": 15,
      "outputs": [
        {
          "output_type": "execute_result",
          "data": {
            "text/plain": [
              "str"
            ]
          },
          "metadata": {},
          "execution_count": 15
        }
      ]
    },
    {
      "cell_type": "code",
      "metadata": {
        "colab": {
          "base_uri": "https://localhost:8080/"
        },
        "id": "hcPrNwqVjWXA",
        "outputId": "2a593800-6bba-4f9a-930d-d597d5c0b907"
      },
      "source": [
        "#reading till specific number of characters\n",
        "file=open('/content/blankfile.txt','r')  #read mode\n",
        "print(file.read(20))"
      ],
      "execution_count": 18,
      "outputs": [
        {
          "output_type": "stream",
          "name": "stdout",
          "text": [
            "Welcome to DAIICT, G\n"
          ]
        }
      ]
    },
    {
      "cell_type": "code",
      "metadata": {
        "colab": {
          "base_uri": "https://localhost:8080/"
        },
        "id": "WW5MIiUyj0mn",
        "outputId": "bd5f5986-1af3-4729-e71f-9d49edef8f86"
      },
      "source": [
        "#reading line-by-line\n",
        "file=open('/content/blankfile.txt','r')  #read mode\n",
        "print(file.readline())"
      ],
      "execution_count": 19,
      "outputs": [
        {
          "output_type": "stream",
          "name": "stdout",
          "text": [
            "Welcome to DAIICT, GandhinagarThis is the lab for file handling\n",
            "\n"
          ]
        }
      ]
    },
    {
      "cell_type": "code",
      "metadata": {
        "colab": {
          "base_uri": "https://localhost:8080/"
        },
        "id": "SIEQmH5QkIhx",
        "outputId": "e9b172d2-03fe-4202-add0-112fb9155100"
      },
      "source": [
        "#reading line-by-line\n",
        "file=open('/content/blankfile.txt','r')  #read mode\n",
        "print(file.readlines(3))"
      ],
      "execution_count": 20,
      "outputs": [
        {
          "output_type": "stream",
          "name": "stdout",
          "text": [
            "['Welcome to DAIICT, GandhinagarThis is the lab for file handling\\n']\n"
          ]
        }
      ]
    },
    {
      "cell_type": "code",
      "metadata": {
        "colab": {
          "base_uri": "https://localhost:8080/"
        },
        "id": "urdx9F55kPhu",
        "outputId": "81a23e64-60af-47bc-91ac-7d03bd8828c3"
      },
      "source": [
        "file=open('/content/blankfile.txt','r')\n",
        "print(file.readline())"
      ],
      "execution_count": 21,
      "outputs": [
        {
          "output_type": "stream",
          "name": "stdout",
          "text": [
            "Welcome to DAIICT, GandhinagarThis is the lab for file handling\n",
            "\n"
          ]
        }
      ]
    },
    {
      "cell_type": "markdown",
      "metadata": {
        "id": "AUpx6XN_k_9R"
      },
      "source": [
        "Writing into CSV files"
      ]
    },
    {
      "cell_type": "code",
      "metadata": {
        "id": "hZjQhNRIk5U2"
      },
      "source": [
        "import csv\n",
        "fields=['Name','Surname']\n",
        "rows=[['Nishith','Kotak'],\n",
        "      ['Sachin','Tendulkar'],\n",
        "      ['Virat','Kohli'],\n",
        "      ['Mahendrasingh','Dhoni'],\n",
        "      ['Suresh','Raina']]\n",
        "filecsv='/content/demo.csv'\n",
        "with open(filecsv,'w') as csvfile:\n",
        "  csvwriter=csv.writer(csvfile)\n",
        "  csvwriter.writerow(fields)\n",
        "  csvwriter.writerows(rows)\n",
        "\n"
      ],
      "execution_count": 22,
      "outputs": []
    },
    {
      "cell_type": "code",
      "metadata": {
        "id": "AvmiJc-fnwjv"
      },
      "source": [
        "#Writing in an excel file"
      ],
      "execution_count": 23,
      "outputs": []
    },
    {
      "cell_type": "code",
      "metadata": {
        "colab": {
          "base_uri": "https://localhost:8080/"
        },
        "id": "Q_LagyxlrxNB",
        "outputId": "70c104e1-484b-493b-dcd6-414815c61a48"
      },
      "source": [
        "pip install xlsxwriter"
      ],
      "execution_count": 24,
      "outputs": [
        {
          "output_type": "stream",
          "name": "stdout",
          "text": [
            "Collecting xlsxwriter\n",
            "  Downloading XlsxWriter-3.0.1-py3-none-any.whl (148 kB)\n",
            "\u001b[?25l\r\u001b[K     |██▏                             | 10 kB 27.3 MB/s eta 0:00:01\r\u001b[K     |████▍                           | 20 kB 8.1 MB/s eta 0:00:01\r\u001b[K     |██████▋                         | 30 kB 5.4 MB/s eta 0:00:01\r\u001b[K     |████████▉                       | 40 kB 5.2 MB/s eta 0:00:01\r\u001b[K     |███████████                     | 51 kB 2.6 MB/s eta 0:00:01\r\u001b[K     |█████████████▏                  | 61 kB 2.9 MB/s eta 0:00:01\r\u001b[K     |███████████████▍                | 71 kB 2.9 MB/s eta 0:00:01\r\u001b[K     |█████████████████▋              | 81 kB 3.3 MB/s eta 0:00:01\r\u001b[K     |███████████████████▉            | 92 kB 3.5 MB/s eta 0:00:01\r\u001b[K     |██████████████████████          | 102 kB 2.7 MB/s eta 0:00:01\r\u001b[K     |████████████████████████▎       | 112 kB 2.7 MB/s eta 0:00:01\r\u001b[K     |██████████████████████████▍     | 122 kB 2.7 MB/s eta 0:00:01\r\u001b[K     |████████████████████████████▋   | 133 kB 2.7 MB/s eta 0:00:01\r\u001b[K     |██████████████████████████████▉ | 143 kB 2.7 MB/s eta 0:00:01\r\u001b[K     |████████████████████████████████| 148 kB 2.7 MB/s \n",
            "\u001b[?25hInstalling collected packages: xlsxwriter\n",
            "Successfully installed xlsxwriter-3.0.1\n"
          ]
        }
      ]
    },
    {
      "cell_type": "code",
      "metadata": {
        "id": "kSVYMr2usWxT"
      },
      "source": [
        "import xlsxwriter\n",
        "workbook=xlsxwriter.Workbook('/content/excelfiledemo.xlsx')\n",
        "worksheet=workbook.add_worksheet()\n",
        "worksheet.write('A1','Hello')\n",
        "worksheet.write('B1','DAIICT')\n",
        "worksheet.write('C1','Python')\n",
        "worksheet.write('D1','Programming')\n",
        "worksheet.write('B2','Lab')\n",
        "worksheet.write('C3','IT606')\n",
        "\n",
        "workbook.close()  #saving and closing"
      ],
      "execution_count": 26,
      "outputs": []
    },
    {
      "cell_type": "code",
      "metadata": {
        "id": "bfodlrbttwCX"
      },
      "source": [
        "#worksheet.write(row,column,content)\n",
        "workbook=xlsxwriter.Workbook('/content/excelfiledemo.xlsx')\n",
        "worksheet=workbook.add_worksheet()\n",
        "\n",
        "for i in range(1,5):  #rows\n",
        "  for j in range(1,5):  #columns\n",
        "    worksheet.write(i,j,'DAIICT'+str(i+j))\n",
        "workbook.close()"
      ],
      "execution_count": 27,
      "outputs": []
    },
    {
      "cell_type": "code",
      "metadata": {
        "colab": {
          "base_uri": "https://localhost:8080/",
          "height": 195
        },
        "id": "__JNXyHau5dy",
        "outputId": "609db278-db29-4db3-8ec3-cb435727085c"
      },
      "source": [
        "#removing a file\n",
        "import os\n",
        "os.remove('/content/blankfile.txt')"
      ],
      "execution_count": 29,
      "outputs": [
        {
          "output_type": "error",
          "ename": "FileNotFoundError",
          "evalue": "ignored",
          "traceback": [
            "\u001b[0;31m---------------------------------------------------------------------------\u001b[0m",
            "\u001b[0;31mFileNotFoundError\u001b[0m                         Traceback (most recent call last)",
            "\u001b[0;32m<ipython-input-29-731622a5ca3e>\u001b[0m in \u001b[0;36m<module>\u001b[0;34m()\u001b[0m\n\u001b[1;32m      1\u001b[0m \u001b[0;31m#removing a file\u001b[0m\u001b[0;34m\u001b[0m\u001b[0;34m\u001b[0m\u001b[0;34m\u001b[0m\u001b[0m\n\u001b[1;32m      2\u001b[0m \u001b[0;32mimport\u001b[0m \u001b[0mos\u001b[0m\u001b[0;34m\u001b[0m\u001b[0;34m\u001b[0m\u001b[0m\n\u001b[0;32m----> 3\u001b[0;31m \u001b[0mos\u001b[0m\u001b[0;34m.\u001b[0m\u001b[0mremove\u001b[0m\u001b[0;34m(\u001b[0m\u001b[0;34m'/content/blankfile.txt'\u001b[0m\u001b[0;34m)\u001b[0m\u001b[0;34m\u001b[0m\u001b[0;34m\u001b[0m\u001b[0m\n\u001b[0m",
            "\u001b[0;31mFileNotFoundError\u001b[0m: [Errno 2] No such file or directory: '/content/blankfile.txt'"
          ]
        }
      ]
    },
    {
      "cell_type": "code",
      "metadata": {
        "id": "wrAxg_QivaJs"
      },
      "source": [
        "import os\n",
        "if os.path.exists('/content/demo.csv'):\n",
        "  os.remove('/content/demo.csv')\n",
        "else:\n",
        "  print(\"File not found\")"
      ],
      "execution_count": 31,
      "outputs": []
    },
    {
      "cell_type": "markdown",
      "metadata": {
        "id": "oSbOemzpv7sI"
      },
      "source": [
        "Errors and Exceptions\n",
        "Exception Handling"
      ]
    },
    {
      "cell_type": "code",
      "metadata": {
        "id": "2dBtjoKvvtZM"
      },
      "source": [
        "#Error1: IOError Exception"
      ],
      "execution_count": 32,
      "outputs": []
    },
    {
      "cell_type": "code",
      "metadata": {
        "colab": {
          "base_uri": "https://localhost:8080/",
          "height": 212
        },
        "id": "P3lwO_6KyL9s",
        "outputId": "1c1a629e-49b6-42d6-c7d1-21cc19884e31"
      },
      "source": [
        "import sys\n",
        "file=open('except.txt')\n",
        "for i in range(10):\n",
        "  print(i)"
      ],
      "execution_count": 36,
      "outputs": [
        {
          "output_type": "error",
          "ename": "FileNotFoundError",
          "evalue": "ignored",
          "traceback": [
            "\u001b[0;31m---------------------------------------------------------------------------\u001b[0m",
            "\u001b[0;31mFileNotFoundError\u001b[0m                         Traceback (most recent call last)",
            "\u001b[0;32m<ipython-input-36-b48eb8f0d9c0>\u001b[0m in \u001b[0;36m<module>\u001b[0;34m()\u001b[0m\n\u001b[1;32m      1\u001b[0m \u001b[0;32mimport\u001b[0m \u001b[0msys\u001b[0m\u001b[0;34m\u001b[0m\u001b[0;34m\u001b[0m\u001b[0m\n\u001b[0;32m----> 2\u001b[0;31m \u001b[0mfile\u001b[0m\u001b[0;34m=\u001b[0m\u001b[0mopen\u001b[0m\u001b[0;34m(\u001b[0m\u001b[0;34m'except.txt'\u001b[0m\u001b[0;34m)\u001b[0m\u001b[0;34m\u001b[0m\u001b[0;34m\u001b[0m\u001b[0m\n\u001b[0m\u001b[1;32m      3\u001b[0m \u001b[0;32mfor\u001b[0m \u001b[0mi\u001b[0m \u001b[0;32min\u001b[0m \u001b[0mrange\u001b[0m\u001b[0;34m(\u001b[0m\u001b[0;36m10\u001b[0m\u001b[0;34m)\u001b[0m\u001b[0;34m:\u001b[0m\u001b[0;34m\u001b[0m\u001b[0;34m\u001b[0m\u001b[0m\n\u001b[1;32m      4\u001b[0m   \u001b[0mprint\u001b[0m\u001b[0;34m(\u001b[0m\u001b[0mi\u001b[0m\u001b[0;34m)\u001b[0m\u001b[0;34m\u001b[0m\u001b[0;34m\u001b[0m\u001b[0m\n",
            "\u001b[0;31mFileNotFoundError\u001b[0m: [Errno 2] No such file or directory: 'except.txt'"
          ]
        }
      ]
    },
    {
      "cell_type": "code",
      "metadata": {
        "colab": {
          "base_uri": "https://localhost:8080/"
        },
        "id": "A-Ufvbf_ySgd",
        "outputId": "bc22e7af-a692-43d9-c006-4119eaffb243"
      },
      "source": [
        "try:\n",
        "  file=open('except.txt')\n",
        "except IOError:\n",
        "  print(\"File not found\")\n",
        "for i in range(10):\n",
        "  print(i)"
      ],
      "execution_count": 35,
      "outputs": [
        {
          "output_type": "stream",
          "name": "stdout",
          "text": [
            "File not found\n",
            "0\n",
            "1\n",
            "2\n",
            "3\n",
            "4\n",
            "5\n",
            "6\n",
            "7\n",
            "8\n",
            "9\n"
          ]
        }
      ]
    },
    {
      "cell_type": "code",
      "metadata": {
        "id": "hkKaxfToyuj4"
      },
      "source": [
        "#KeyError: Dictionary Key-Value\n",
        "dictionary={'a':5,'b':2}"
      ],
      "execution_count": 37,
      "outputs": []
    },
    {
      "cell_type": "code",
      "metadata": {
        "colab": {
          "base_uri": "https://localhost:8080/",
          "height": 161
        },
        "id": "Rg52XecPzjxg",
        "outputId": "6db1b6d2-8266-45e7-d438-8deaf211825b"
      },
      "source": [
        "dictionary['c']"
      ],
      "execution_count": 38,
      "outputs": [
        {
          "output_type": "error",
          "ename": "KeyError",
          "evalue": "ignored",
          "traceback": [
            "\u001b[0;31m---------------------------------------------------------------------------\u001b[0m",
            "\u001b[0;31mKeyError\u001b[0m                                  Traceback (most recent call last)",
            "\u001b[0;32m<ipython-input-38-8368e4ddad1c>\u001b[0m in \u001b[0;36m<module>\u001b[0;34m()\u001b[0m\n\u001b[0;32m----> 1\u001b[0;31m \u001b[0mdictionary\u001b[0m\u001b[0;34m[\u001b[0m\u001b[0;34m'c'\u001b[0m\u001b[0;34m]\u001b[0m\u001b[0;34m\u001b[0m\u001b[0;34m\u001b[0m\u001b[0m\n\u001b[0m",
            "\u001b[0;31mKeyError\u001b[0m: 'c'"
          ]
        }
      ]
    },
    {
      "cell_type": "code",
      "metadata": {
        "colab": {
          "base_uri": "https://localhost:8080/"
        },
        "id": "N_zL3r-zzod4",
        "outputId": "f7a020f8-aa73-4797-ebd9-668bf23b4151"
      },
      "source": [
        "try:\n",
        "  dictionary['c']\n",
        "except KeyError:\n",
        "  print(\"Key not found\")"
      ],
      "execution_count": 40,
      "outputs": [
        {
          "output_type": "stream",
          "name": "stdout",
          "text": [
            "Key not found\n"
          ]
        }
      ]
    },
    {
      "cell_type": "code",
      "metadata": {
        "id": "VVGvPUmQz7N8"
      },
      "source": [
        "#Error 3: ARITHMETIC error"
      ],
      "execution_count": 41,
      "outputs": []
    },
    {
      "cell_type": "code",
      "metadata": {
        "colab": {
          "base_uri": "https://localhost:8080/",
          "height": 178
        },
        "id": "a6JHiROD0IAE",
        "outputId": "571642ff-37a3-4f9f-d72a-f03a343b5fa7"
      },
      "source": [
        "#DivisionbyZero error\n",
        "7/0"
      ],
      "execution_count": 42,
      "outputs": [
        {
          "output_type": "error",
          "ename": "ZeroDivisionError",
          "evalue": "ignored",
          "traceback": [
            "\u001b[0;31m---------------------------------------------------------------------------\u001b[0m",
            "\u001b[0;31mZeroDivisionError\u001b[0m                         Traceback (most recent call last)",
            "\u001b[0;32m<ipython-input-42-26e34639a331>\u001b[0m in \u001b[0;36m<module>\u001b[0;34m()\u001b[0m\n\u001b[1;32m      1\u001b[0m \u001b[0;31m#DivisionbyZero error\u001b[0m\u001b[0;34m\u001b[0m\u001b[0;34m\u001b[0m\u001b[0;34m\u001b[0m\u001b[0m\n\u001b[0;32m----> 2\u001b[0;31m \u001b[0;36m7\u001b[0m\u001b[0;34m/\u001b[0m\u001b[0;36m0\u001b[0m\u001b[0;34m\u001b[0m\u001b[0;34m\u001b[0m\u001b[0m\n\u001b[0m",
            "\u001b[0;31mZeroDivisionError\u001b[0m: division by zero"
          ]
        }
      ]
    },
    {
      "cell_type": "code",
      "metadata": {
        "colab": {
          "base_uri": "https://localhost:8080/"
        },
        "id": "o3-sP9Dl0cC-",
        "outputId": "bf38dce4-be89-4056-d9cb-e1e3de1326dd"
      },
      "source": [
        "try:\n",
        "  open('mytxt.txt')\n",
        "except KeyError:\n",
        "  print(\"Key error block\")\n",
        "except ArithmeticError:\n",
        "  print(\"this is arithmetic error\")\n",
        "except:\n",
        "  print(\"DAIICT IT606\")"
      ],
      "execution_count": 48,
      "outputs": [
        {
          "output_type": "stream",
          "name": "stdout",
          "text": [
            "DAIICT IT606\n"
          ]
        }
      ]
    },
    {
      "cell_type": "code",
      "metadata": {
        "colab": {
          "base_uri": "https://localhost:8080/",
          "height": 195
        },
        "id": "bmArnR5O0nto",
        "outputId": "7be95bfb-4655-44c1-8f82-e1a2fcadbb95"
      },
      "source": [
        "#Overflow error\n",
        "import math\n",
        "math.exp(1000)   #e^1000"
      ],
      "execution_count": 49,
      "outputs": [
        {
          "output_type": "error",
          "ename": "OverflowError",
          "evalue": "ignored",
          "traceback": [
            "\u001b[0;31m---------------------------------------------------------------------------\u001b[0m",
            "\u001b[0;31mOverflowError\u001b[0m                             Traceback (most recent call last)",
            "\u001b[0;32m<ipython-input-49-92a401694d4a>\u001b[0m in \u001b[0;36m<module>\u001b[0;34m()\u001b[0m\n\u001b[1;32m      1\u001b[0m \u001b[0;31m#Overflow error\u001b[0m\u001b[0;34m\u001b[0m\u001b[0;34m\u001b[0m\u001b[0;34m\u001b[0m\u001b[0m\n\u001b[1;32m      2\u001b[0m \u001b[0;32mimport\u001b[0m \u001b[0mmath\u001b[0m\u001b[0;34m\u001b[0m\u001b[0;34m\u001b[0m\u001b[0m\n\u001b[0;32m----> 3\u001b[0;31m \u001b[0mmath\u001b[0m\u001b[0;34m.\u001b[0m\u001b[0mexp\u001b[0m\u001b[0;34m(\u001b[0m\u001b[0;36m1000\u001b[0m\u001b[0;34m)\u001b[0m\u001b[0;34m\u001b[0m\u001b[0;34m\u001b[0m\u001b[0m\n\u001b[0m",
            "\u001b[0;31mOverflowError\u001b[0m: math range error"
          ]
        }
      ]
    },
    {
      "cell_type": "code",
      "metadata": {
        "colab": {
          "base_uri": "https://localhost:8080/"
        },
        "id": "hiTufKmA1-Gc",
        "outputId": "801550d0-5eae-421c-d187-822f63698307"
      },
      "source": [
        "try:\n",
        "  math.exp(1000)\n",
        "except:\n",
        "  print(\"overflow error\")\n",
        "for i in range(10):\n",
        "  print(i)"
      ],
      "execution_count": 51,
      "outputs": [
        {
          "output_type": "stream",
          "name": "stdout",
          "text": [
            "overflow error\n",
            "0\n",
            "1\n",
            "2\n",
            "3\n",
            "4\n",
            "5\n",
            "6\n",
            "7\n",
            "8\n",
            "9\n"
          ]
        }
      ]
    },
    {
      "cell_type": "code",
      "metadata": {
        "id": "0xyGfkOO2LHV"
      },
      "source": [
        "#Index Error"
      ],
      "execution_count": 52,
      "outputs": []
    },
    {
      "cell_type": "code",
      "metadata": {
        "colab": {
          "base_uri": "https://localhost:8080/",
          "height": 178
        },
        "id": "ty-zm62j2WjP",
        "outputId": "8849604c-b71e-42f6-9388-b8aa47d3ea9a"
      },
      "source": [
        "lista=[1,2,3,4,5]   #index--> range is [0,4]\n",
        "lista[5]"
      ],
      "execution_count": 53,
      "outputs": [
        {
          "output_type": "error",
          "ename": "IndexError",
          "evalue": "ignored",
          "traceback": [
            "\u001b[0;31m---------------------------------------------------------------------------\u001b[0m",
            "\u001b[0;31mIndexError\u001b[0m                                Traceback (most recent call last)",
            "\u001b[0;32m<ipython-input-53-89944fc970ca>\u001b[0m in \u001b[0;36m<module>\u001b[0;34m()\u001b[0m\n\u001b[1;32m      1\u001b[0m \u001b[0mlista\u001b[0m\u001b[0;34m=\u001b[0m\u001b[0;34m[\u001b[0m\u001b[0;36m1\u001b[0m\u001b[0;34m,\u001b[0m\u001b[0;36m2\u001b[0m\u001b[0;34m,\u001b[0m\u001b[0;36m3\u001b[0m\u001b[0;34m,\u001b[0m\u001b[0;36m4\u001b[0m\u001b[0;34m,\u001b[0m\u001b[0;36m5\u001b[0m\u001b[0;34m]\u001b[0m   \u001b[0;31m#index--> range is [0,4]\u001b[0m\u001b[0;34m\u001b[0m\u001b[0;34m\u001b[0m\u001b[0m\n\u001b[0;32m----> 2\u001b[0;31m \u001b[0mlista\u001b[0m\u001b[0;34m[\u001b[0m\u001b[0;36m5\u001b[0m\u001b[0;34m]\u001b[0m\u001b[0;34m\u001b[0m\u001b[0;34m\u001b[0m\u001b[0m\n\u001b[0m",
            "\u001b[0;31mIndexError\u001b[0m: list index out of range"
          ]
        }
      ]
    },
    {
      "cell_type": "code",
      "metadata": {
        "colab": {
          "base_uri": "https://localhost:8080/"
        },
        "id": "P8qomVMq2e25",
        "outputId": "e43f44a4-fa7b-4b53-a6bf-dce065de77b6"
      },
      "source": [
        "lista=[1,2,3,4,5]\n",
        "try:\n",
        "  lista[5]\n",
        "except:\n",
        "  print(\"specify the value in the range of a list\")"
      ],
      "execution_count": 54,
      "outputs": [
        {
          "output_type": "stream",
          "name": "stdout",
          "text": [
            "specify the value in the range of a list\n"
          ]
        }
      ]
    },
    {
      "cell_type": "code",
      "metadata": {
        "id": "kPMxCa3L2sRz"
      },
      "source": [
        "#NameError"
      ],
      "execution_count": 55,
      "outputs": []
    },
    {
      "cell_type": "code",
      "metadata": {
        "colab": {
          "base_uri": "https://localhost:8080/",
          "height": 161
        },
        "id": "EYFgL92k29py",
        "outputId": "01ce857a-6c98-4d59-8b46-c163cd7357eb"
      },
      "source": [
        "print(abcd)"
      ],
      "execution_count": 56,
      "outputs": [
        {
          "output_type": "error",
          "ename": "NameError",
          "evalue": "ignored",
          "traceback": [
            "\u001b[0;31m---------------------------------------------------------------------------\u001b[0m",
            "\u001b[0;31mNameError\u001b[0m                                 Traceback (most recent call last)",
            "\u001b[0;32m<ipython-input-56-ce1394b9d4d9>\u001b[0m in \u001b[0;36m<module>\u001b[0;34m()\u001b[0m\n\u001b[0;32m----> 1\u001b[0;31m \u001b[0mprint\u001b[0m\u001b[0;34m(\u001b[0m\u001b[0mabcd\u001b[0m\u001b[0;34m)\u001b[0m\u001b[0;34m\u001b[0m\u001b[0;34m\u001b[0m\u001b[0m\n\u001b[0m",
            "\u001b[0;31mNameError\u001b[0m: name 'abcd' is not defined"
          ]
        }
      ]
    },
    {
      "cell_type": "code",
      "metadata": {
        "colab": {
          "base_uri": "https://localhost:8080/"
        },
        "id": "K1PnP7Dn2_BS",
        "outputId": "a8ed3340-fff8-4419-936d-d464bbe096cd"
      },
      "source": [
        "try:\n",
        "  print(abcd)\n",
        "except:\n",
        "  print(\"variable abcd is not defined\")"
      ],
      "execution_count": 57,
      "outputs": [
        {
          "output_type": "stream",
          "name": "stdout",
          "text": [
            "variable abcd is not defined\n"
          ]
        }
      ]
    },
    {
      "cell_type": "code",
      "metadata": {
        "colab": {
          "base_uri": "https://localhost:8080/",
          "height": 278
        },
        "id": "4MOeZK2N3HrC",
        "outputId": "8bfbb291-35b8-4663-a6d9-37accee2a0a5"
      },
      "source": [
        "def demo():\n",
        "  print(abcd)\n",
        "demo()"
      ],
      "execution_count": 61,
      "outputs": [
        {
          "output_type": "error",
          "ename": "NameError",
          "evalue": "ignored",
          "traceback": [
            "\u001b[0;31m---------------------------------------------------------------------------\u001b[0m",
            "\u001b[0;31mNameError\u001b[0m                                 Traceback (most recent call last)",
            "\u001b[0;32m<ipython-input-61-1edacbb03e2a>\u001b[0m in \u001b[0;36m<module>\u001b[0;34m()\u001b[0m\n\u001b[1;32m      1\u001b[0m \u001b[0;32mdef\u001b[0m \u001b[0mdemo\u001b[0m\u001b[0;34m(\u001b[0m\u001b[0;34m)\u001b[0m\u001b[0;34m:\u001b[0m\u001b[0;34m\u001b[0m\u001b[0;34m\u001b[0m\u001b[0m\n\u001b[1;32m      2\u001b[0m   \u001b[0mprint\u001b[0m\u001b[0;34m(\u001b[0m\u001b[0mabcd\u001b[0m\u001b[0;34m)\u001b[0m\u001b[0;34m\u001b[0m\u001b[0;34m\u001b[0m\u001b[0m\n\u001b[0;32m----> 3\u001b[0;31m \u001b[0mdemo\u001b[0m\u001b[0;34m(\u001b[0m\u001b[0;34m)\u001b[0m\u001b[0;34m\u001b[0m\u001b[0;34m\u001b[0m\u001b[0m\n\u001b[0m",
            "\u001b[0;32m<ipython-input-61-1edacbb03e2a>\u001b[0m in \u001b[0;36mdemo\u001b[0;34m()\u001b[0m\n\u001b[1;32m      1\u001b[0m \u001b[0;32mdef\u001b[0m \u001b[0mdemo\u001b[0m\u001b[0;34m(\u001b[0m\u001b[0;34m)\u001b[0m\u001b[0;34m:\u001b[0m\u001b[0;34m\u001b[0m\u001b[0;34m\u001b[0m\u001b[0m\n\u001b[0;32m----> 2\u001b[0;31m   \u001b[0mprint\u001b[0m\u001b[0;34m(\u001b[0m\u001b[0mabcd\u001b[0m\u001b[0;34m)\u001b[0m\u001b[0;34m\u001b[0m\u001b[0;34m\u001b[0m\u001b[0m\n\u001b[0m\u001b[1;32m      3\u001b[0m \u001b[0mdemo\u001b[0m\u001b[0;34m(\u001b[0m\u001b[0;34m)\u001b[0m\u001b[0;34m\u001b[0m\u001b[0;34m\u001b[0m\u001b[0m\n",
            "\u001b[0;31mNameError\u001b[0m: name 'abcd' is not defined"
          ]
        }
      ]
    },
    {
      "cell_type": "code",
      "metadata": {
        "colab": {
          "base_uri": "https://localhost:8080/",
          "height": 228
        },
        "id": "6dK6N3Lj3eAt",
        "outputId": "7fc48019-5e06-406e-ffb7-5101f545e35e"
      },
      "source": [
        "demo()"
      ],
      "execution_count": 59,
      "outputs": [
        {
          "output_type": "error",
          "ename": "NameError",
          "evalue": "ignored",
          "traceback": [
            "\u001b[0;31m---------------------------------------------------------------------------\u001b[0m",
            "\u001b[0;31mNameError\u001b[0m                                 Traceback (most recent call last)",
            "\u001b[0;32m<ipython-input-59-0ac004a6afed>\u001b[0m in \u001b[0;36m<module>\u001b[0;34m()\u001b[0m\n\u001b[0;32m----> 1\u001b[0;31m \u001b[0mdemo\u001b[0m\u001b[0;34m(\u001b[0m\u001b[0;34m)\u001b[0m\u001b[0;34m\u001b[0m\u001b[0;34m\u001b[0m\u001b[0m\n\u001b[0m",
            "\u001b[0;32m<ipython-input-58-a4e33c55fac1>\u001b[0m in \u001b[0;36mdemo\u001b[0;34m()\u001b[0m\n\u001b[1;32m      1\u001b[0m \u001b[0;32mdef\u001b[0m \u001b[0mdemo\u001b[0m\u001b[0;34m(\u001b[0m\u001b[0;34m)\u001b[0m\u001b[0;34m:\u001b[0m\u001b[0;34m\u001b[0m\u001b[0;34m\u001b[0m\u001b[0m\n\u001b[0;32m----> 2\u001b[0;31m   \u001b[0mprint\u001b[0m\u001b[0;34m(\u001b[0m\u001b[0mabcd\u001b[0m\u001b[0;34m)\u001b[0m\u001b[0;34m\u001b[0m\u001b[0;34m\u001b[0m\u001b[0m\n\u001b[0m",
            "\u001b[0;31mNameError\u001b[0m: name 'abcd' is not defined"
          ]
        }
      ]
    },
    {
      "cell_type": "code",
      "metadata": {
        "colab": {
          "base_uri": "https://localhost:8080/"
        },
        "id": "31wwZJFY3hPV",
        "outputId": "783963ac-581f-4ea6-f6df-eeca0957f3d2"
      },
      "source": [
        "try:\n",
        "  def demo():\n",
        "    print(abcd)\n",
        "  demo()\n",
        "except:\n",
        "  print(\"variable is not defined\")"
      ],
      "execution_count": 60,
      "outputs": [
        {
          "output_type": "stream",
          "name": "stdout",
          "text": [
            "variable is not defined\n"
          ]
        }
      ]
    },
    {
      "cell_type": "code",
      "metadata": {
        "id": "2abv0hTg3t_c"
      },
      "source": [
        "#type error"
      ],
      "execution_count": 62,
      "outputs": []
    },
    {
      "cell_type": "code",
      "metadata": {
        "colab": {
          "base_uri": "https://localhost:8080/",
          "height": 228
        },
        "id": "2OAPX6Zg3-YP",
        "outputId": "5bef3def-0d84-4f56-d9a3-fbd07b7cc237"
      },
      "source": [
        "lista=[1,2,3,4,5]\n",
        "string=\"hello all\"\n",
        "lista+string\n",
        "for i in range(10):\n",
        "  print(i)"
      ],
      "execution_count": 65,
      "outputs": [
        {
          "output_type": "error",
          "ename": "TypeError",
          "evalue": "ignored",
          "traceback": [
            "\u001b[0;31m---------------------------------------------------------------------------\u001b[0m",
            "\u001b[0;31mTypeError\u001b[0m                                 Traceback (most recent call last)",
            "\u001b[0;32m<ipython-input-65-6eb9f3d0e7c5>\u001b[0m in \u001b[0;36m<module>\u001b[0;34m()\u001b[0m\n\u001b[1;32m      1\u001b[0m \u001b[0mlista\u001b[0m\u001b[0;34m=\u001b[0m\u001b[0;34m[\u001b[0m\u001b[0;36m1\u001b[0m\u001b[0;34m,\u001b[0m\u001b[0;36m2\u001b[0m\u001b[0;34m,\u001b[0m\u001b[0;36m3\u001b[0m\u001b[0;34m,\u001b[0m\u001b[0;36m4\u001b[0m\u001b[0;34m,\u001b[0m\u001b[0;36m5\u001b[0m\u001b[0;34m]\u001b[0m\u001b[0;34m\u001b[0m\u001b[0;34m\u001b[0m\u001b[0m\n\u001b[1;32m      2\u001b[0m \u001b[0mstring\u001b[0m\u001b[0;34m=\u001b[0m\u001b[0;34m\"hello all\"\u001b[0m\u001b[0;34m\u001b[0m\u001b[0;34m\u001b[0m\u001b[0m\n\u001b[0;32m----> 3\u001b[0;31m \u001b[0mlista\u001b[0m\u001b[0;34m+\u001b[0m\u001b[0mstring\u001b[0m\u001b[0;34m\u001b[0m\u001b[0;34m\u001b[0m\u001b[0m\n\u001b[0m\u001b[1;32m      4\u001b[0m \u001b[0;32mfor\u001b[0m \u001b[0mi\u001b[0m \u001b[0;32min\u001b[0m \u001b[0mrange\u001b[0m\u001b[0;34m(\u001b[0m\u001b[0;36m10\u001b[0m\u001b[0;34m)\u001b[0m\u001b[0;34m:\u001b[0m\u001b[0;34m\u001b[0m\u001b[0;34m\u001b[0m\u001b[0m\n\u001b[1;32m      5\u001b[0m   \u001b[0mprint\u001b[0m\u001b[0;34m(\u001b[0m\u001b[0mi\u001b[0m\u001b[0;34m)\u001b[0m\u001b[0;34m\u001b[0m\u001b[0;34m\u001b[0m\u001b[0m\n",
            "\u001b[0;31mTypeError\u001b[0m: can only concatenate list (not \"str\") to list"
          ]
        }
      ]
    },
    {
      "cell_type": "code",
      "metadata": {
        "colab": {
          "base_uri": "https://localhost:8080/"
        },
        "id": "FgnRzKK24FRA",
        "outputId": "1b3cfd73-7cd6-47bd-9b77-2bf20e92e336"
      },
      "source": [
        "lista=[1,2,3,4,5]\n",
        "string=input(\"enter the string: \")\n",
        "try:\n",
        "  lista+string\n",
        "except:\n",
        "  fileerror=open('/content/errorlogs.txt','a')\n",
        "  fileerror.write('\\n')\n",
        "  a=\"concatenation is not possible for user input: \"+ string\n",
        "  fileerror.write(a)\n",
        "  fileerror.close()\n",
        "\n",
        "for i in range(10):\n",
        "  print(i)\n"
      ],
      "execution_count": 70,
      "outputs": [
        {
          "output_type": "stream",
          "name": "stdout",
          "text": [
            "enter the string: DAIICT\n",
            "0\n",
            "1\n",
            "2\n",
            "3\n",
            "4\n",
            "5\n",
            "6\n",
            "7\n",
            "8\n",
            "9\n"
          ]
        }
      ]
    },
    {
      "cell_type": "code",
      "metadata": {
        "id": "BHKQ3yJo4aQd"
      },
      "source": [
        ""
      ],
      "execution_count": null,
      "outputs": []
    }
  ]
}